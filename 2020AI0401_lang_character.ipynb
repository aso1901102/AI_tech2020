{
  "nbformat": 4,
  "nbformat_minor": 0,
  "metadata": {
    "colab": {
      "name": "2020AI0401-lang-character.ipynb",
      "provenance": [],
      "authorship_tag": "ABX9TyPOFAWVh7x3gCDscQD0BCcZ",
      "include_colab_link": true
    },
    "kernelspec": {
      "name": "python3",
      "display_name": "Python 3"
    }
  },
  "cells": [
    {
      "cell_type": "markdown",
      "metadata": {
        "id": "view-in-github",
        "colab_type": "text"
      },
      "source": [
        "<a href=\"https://colab.research.google.com/github/aso1901102/AI_tech2020/blob/master/2020AI0401_lang_character.ipynb\" target=\"_parent\"><img src=\"https://colab.research.google.com/assets/colab-badge.svg\" alt=\"Open In Colab\"/></a>"
      ]
    },
    {
      "cell_type": "markdown",
      "metadata": {
        "id": "jMam1cmGOY8f"
      },
      "source": [
        "### 異なる文字を使う言語を分類する"
      ]
    },
    {
      "cell_type": "markdown",
      "metadata": {
        "id": "GGdXSvxoOe77"
      },
      "source": [
        "### ライブラリのImport"
      ]
    },
    {
      "cell_type": "code",
      "metadata": {
        "id": "4Zkfsfd2Grav"
      },
      "source": [
        "import numpy as np\r\n",
        "from sklearn.naive_bayes import GaussianNB\r\n",
        "from sklearn.metrics import accuracy_score"
      ],
      "execution_count": 1,
      "outputs": []
    },
    {
      "cell_type": "markdown",
      "metadata": {
        "id": "BPhlcaCiPJ8F"
      },
      "source": [
        "### 文字コードのあたりをインデックス化した配列を作って、各コード値（コードポイント）毎に文章中の出現頻度をカウントする関数を定義\r\n"
      ]
    },
    {
      "cell_type": "code",
      "metadata": {
        "id": "neSEwYKPOswd"
      },
      "source": [
        "# Unicode文字列の文字列コード値（コードポイント）頻度を測定する関数\r\n",
        "def count_codePoint(str):\r\n",
        "  # Unicodeのコードポイントをインデックス位置（アドレス）の配列を用意\r\n",
        "  counter = np.zeros(65535)\r\n",
        "  # strの分だけループ\r\n",
        "  for i in range(len(str)):\r\n",
        "    # 書く文字のコード値を変数に代入\r\n",
        "    code_point = ord(str[i])\r\n",
        "\r\n",
        "    # Unicodeの範囲外ならスルー\r\n",
        "    if code_point > 65535:\r\n",
        "      continue\r\n",
        "    # if ここまで\r\n",
        "\r\n",
        "    # 対応するアドレスの出現回数をインクリメント\r\n",
        "    counter[code_point] += 1\r\n",
        "    # 各要素数を文字数で割って出現率を割り出す\r\n",
        "    counter = counter / len(str)\r\n",
        "    return counter"
      ],
      "execution_count": 2,
      "outputs": []
    },
    {
      "cell_type": "markdown",
      "metadata": {
        "id": "VQda3ZlrS4vO"
      },
      "source": [
        "### 学習用データを作成する"
      ]
    },
    {
      "cell_type": "code",
      "metadata": {
        "id": "kxhH_qJ-S8zj"
      },
      "source": [
        "# 学習用データの準備\r\n",
        "ja_str = \"これは日本語の文章です。\"\r\n",
        "en_str = \"This is English Sentences\"\r\n",
        "th_str = \"นี่เป็นประโยคภาษาไทย\"\r\n",
        "\r\n",
        "# それぞれの出現頻度を3つの要素で説明変数ｘを作る\r\n",
        "x_train = [count_codePoint(ja_str), count_codePoint(en_str),count_codePoint(th_str)]\r\n",
        "# 同じ順番で正解となる目的変数（ラベル）を作る\r\n",
        "y_train = [\"ja\", \"en\", \"th\"]"
      ],
      "execution_count": 3,
      "outputs": []
    },
    {
      "cell_type": "markdown",
      "metadata": {
        "id": "3mmOz73xUyym"
      },
      "source": [
        "### 言語ごとの文字パターンを学習する\r\n"
      ]
    },
    {
      "cell_type": "code",
      "metadata": {
        "colab": {
          "base_uri": "https://localhost:8080/"
        },
        "id": "-WknWePrT3eJ",
        "outputId": "8ad502b1-671e-4f44-9ef2-35c720d823ec"
      },
      "source": [
        "# ガウス分布によるナイーブベイズアルゴリズムで学習モデルを作る\r\n",
        "clf = GaussianNB()\r\n",
        "clf.fit(x_train, y_train)"
      ],
      "execution_count": 4,
      "outputs": [
        {
          "output_type": "execute_result",
          "data": {
            "text/plain": [
              "GaussianNB(priors=None, var_smoothing=1e-09)"
            ]
          },
          "metadata": {
            "tags": []
          },
          "execution_count": 4
        }
      ]
    },
    {
      "cell_type": "markdown",
      "metadata": {
        "id": "WLIUt-wgVevN"
      },
      "source": [
        "### テスト検証用データ作成"
      ]
    },
    {
      "cell_type": "code",
      "metadata": {
        "id": "v_9pLkRTVhVj"
      },
      "source": [
        "# テスト検証用データ（評価データ）の作成\r\n",
        "ja_test_str = \"こんにちは\"\r\n",
        "en_test_str = \"Hello\"\r\n",
        "th_test_str = \"สวัสดี\"\r\n",
        "\r\n",
        "# 説明変数（ｘ）を作る\r\n",
        "x_test = [count_codePoint(ja_test_str), count_codePoint(en_test_str), count_codePoint(th_test_str)]\r\n",
        "\r\n",
        "# 目的変数（ｙ）を作る\r\n",
        "y_test =[\"ja\", \"en\", \"th\"]"
      ],
      "execution_count": 5,
      "outputs": []
    },
    {
      "cell_type": "markdown",
      "metadata": {
        "id": "xvzaQMQZWcHE"
      },
      "source": [
        "### テスト検証（推論）して、評価"
      ]
    },
    {
      "cell_type": "code",
      "metadata": {
        "colab": {
          "base_uri": "https://localhost:8080/"
        },
        "id": "O8IYW5CnWgVU",
        "outputId": "f3da778d-f185-4257-ae33-2ab19f34df7e"
      },
      "source": [
        "# 推論させる\r\n",
        "y_pred = clf.predict(x_test)\r\n",
        "print(\"1つ目の文章の言語は\", y_pred[0], \"です。\")\r\n",
        "print(\"2つ目の文章の言語は\", y_pred[1], \"です。\")\r\n",
        "print(\"3つ目の文章の言語は\", y_pred[2], \"です。\")\r\n",
        "print(\"正解率　=　\", accuracy_score(y_test, y_pred))"
      ],
      "execution_count": 6,
      "outputs": [
        {
          "output_type": "stream",
          "text": [
            "1つ目の文章の言語は ja です。\n",
            "2つ目の文章の言語は en です。\n",
            "3つ目の文章の言語は en です。\n",
            "正解率　=　 0.6666666666666666\n"
          ],
          "name": "stdout"
        }
      ]
    },
    {
      "cell_type": "code",
      "metadata": {
        "id": "m3mOOThQXHWW"
      },
      "source": [
        ""
      ],
      "execution_count": 6,
      "outputs": []
    }
  ]
}