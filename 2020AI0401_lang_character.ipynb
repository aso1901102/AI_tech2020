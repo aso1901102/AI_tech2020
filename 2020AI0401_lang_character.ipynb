{
  "nbformat": 4,
  "nbformat_minor": 0,
  "metadata": {
    "colab": {
      "name": "2020AI0401-lang-character.ipynb",
      "provenance": [],
      "collapsed_sections": [],
      "authorship_tag": "ABX9TyNsW29kBeV+O6LtdLVu2Gfz",
      "include_colab_link": true
    },
    "kernelspec": {
      "name": "python3",
      "display_name": "Python 3"
    }
  },
  "cells": [
    {
      "cell_type": "markdown",
      "metadata": {
        "id": "view-in-github",
        "colab_type": "text"
      },
      "source": [
        "<a href=\"https://colab.research.google.com/github/aso1901102/AI_tech2020/blob/master/2020AI0401_lang_character.ipynb\" target=\"_parent\"><img src=\"https://colab.research.google.com/assets/colab-badge.svg\" alt=\"Open In Colab\"/></a>"
      ]
    },
    {
      "cell_type": "markdown",
      "metadata": {
        "id": "jMam1cmGOY8f"
      },
      "source": [
        "### 異なる文字を使う言語を分類する"
      ]
    },
    {
      "cell_type": "markdown",
      "metadata": {
        "id": "GGdXSvxoOe77"
      },
      "source": [
        "### ライブラリのImport"
      ]
    },
    {
      "cell_type": "code",
      "metadata": {
        "id": "4Zkfsfd2Grav"
      },
      "source": [
        "import numpy as np\r\n",
        "from sklearn.naive_bayes import GaussianNB\r\n",
        "from sklearn.metrics import accuracy_score"
      ],
      "execution_count": 1,
      "outputs": []
    },
    {
      "cell_type": "markdown",
      "metadata": {
        "id": "BPhlcaCiPJ8F"
      },
      "source": [
        "### 文字コードのあたりをインデックス化した配列を作って、各コード値（コードポイント）毎に文章中の出現頻度をカウントする関数を定義\r\n"
      ]
    },
    {
      "cell_type": "code",
      "metadata": {
        "id": "neSEwYKPOswd"
      },
      "source": [
        "# Unicode文字列の文字列コード値（コードポイント）頻度を測定する関数\r\n",
        "def count_codePoint(str):\r\n",
        "  # Unicodeのコードポイントをインデックス位置（アドレス）の配列を用意\r\n",
        "  counter = np.zeros(65535)\r\n",
        "  # strの分だけループ\r\n",
        "  for i in range(len(str)):\r\n",
        "    # 書く文字のコード値を変数に代入\r\n",
        "    code_point = ord(str[i])\r\n",
        "\r\n",
        "    # Unicodeの範囲外ならスルー\r\n",
        "    if code_point > 65535:\r\n",
        "      continue\r\n",
        "    # if ここまで\r\n",
        "\r\n",
        "    # 対応するアドレスの出現回数をインクリメント\r\n",
        "    counter[code_point] += 1\r\n",
        "  # 各要素数を文字数で割って出現率を割り出す\r\n",
        "  counter = counter / len(str)\r\n",
        "  return counter"
      ],
      "execution_count": 2,
      "outputs": []
    },
    {
      "cell_type": "markdown",
      "metadata": {
        "id": "VQda3ZlrS4vO"
      },
      "source": [
        "### 学習用データを作成する"
      ]
    },
    {
      "cell_type": "code",
      "metadata": {
        "id": "kxhH_qJ-S8zj"
      },
      "source": [
        "# 学習用データの準備\r\n",
        "ja_str = \"これは日本語の文章です。\"\r\n",
        "en_str = \"This is English Sentences\"\r\n",
        "th_str = \"นี่เป็นประโยคภาษาไทย\"\r\n",
        "\r\n",
        "# それぞれの出現頻度を3つの要素で説明変数ｘを作る\r\n",
        "x_train = [count_codePoint(ja_str), count_codePoint(en_str),count_codePoint(th_str)]\r\n",
        "# 同じ順番で正解となる目的変数（ラベル）を作る\r\n",
        "y_train = [\"ja\", \"en\", \"th\"]"
      ],
      "execution_count": 3,
      "outputs": []
    },
    {
      "cell_type": "markdown",
      "metadata": {
        "id": "3mmOz73xUyym"
      },
      "source": [
        "### 言語ごとの文字パターンを学習する\r\n"
      ]
    },
    {
      "cell_type": "code",
      "metadata": {
        "colab": {
          "base_uri": "https://localhost:8080/"
        },
        "id": "-WknWePrT3eJ",
        "outputId": "92b52bef-e0e8-42ff-d934-58a252df129b"
      },
      "source": [
        "# ガウス分布によるナイーブベイズアルゴリズムで学習モデルを作る\r\n",
        "clf = GaussianNB()\r\n",
        "clf.fit(x_train, y_train)"
      ],
      "execution_count": 4,
      "outputs": [
        {
          "output_type": "execute_result",
          "data": {
            "text/plain": [
              "GaussianNB(priors=None, var_smoothing=1e-09)"
            ]
          },
          "metadata": {
            "tags": []
          },
          "execution_count": 4
        }
      ]
    },
    {
      "cell_type": "markdown",
      "metadata": {
        "id": "WLIUt-wgVevN"
      },
      "source": [
        "### テスト検証用データ作成"
      ]
    },
    {
      "cell_type": "code",
      "metadata": {
        "id": "v_9pLkRTVhVj"
      },
      "source": [
        "# テスト検証用データ（評価データ）の作成\r\n",
        "ja_test_str = \"こんにちは\"\r\n",
        "en_test_str = \"Hello\"\r\n",
        "th_test_str = \"สวัสดี\"\r\n",
        "\r\n",
        "# 説明変数（ｘ）を作る\r\n",
        "x_test = [count_codePoint(ja_test_str), count_codePoint(en_test_str), count_codePoint(th_test_str)]\r\n",
        "\r\n",
        "# 目的変数（ｙ）を作る\r\n",
        "y_test =[\"ja\", \"en\", \"th\"]"
      ],
      "execution_count": 5,
      "outputs": []
    },
    {
      "cell_type": "markdown",
      "metadata": {
        "id": "xvzaQMQZWcHE"
      },
      "source": [
        "### テスト検証（推論）して、評価"
      ]
    },
    {
      "cell_type": "code",
      "metadata": {
        "colab": {
          "base_uri": "https://localhost:8080/"
        },
        "id": "O8IYW5CnWgVU",
        "outputId": "bda391ba-b604-4f57-f3d0-9aef722ba3df"
      },
      "source": [
        "# 推論させる\r\n",
        "y_pred = clf.predict(x_test)\r\n",
        "print(\"1つ目の文章の言語は\", y_pred[0], \"です。\")\r\n",
        "print(\"2つ目の文章の言語は\", y_pred[1], \"です。\")\r\n",
        "print(\"3つ目の文章の言語は\", y_pred[2], \"です。\")\r\n",
        "print(\"正解率　=　\", accuracy_score(y_test, y_pred))"
      ],
      "execution_count": 6,
      "outputs": [
        {
          "output_type": "stream",
          "text": [
            "1つ目の文章の言語は ja です。\n",
            "2つ目の文章の言語は en です。\n",
            "3つ目の文章の言語は th です。\n",
            "正解率　=　 1.0\n"
          ],
          "name": "stdout"
        }
      ]
    },
    {
      "cell_type": "markdown",
      "metadata": {
        "id": "2LHKF94O4sIY"
      },
      "source": [
        "### 同じ文字を使用する言語を分類"
      ]
    },
    {
      "cell_type": "markdown",
      "metadata": {
        "id": "HEJgihR84ykP"
      },
      "source": [
        "### サンプルデータとして使うWikipedia記事のテキストデータをDL"
      ]
    },
    {
      "cell_type": "code",
      "metadata": {
        "id": "m3mOOThQXHWW",
        "colab": {
          "base_uri": "https://localhost:8080/"
        },
        "outputId": "fe337ebb-4fee-4afe-bea2-127293adfa32"
      },
      "source": [
        "import urllib.request as req\r\n",
        "\r\n",
        "# 学習用データ\r\n",
        "url = \"https://github.com/masatokg/sample_photo/raw/master/train.zip\"\r\n",
        "save_file = \"test.zip\"\r\n",
        "req.urlretrieve(url, save_file)\r\n",
        "\r\n",
        "# テスト用データ\r\n",
        "url = \"https://github.com/masatokg/sample_photo/raw/master/test.zip\"\r\n",
        "save_file = \"test.zip\"\r\n",
        "req.urlretrieve(url, save_file)\r\n",
        "\r\n",
        "# unzip（解凍）\r\n",
        "!unzip -o -q \"./train.zip\"\r\n",
        "print(\"train.zip解凍\")\r\n",
        "!unzip -o -q \"./test.zip\"\r\n",
        "print(\"test.zip解凍\")"
      ],
      "execution_count": 7,
      "outputs": [
        {
          "output_type": "stream",
          "text": [
            "train.zip解凍\n",
            "test.zip解凍\n"
          ],
          "name": "stdout"
        }
      ]
    },
    {
      "cell_type": "markdown",
      "metadata": {
        "id": "vpKjeS4G6tZI"
      },
      "source": [
        "### DLしたテキストのうち、学習用を読み込んで学習用の説明変数と目的変数を作る"
      ]
    },
    {
      "cell_type": "code",
      "metadata": {
        "colab": {
          "base_uri": "https://localhost:8080/"
        },
        "id": "hH_hU3b_6TyS",
        "outputId": "e26b1db5-e964-40a8-c750-3fc1093d9c88"
      },
      "source": [
        "import glob\r\n",
        "\r\n",
        "# 学習データの準備\r\n",
        "index = 0\r\n",
        "x_train = []\r\n",
        "y_train = []\r\n",
        "\r\n",
        "# trainフォルダのtxt拡張子ファイル分ループ\r\n",
        "for file in glob.glob(\"./train/*.txt\"):\r\n",
        "  # 言語情報のキーワードになるものを文中から取得してラベルを設定\r\n",
        "  y_train.append(file[8:10])\r\n",
        "  print(\"ファイルパスの一部をラベルにする：\", file, \" = \", file[8:10])\r\n",
        "  print(y_train)\r\n",
        "\r\n",
        "  # ファイル文字列を連結後、コードポイント頻度を測定して、説明変数に設定\r\n",
        "  file_str = \"\"\r\n",
        "  # ファイルを開いて、一行ずつ文字列連結\r\n",
        "  for line in open(file, 'r'):\r\n",
        "    file_str = (file_str + line)\r\n",
        "\r\n",
        "  x_train.append(count_codePoint(file_str))\r\n",
        "\r\n",
        "print(x_train)\r\n"
      ],
      "execution_count": 8,
      "outputs": [
        {
          "output_type": "stream",
          "text": [
            "ファイルパスの一部をラベルにする： ./train/de_cat.txt  =  de\n",
            "['de']\n",
            "ファイルパスの一部をラベルにする： ./train/en_cat.txt  =  en\n",
            "['de', 'en']\n",
            "ファイルパスの一部をラベルにする： ./train/es_dog.txt  =  es\n",
            "['de', 'en', 'es']\n",
            "ファイルパスの一部をラベルにする： ./train/es_elephant.txt  =  es\n",
            "['de', 'en', 'es', 'es']\n",
            "ファイルパスの一部をラベルにする： ./train/de_elephant.txt  =  de\n",
            "['de', 'en', 'es', 'es', 'de']\n",
            "ファイルパスの一部をラベルにする： ./train/de_dog.txt  =  de\n",
            "['de', 'en', 'es', 'es', 'de', 'de']\n",
            "ファイルパスの一部をラベルにする： ./train/en_elephant.txt  =  en\n",
            "['de', 'en', 'es', 'es', 'de', 'de', 'en']\n",
            "ファイルパスの一部をラベルにする： ./train/es_cat.txt  =  es\n",
            "['de', 'en', 'es', 'es', 'de', 'de', 'en', 'es']\n",
            "ファイルパスの一部をラベルにする： ./train/en_dog.txt  =  en\n",
            "['de', 'en', 'es', 'es', 'de', 'de', 'en', 'es', 'en']\n",
            "[array([0., 0., 0., ..., 0., 0., 0.]), array([0., 0., 0., ..., 0., 0., 0.]), array([0., 0., 0., ..., 0., 0., 0.]), array([0., 0., 0., ..., 0., 0., 0.]), array([0., 0., 0., ..., 0., 0., 0.]), array([0., 0., 0., ..., 0., 0., 0.]), array([0., 0., 0., ..., 0., 0., 0.]), array([0., 0., 0., ..., 0., 0., 0.]), array([0., 0., 0., ..., 0., 0., 0.])]\n"
          ],
          "name": "stdout"
        }
      ]
    },
    {
      "cell_type": "markdown",
      "metadata": {
        "id": "agczcsh-9Jgx"
      },
      "source": [
        "### 作成した学習データをガウス分布のナイーブベイス(GaussianNB)で学習"
      ]
    },
    {
      "cell_type": "code",
      "metadata": {
        "id": "N0QZuJUN8xNm",
        "colab": {
          "base_uri": "https://localhost:8080/"
        },
        "outputId": "785b4c81-8507-4dda-aba5-687c26fca295"
      },
      "source": [
        "# 学習モデルインスタンスの生成\r\n",
        "clf = GaussianNB()\r\n",
        "clf.fit(x_train, y_train)"
      ],
      "execution_count": 9,
      "outputs": [
        {
          "output_type": "execute_result",
          "data": {
            "text/plain": [
              "GaussianNB(priors=None, var_smoothing=1e-09)"
            ]
          },
          "metadata": {
            "tags": []
          },
          "execution_count": 9
        }
      ]
    },
    {
      "cell_type": "markdown",
      "metadata": {
        "id": "vJbD217YHlhq"
      },
      "source": [
        "### DLしたテキストのうち、テスト用を読み込み、テスト用を説明変数、目的変数データを作る"
      ]
    },
    {
      "cell_type": "code",
      "metadata": {
        "colab": {
          "base_uri": "https://localhost:8080/"
        },
        "id": "gdnGo6qZHg2j",
        "outputId": "1f33635d-7114-4b3f-9f40-81cf5bc74a01"
      },
      "source": [
        "# テスト用データの生成\r\n",
        "index = 0\r\n",
        "x_test = [] # 説明変数\r\n",
        "y_test = [] # 目的変数\r\n",
        "\r\n",
        "# testフォルダのtxt拡張子ファイルをループ\r\n",
        "for file in glob.glob(\"./test/*.txt\"):\r\n",
        "  # 言語情報になるキーワードをパスから抜き出し、ラベルにする\r\n",
        "  y_test.append(file[7:9])\r\n",
        "  print(\"ファイルパスの一部をラベルにする：\", file, \" = \", file[7:9])\r\n",
        "\r\n",
        "  # ファイル内の文字列を連結する\r\n",
        "  file_str = \"\"\r\n",
        "\r\n",
        "  # ファイル内一行ずつを文字列連結\r\n",
        "  for line in open(file, 'r'):\r\n",
        "    file_str = file_str + line\r\n",
        "\r\n",
        "  # ファイル内の文字列Unicode値（Unicodeポイント）頻度を測定し、説明変数として設定\r\n",
        "  x_test.append(count_codePoint(file_str))"
      ],
      "execution_count": 10,
      "outputs": [
        {
          "output_type": "stream",
          "text": [
            "ファイルパスの一部をラベルにする： ./test/en_lion.txt  =  en\n",
            "ファイルパスの一部をラベルにする： ./test/es_lion.txt  =  es\n",
            "ファイルパスの一部をラベルにする： ./test/de_lion.txt  =  de\n"
          ],
          "name": "stdout"
        }
      ]
    },
    {
      "cell_type": "markdown",
      "metadata": {
        "id": "5dtkraNSJbDy"
      },
      "source": [
        "### 学習モデルで推論し、評価する"
      ]
    },
    {
      "cell_type": "code",
      "metadata": {
        "colab": {
          "base_uri": "https://localhost:8080/"
        },
        "id": "m1gOkUJPJh02",
        "outputId": "ca581103-124b-44cd-b1a1-7cd26978a608"
      },
      "source": [
        "# 推論する\r\n",
        "y_pred  = clf.predict(x_test)\r\n",
        "print(y_pred)\r\n",
        "\r\n",
        "print(\"正解率　=　\", accuracy_score(y_test,y_pred))"
      ],
      "execution_count": 11,
      "outputs": [
        {
          "output_type": "stream",
          "text": [
            "['en' 'es' 'de']\n",
            "正解率　=　 1.0\n"
          ],
          "name": "stdout"
        }
      ]
    }
  ]
}