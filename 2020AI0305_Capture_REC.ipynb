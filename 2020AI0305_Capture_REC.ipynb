{
  "nbformat": 4,
  "nbformat_minor": 0,
  "metadata": {
    "colab": {
      "name": "2020AI0305-Capture-REC.ipynb",
      "provenance": [],
      "authorship_tag": "ABX9TyPtVnrNIAVMHiEzztkIrDBR",
      "include_colab_link": true
    },
    "kernelspec": {
      "name": "python3",
      "display_name": "Python 3"
    }
  },
  "cells": [
    {
      "cell_type": "markdown",
      "metadata": {
        "id": "view-in-github",
        "colab_type": "text"
      },
      "source": [
        "<a href=\"https://colab.research.google.com/github/aso1901102/AI_tech2020/blob/master/2020AI0305_Capture_REC.ipynb\" target=\"_parent\"><img src=\"https://colab.research.google.com/assets/colab-badge.svg\" alt=\"Open In Colab\"/></a>"
      ]
    },
    {
      "cell_type": "markdown",
      "metadata": {
        "id": "oT8bMvjGMH8y"
      },
      "source": [
        "## カメラや動画ファイルからキャプチャ内容を加工して録画する"
      ]
    },
    {
      "cell_type": "markdown",
      "metadata": {
        "id": "nnTPuzNPMZKb"
      },
      "source": [
        "### ライブラリのDL\n"
      ]
    },
    {
      "cell_type": "code",
      "metadata": {
        "id": "f-T39BLuLG1T"
      },
      "source": [
        "import cv2, os\n",
        "import urllib.request as req"
      ],
      "execution_count": 1,
      "outputs": []
    },
    {
      "cell_type": "markdown",
      "metadata": {
        "id": "SuFZeaPBMuaT"
      },
      "source": [
        "### 動画ファイルのDL"
      ]
    },
    {
      "cell_type": "code",
      "metadata": {
        "colab": {
          "base_uri": "https://localhost:8080/"
        },
        "id": "9ISyO5X1Mt4N",
        "outputId": "dd8a74a6-63a9-4919-b8b9-4196bb35776b"
      },
      "source": [
        "url = \"https://github.com/masatokg/sample_photo/raw/master/fish.mp4\"\n",
        "save_file = \"fish.mp4\"\n",
        "req.urlretrieve(url, save_file)"
      ],
      "execution_count": 2,
      "outputs": [
        {
          "output_type": "execute_result",
          "data": {
            "text/plain": [
              "('fish.mp4', <http.client.HTTPMessage at 0x7f5123038208>)"
            ]
          },
          "metadata": {
            "tags": []
          },
          "execution_count": 2
        }
      ]
    },
    {
      "cell_type": "markdown",
      "metadata": {
        "id": "uUK9GQbUNDMa"
      },
      "source": [
        "### キャプチャ処理用の定義"
      ]
    },
    {
      "cell_type": "code",
      "metadata": {
        "id": "1H9B5T6lNCdJ"
      },
      "source": [
        "out_file = \"out.mp4\"\n",
        "\n",
        "#　キャプチャソースを指定してインスタンスを取得\n",
        "#　Webカメラの場合0、動画ファイルの時：ファイルパス\n",
        "cap = cv2.VideoCapture(save_file)\n",
        "\n",
        "#  動画フォーマットを指定するインスタンスを取得\n",
        "fourcc = cv2.VideoWriter_fourcc('M', 'P', '4', 'V')\n",
        "\n",
        "#　フレームレート(fps)で指定\n",
        "fps = 30.0"
      ],
      "execution_count": 3,
      "outputs": []
    },
    {
      "cell_type": "markdown",
      "metadata": {
        "id": "rDPWpvbyOHep"
      },
      "source": [
        "### キャプチャしたフレームの加工処理用関数　\n"
      ]
    },
    {
      "cell_type": "code",
      "metadata": {
        "id": "1f5uepmHNN9m"
      },
      "source": [
        "# フレームを引数で受け取り、加工して戻り値で返す\n",
        "def process_img(frame):\n",
        "  # 加工処理\n",
        "  # BGRのうち、BGだけ0にしてRだけを残す\n",
        "  frame[:, :, 0] = 0;  #青を0\n",
        "  frame[:, :, 1] = 0;  #緑を0\n",
        "\n",
        "  return frame"
      ],
      "execution_count": 4,
      "outputs": []
    },
    {
      "cell_type": "markdown",
      "metadata": {
        "id": "3Qa6WUmzPRig"
      },
      "source": [
        "### フレームを受け取って、そのフレームサイズでキャプチャ画像を録画する為のレコーダを戻り値で返す関数\n"
      ]
    },
    {
      "cell_type": "code",
      "metadata": {
        "id": "XKL7VIpwPF_V"
      },
      "source": [
        "def open_recorder(frame):\n",
        "  # フレームの高さ（Numpy配列の2次元配列の行数）\n",
        "  h = len(frame)\n",
        "  # フレームの幅　（Numpy配列の2次元配列の列数）\n",
        "  w = len(frame[0])\n",
        "  # フレームサイズをタプル変数で定義\n",
        "  size = (w, h)\n",
        "\n",
        "  # レコーダのインスタンスを生成\n",
        "  recorder = cv2.VideoWriter(out_file, fourcc, fps, size, isColor=True)\n",
        "\n",
        "  return recorder"
      ],
      "execution_count": 5,
      "outputs": []
    },
    {
      "cell_type": "markdown",
      "metadata": {
        "id": "k9m_URtzQq8Y"
      },
      "source": [
        "### キャプチャの読み込み処理を実行"
      ]
    },
    {
      "cell_type": "code",
      "metadata": {
        "id": "imrSXL9oQjWo"
      },
      "source": [
        "# フレーム読み込み\n",
        "is_ok, frame = cap.read()\n",
        "\n",
        "#　読み込みに成功したら、フレームを録画するレコーダを開く\n",
        "if is_ok:\n",
        "  # フレームを録画するレコーダを開く関数を実行\n",
        "  recorder = open_recorder(frame)\n",
        "  # 読み込み処理がなくなるまでループ\n",
        "  while True:\n",
        "    #　読み込んだフレームを加工\n",
        "    frame = process_img(frame)\n",
        "    #　加工したレコーダに書き込む\n",
        "    recorder.write(frame)\n",
        "    #　次のフレームを読み込む\n",
        "    is_ok, frame = cap.read()\n",
        "    #　読み込むフレームがなかったら、ループをbreak\n",
        "    if is_ok is not True:\n",
        "      break\n",
        "  # while ここまで\n",
        "else:\n",
        "  print(\"There's no files\")\n",
        "\n",
        "# if ここまで"
      ],
      "execution_count": 6,
      "outputs": []
    },
    {
      "cell_type": "markdown",
      "metadata": {
        "id": "EwCH_H_HTbei"
      },
      "source": [
        "### 後処理とDL"
      ]
    },
    {
      "cell_type": "code",
      "metadata": {
        "colab": {
          "base_uri": "https://localhost:8080/",
          "height": 34
        },
        "id": "FzPSmQepTcUU",
        "outputId": "8303b939-792a-47cf-fc2c-de26d001208f"
      },
      "source": [
        "# レコーダの開放\n",
        "recorder.release()\n",
        "# キャプチャの開放\n",
        "cap.release()\n",
        "# メッセージの表示\n",
        "print(\"Capture and Record END\")\n",
        "# 出力MP4ファイルのDL処理\n",
        "from google.colab import files\n",
        "files.download(out_file)"
      ],
      "execution_count": 7,
      "outputs": [
        {
          "output_type": "stream",
          "text": [
            "Capture and Record END\n"
          ],
          "name": "stdout"
        },
        {
          "output_type": "display_data",
          "data": {
            "application/javascript": [
              "\n",
              "    async function download(id, filename, size) {\n",
              "      if (!google.colab.kernel.accessAllowed) {\n",
              "        return;\n",
              "      }\n",
              "      const div = document.createElement('div');\n",
              "      const label = document.createElement('label');\n",
              "      label.textContent = `Downloading \"${filename}\": `;\n",
              "      div.appendChild(label);\n",
              "      const progress = document.createElement('progress');\n",
              "      progress.max = size;\n",
              "      div.appendChild(progress);\n",
              "      document.body.appendChild(div);\n",
              "\n",
              "      const buffers = [];\n",
              "      let downloaded = 0;\n",
              "\n",
              "      const channel = await google.colab.kernel.comms.open(id);\n",
              "      // Send a message to notify the kernel that we're ready.\n",
              "      channel.send({})\n",
              "\n",
              "      for await (const message of channel.messages) {\n",
              "        // Send a message to notify the kernel that we're ready.\n",
              "        channel.send({})\n",
              "        if (message.buffers) {\n",
              "          for (const buffer of message.buffers) {\n",
              "            buffers.push(buffer);\n",
              "            downloaded += buffer.byteLength;\n",
              "            progress.value = downloaded;\n",
              "          }\n",
              "        }\n",
              "      }\n",
              "      const blob = new Blob(buffers, {type: 'application/binary'});\n",
              "      const a = document.createElement('a');\n",
              "      a.href = window.URL.createObjectURL(blob);\n",
              "      a.download = filename;\n",
              "      div.appendChild(a);\n",
              "      a.click();\n",
              "      div.remove();\n",
              "    }\n",
              "  "
            ],
            "text/plain": [
              "<IPython.core.display.Javascript object>"
            ]
          },
          "metadata": {
            "tags": []
          }
        },
        {
          "output_type": "display_data",
          "data": {
            "application/javascript": [
              "download(\"download_d84e2abc-84ce-4294-ba69-4f2c73c8ca71\", \"out.mp4\", 11128507)"
            ],
            "text/plain": [
              "<IPython.core.display.Javascript object>"
            ]
          },
          "metadata": {
            "tags": []
          }
        }
      ]
    },
    {
      "cell_type": "code",
      "metadata": {
        "id": "zVqWjJrKWGKt"
      },
      "source": [
        ""
      ],
      "execution_count": 7,
      "outputs": []
    }
  ]
}