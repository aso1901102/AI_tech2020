{
  "nbformat": 4,
  "nbformat_minor": 0,
  "metadata": {
    "colab": {
      "name": "2020AI0305-fishvideo-ML.ipynb",
      "provenance": [],
      "collapsed_sections": [],
      "authorship_tag": "ABX9TyMJ6opdbyC/vXLI3kJDnHKh",
      "include_colab_link": true
    },
    "kernelspec": {
      "name": "python3",
      "display_name": "Python 3"
    }
  },
  "cells": [
    {
      "cell_type": "markdown",
      "metadata": {
        "id": "view-in-github",
        "colab_type": "text"
      },
      "source": [
        "<a href=\"https://colab.research.google.com/github/aso1901102/AI_tech2020/blob/master/2020AI0305_fishvideo_ML.ipynb\" target=\"_parent\"><img src=\"https://colab.research.google.com/assets/colab-badge.svg\" alt=\"Open In Colab\"/></a>"
      ]
    },
    {
      "cell_type": "markdown",
      "metadata": {
        "id": "F0BfUzBoE9lg"
      },
      "source": [
        "### 画像を学習して動画解析に利用する"
      ]
    },
    {
      "cell_type": "markdown",
      "metadata": {
        "id": "l_MmmyOTFYEX"
      },
      "source": [
        "### 画像をDLして解凍"
      ]
    },
    {
      "cell_type": "code",
      "metadata": {
        "id": "TGGjj07PEneo"
      },
      "source": [
        "import urllib.request as req\n",
        "\n",
        "#　魚が映っているファイル\n",
        "url = \"https://github.com/masatokg/sample_photo/raw/master/fish.zip\"\n",
        "save_file = \"fish.zip\"\n",
        "req.urlretrieve(url, save_file)\n",
        "\n",
        "# 　魚が映っていないファイル\n",
        "url = \"https://github.com/masatokg/sample_photo/raw/master/nofish.zip\"\n",
        "save_file = \"nofish.zip\"\n",
        "req.urlretrieve(url, save_file)\n",
        "\n",
        "#　解答コマンド\n",
        "!unzip -o -q \"./fish.zip\"\n",
        "!unzip -o -q \"./nofish.zip\""
      ],
      "execution_count": 1,
      "outputs": []
    },
    {
      "cell_type": "markdown",
      "metadata": {
        "id": "FSPXy7EdGjKf"
      },
      "source": [
        "### 学習の為の定義"
      ]
    },
    {
      "cell_type": "code",
      "metadata": {
        "id": "KGT44t4gGiwk"
      },
      "source": [
        "import cv2\n",
        "import os, glob, pickle\n",
        "from sklearn.model_selection import train_test_split\n",
        "from sklearn import datasets, metrics\n",
        "from sklearn.ensemble import RandomForestClassifier\n",
        "from sklearn.metrics import accuracy_score"
      ],
      "execution_count": 2,
      "outputs": []
    },
    {
      "cell_type": "code",
      "metadata": {
        "colab": {
          "base_uri": "https://localhost:8080/"
        },
        "id": "iFygr6jAHBQd",
        "outputId": "445b3561-d7ac-4fce-d9c1-dc71b36b7b18"
      },
      "source": [
        "# 画像のサイズ・パスを指定\n",
        "image_size = (64,32)\n",
        "path = \"/content\"\n",
        "path_fish = path + \"/fish\"\n",
        "path_nofish = path + \"/nofish\"\n",
        "\n",
        "#画像データ（説明変数）\n",
        "x = []\n",
        "#ラベルデータ（目的変数）\n",
        "y = []\n",
        "\n",
        "print()"
      ],
      "execution_count": 3,
      "outputs": [
        {
          "output_type": "stream",
          "text": [
            "\n"
          ],
          "name": "stdout"
        }
      ]
    },
    {
      "cell_type": "markdown",
      "metadata": {
        "id": "61FWQX7uHyBW"
      },
      "source": [
        "### 学習に使う自作関数を定義"
      ]
    },
    {
      "cell_type": "code",
      "metadata": {
        "id": "WiiSMVGrHxku"
      },
      "source": [
        "# 画像データを読み込んんで説明変数、目的変数に追加する処理の関数を定義\n",
        "def read_dir(path, label, x, y, image_size):\n",
        "  #　正規表現にマッチするファイルパスリストを取得する\n",
        "  files = glob.glob(path + \"/*.jpg\")\n",
        "  print(files)\n",
        "\n",
        "  for f in files:\n",
        "    img = cv2.imread(f)\n",
        "    img = cv2.resize(img, image_size)\n",
        "    img_data = img.reshape(-1,)# 行数任意の一次元配列に変換\n",
        "    x.append(img_data)         #　画像データを説明変数に追加\n",
        "    y.append(label)           #画像データと同じ順番位置でラベル値を目的半数に追加"
      ],
      "execution_count": 4,
      "outputs": []
    },
    {
      "cell_type": "markdown",
      "metadata": {
        "id": "k33bp_lZLMLC"
      },
      "source": [
        "## 学習処理"
      ]
    },
    {
      "cell_type": "code",
      "metadata": {
        "colab": {
          "base_uri": "https://localhost:8080/"
        },
        "id": "bEX_th2YLJMK",
        "outputId": "770ebc62-df17-4a16-85c7-c028dcfac38b"
      },
      "source": [
        "read_dir(path_nofish, 0, x, y, image_size)# ラベルを０：falseで登録\n",
        "read_dir(path_fish, 1, x, y, image_size)  # ラベルを1 :Tureで登録\n",
        "\n",
        "# データを分割\n",
        "x_train, x_test, y_train, y_test = train_test_split(x, y, test_size = 0.2)\n",
        "\n",
        "# ランダムフォレストで学習モデルを生成、学習させる\n",
        "clf = RandomForestClassifier()\n",
        "clf.fit(x_train, y_train)\n",
        "\n",
        "y_pred = clf.predict(x_test)\n",
        "print(\"学習精度：\",accuracy_score(y_test, y_pred))\n",
        "\n",
        "# 学習モデルのメモリ状態をファイルに保存\n",
        "with open(\"fish.pkl\", \"wb\") as fp:\n",
        "  pickle.dump(clf, fp)"
      ],
      "execution_count": 5,
      "outputs": [
        {
          "output_type": "stream",
          "text": [
            "['/content/nofish/124.jpg', '/content/nofish/3648.jpg', '/content/nofish/3656.jpg', '/content/nofish/4.jpg', '/content/nofish/279.jpg', '/content/nofish/30.jpg', '/content/nofish/3451.jpg', '/content/nofish/3466.jpg', '/content/nofish/45.jpg', '/content/nofish/254.jpg', '/content/nofish/5.jpg', '/content/nofish/3467.jpg', '/content/nofish/12.jpg', '/content/nofish/3510.jpg', '/content/nofish/15.jpg', '/content/nofish/245.jpg', '/content/nofish/282.jpg', '/content/nofish/3588.jpg', '/content/nofish/257.jpg', '/content/nofish/25.jpg', '/content/nofish/249.jpg', '/content/nofish/3580.jpg', '/content/nofish/3601.jpg', '/content/nofish/3643.jpg', '/content/nofish/3462.jpg', '/content/nofish/26.jpg', '/content/nofish/32.jpg', '/content/nofish/3596.jpg', '/content/nofish/3597.jpg', '/content/nofish/41.jpg', '/content/nofish/3564.jpg', '/content/nofish/3469.jpg', '/content/nofish/19.jpg', '/content/nofish/3506.jpg', '/content/nofish/242.jpg', '/content/nofish/39.jpg', '/content/nofish/22.jpg', '/content/nofish/3509.jpg', '/content/nofish/7.jpg', '/content/nofish/3471.jpg', '/content/nofish/3632.jpg', '/content/nofish/3508.jpg', '/content/nofish/157.jpg', '/content/nofish/273.jpg', '/content/nofish/337.jpg', '/content/nofish/3579.jpg', '/content/nofish/3526.jpg', '/content/nofish/130.jpg', '/content/nofish/3532.jpg', '/content/nofish/281.jpg', '/content/nofish/172.jpg', '/content/nofish/3570.jpg', '/content/nofish/3455.jpg', '/content/nofish/3585.jpg', '/content/nofish/3566.jpg', '/content/nofish/3644.jpg', '/content/nofish/324.jpg', '/content/nofish/177.jpg', '/content/nofish/3446.jpg', '/content/nofish/3470.jpg', '/content/nofish/3565.jpg', '/content/nofish/16.jpg', '/content/nofish/3453.jpg', '/content/nofish/14.jpg', '/content/nofish/10.jpg', '/content/nofish/3450.jpg', '/content/nofish/3645.jpg', '/content/nofish/253.jpg', '/content/nofish/3454.jpg', '/content/nofish/3456.jpg', '/content/nofish/4033.jpg', '/content/nofish/31.jpg', '/content/nofish/280.jpg', '/content/nofish/29.jpg', '/content/nofish/18.jpg', '/content/nofish/3.jpg', '/content/nofish/3458.jpg', '/content/nofish/132.jpg', '/content/nofish/3661.jpg', '/content/nofish/3473.jpg', '/content/nofish/266.jpg', '/content/nofish/271.jpg', '/content/nofish/3507.jpg', '/content/nofish/21.jpg', '/content/nofish/3534.jpg', '/content/nofish/312.jpg', '/content/nofish/20.jpg', '/content/nofish/43.jpg', '/content/nofish/3646.jpg', '/content/nofish/24.jpg', '/content/nofish/154.jpg', '/content/nofish/0.jpg', '/content/nofish/3448.jpg', '/content/nofish/3457.jpg', '/content/nofish/17.jpg', '/content/nofish/3513.jpg', '/content/nofish/40.jpg', '/content/nofish/1.jpg', '/content/nofish/42.jpg', '/content/nofish/3595.jpg', '/content/nofish/3511.jpg', '/content/nofish/8.jpg', '/content/nofish/313.jpg', '/content/nofish/3652.jpg', '/content/nofish/28.jpg', '/content/nofish/186.jpg', '/content/nofish/13.jpg', '/content/nofish/3461.jpg', '/content/nofish/3465.jpg', '/content/nofish/3463.jpg', '/content/nofish/27.jpg', '/content/nofish/44.jpg', '/content/nofish/126.jpg', '/content/nofish/36.jpg', '/content/nofish/272.jpg', '/content/nofish/3593.jpg', '/content/nofish/3568.jpg', '/content/nofish/3584.jpg', '/content/nofish/237.jpg', '/content/nofish/3459.jpg', '/content/nofish/23.jpg', '/content/nofish/33.jpg', '/content/nofish/11.jpg', '/content/nofish/9.jpg', '/content/nofish/278.jpg', '/content/nofish/4034.jpg', '/content/nofish/238.jpg', '/content/nofish/275.jpg', '/content/nofish/3631.jpg', '/content/nofish/3447.jpg', '/content/nofish/197.jpg', '/content/nofish/2.jpg', '/content/nofish/3647.jpg', '/content/nofish/122.jpg', '/content/nofish/38.jpg', '/content/nofish/46.jpg', '/content/nofish/226.jpg', '/content/nofish/3512.jpg', '/content/nofish/3443.jpg', '/content/nofish/3444.jpg', '/content/nofish/34.jpg', '/content/nofish/3587.jpg', '/content/nofish/241.jpg', '/content/nofish/3468.jpg', '/content/nofish/35.jpg', '/content/nofish/3518.jpg', '/content/nofish/267.jpg', '/content/nofish/37.jpg', '/content/nofish/6.jpg', '/content/nofish/3625.jpg']\n",
            "['/content/fish/3811.jpg', '/content/fish/2982.jpg', '/content/fish/1935.jpg', '/content/fish/3950.jpg', '/content/fish/228.jpg', '/content/fish/1974.jpg', '/content/fish/1346.jpg', '/content/fish/2044.jpg', '/content/fish/1352.jpg', '/content/fish/1954.jpg', '/content/fish/1249.jpg', '/content/fish/2863.jpg', '/content/fish/1268.jpg', '/content/fish/2827.jpg', '/content/fish/2599.jpg', '/content/fish/1231.jpg', '/content/fish/1330.jpg', '/content/fish/276.jpg', '/content/fish/4014.jpg', '/content/fish/1922.jpg', '/content/fish/3806.jpg', '/content/fish/1264.jpg', '/content/fish/1177.jpg', '/content/fish/1443.jpg', '/content/fish/1950.jpg', '/content/fish/3965.jpg', '/content/fish/1452.jpg', '/content/fish/213.jpg', '/content/fish/3816.jpg', '/content/fish/1154.jpg', '/content/fish/3769.jpg', '/content/fish/1951.jpg', '/content/fish/1247.jpg', '/content/fish/1394.jpg', '/content/fish/223.jpg', '/content/fish/1371.jpg', '/content/fish/1225.jpg', '/content/fish/1440.jpg', '/content/fish/3810.jpg', '/content/fish/1551.jpg', '/content/fish/1318.jpg', '/content/fish/1991.jpg', '/content/fish/1996.jpg', '/content/fish/1949.jpg', '/content/fish/1260.jpg', '/content/fish/1179.jpg', '/content/fish/2853.jpg', '/content/fish/1944.jpg', '/content/fish/3185.jpg', '/content/fish/1450.jpg', '/content/fish/2874.jpg', '/content/fish/1087.jpg', '/content/fish/1232.jpg', '/content/fish/256.jpg', '/content/fish/1290.jpg', '/content/fish/3804.jpg', '/content/fish/2626.jpg', '/content/fish/2631.jpg', '/content/fish/1280.jpg', '/content/fish/1946.jpg', '/content/fish/3800.jpg', '/content/fish/2815.jpg', '/content/fish/1438.jpg', '/content/fish/3030.jpg', '/content/fish/1275.jpg', '/content/fish/2066.jpg', '/content/fish/1435.jpg', '/content/fish/1335.jpg', '/content/fish/1224.jpg', '/content/fish/274.jpg', '/content/fish/1984.jpg', '/content/fish/2059.jpg', '/content/fish/1158.jpg', '/content/fish/1429.jpg', '/content/fish/3964.jpg', '/content/fish/209.jpg', '/content/fish/3029.jpg', '/content/fish/373.jpg', '/content/fish/4030.jpg', '/content/fish/3983.jpg', '/content/fish/252.jpg', '/content/fish/1395.jpg', '/content/fish/1368.jpg', '/content/fish/3803.jpg', '/content/fish/1557.jpg', '/content/fish/3193.jpg', '/content/fish/1392.jpg', '/content/fish/239.jpg', '/content/fish/1287.jpg', '/content/fish/2836.jpg', '/content/fish/1381.jpg', '/content/fish/2850.jpg', '/content/fish/1308.jpg', '/content/fish/3819.jpg', '/content/fish/1191.jpg', '/content/fish/1436.jpg', '/content/fish/1391.jpg', '/content/fish/2042.jpg', '/content/fish/3733.jpg', '/content/fish/2047.jpg', '/content/fish/216.jpg', '/content/fish/2595.jpg', '/content/fish/1245.jpg', '/content/fish/1263.jpg', '/content/fish/3036.jpg', '/content/fish/1322.jpg', '/content/fish/2785.jpg', '/content/fish/170.jpg', '/content/fish/1877.jpg', '/content/fish/1411.jpg', '/content/fish/1286.jpg', '/content/fish/248.jpg', '/content/fish/2861.jpg', '/content/fish/2786.jpg', '/content/fish/3798.jpg', '/content/fish/1940.jpg', '/content/fish/1421.jpg', '/content/fish/1418.jpg', '/content/fish/2634.jpg', '/content/fish/1980.jpg', '/content/fish/1377.jpg', '/content/fish/2814.jpg', '/content/fish/1161.jpg', '/content/fish/268.jpg', '/content/fish/2006.jpg', '/content/fish/3191.jpg', '/content/fish/3763.jpg', '/content/fish/231.jpg', '/content/fish/1357.jpg', '/content/fish/1969.jpg', '/content/fish/1414.jpg', '/content/fish/1442.jpg', '/content/fish/1454.jpg', '/content/fish/3814.jpg', '/content/fish/1254.jpg', '/content/fish/1531.jpg', '/content/fish/1165.jpg', '/content/fish/2588.jpg', '/content/fish/3197.jpg', '/content/fish/3234.jpg', '/content/fish/1339.jpg', '/content/fish/1283.jpg', '/content/fish/1326.jpg', '/content/fish/2993.jpg', '/content/fish/1988.jpg', '/content/fish/74.jpg', '/content/fish/2623.jpg', '/content/fish/2858.jpg', '/content/fish/2979.jpg', '/content/fish/4029.jpg']\n",
            "学習精度： 0.9\n"
          ],
          "name": "stdout"
        }
      ]
    },
    {
      "cell_type": "markdown",
      "metadata": {
        "id": "jiNQNvQ5NaoK"
      },
      "source": [
        "### 学習モデルを利用して動画から魚の画像を検出"
      ]
    },
    {
      "cell_type": "markdown",
      "metadata": {
        "id": "6SZKGhrwv51B"
      },
      "source": [
        "### 解析の準備"
      ]
    },
    {
      "cell_type": "code",
      "metadata": {
        "id": "dT267b2BMwZp"
      },
      "source": [
        "import cv2, os, copy, pickle\n",
        "from google.colab.patches import cv2_imshow\n",
        "\n",
        "# 学習済みモデルファイルをプログラムに読み込む\n",
        "with open(\"fish.pkl\",\"rb\") as fp:\n",
        "  clf = pickle.load(fp)\n",
        "\n",
        "# 解析画像出力ディレクトリ用文字列\n",
        "output_dir = \"./bestshot\"\n",
        "\n",
        "# 画像出力ディレクトリがなければ作成\n",
        "if not os.path.isdir(output_dir):\n",
        "  os.mkdir(output_dir)\n",
        "  # 以下も同様処理\n",
        "  # os.makedirs(output_dir, exist_ok=True)\n",
        "  #"
      ],
      "execution_count": 6,
      "outputs": []
    },
    {
      "cell_type": "markdown",
      "metadata": {
        "id": "95yOwxYqySFv"
      },
      "source": [
        "### 動画ファイルの読み込み"
      ]
    },
    {
      "cell_type": "code",
      "metadata": {
        "colab": {
          "base_uri": "https://localhost:8080/"
        },
        "id": "44Bt_Cb7wWyt",
        "outputId": "b17559f2-6c5b-48e0-bb98-6d2167ff3150"
      },
      "source": [
        "url = \"https://github.com/masatokg/sample_photo/raw/master/fish.mp4\"\n",
        "save_file = \"fish.mp4\"\n",
        "req.urlretrieve(url, save_file)"
      ],
      "execution_count": 7,
      "outputs": [
        {
          "output_type": "execute_result",
          "data": {
            "text/plain": [
              "('fish.mp4', <http.client.HTTPMessage at 0x7f3e21e4e9e8>)"
            ]
          },
          "metadata": {
            "tags": []
          },
          "execution_count": 7
        }
      ]
    },
    {
      "cell_type": "markdown",
      "metadata": {
        "id": "O83egYxiy2JY"
      },
      "source": [
        "### 動画をプログラムに読み込んで、フレーム差分により変化を検出する"
      ]
    },
    {
      "cell_type": "code",
      "metadata": {
        "id": "xXdJQVlGyt7G",
        "colab": {
          "base_uri": "https://localhost:8080/"
        },
        "outputId": "1547f08c-8fde-4568-868e-68e803189a7c"
      },
      "source": [
        "cap = cv2.VideoCapture(save_file)\n",
        "fish_th = 3\n",
        "img_last = None\n",
        "frame_count = 0\n",
        "count = 0\n",
        "#読み込むフレームがなくなるまでループ\n",
        "while True:\n",
        "  is_ok, frame = cap.read()\n",
        "  # print(is_ok)\n",
        "  if not is_ok:\n",
        "    print(\"end\")\n",
        "    break\n",
        "  \n",
        "  # 差分検出対象フレームのサイズを統一\n",
        "  frame = cv2.resize(frame,(640,340))\n",
        "\n",
        "  # 検出エリア枠表示用の画像データを作る\n",
        "  frame2 = copy.copy(frame)\n",
        "  frame_count += 1\n",
        "\n",
        "  # 前のフレームと比較するためにグレースケール、ブラック/ホワイトに変換\n",
        "  gray = cv2.cvtColor(frame, cv2.COLOR_BGR2GRAY)\n",
        "  gray = cv2.GaussianBlur(gray, (15,15), 0)\n",
        "  img_b = cv2.threshold(gray, 127, 255, cv2.THRESH_BINARY)[1]\n",
        "\n",
        "  #　前の画像がない（最初の画像）\n",
        "  if not img_last is None:\n",
        "    frame_diff = cv2.absdiff(img_last, img_b)\n",
        "    #　差分のリストを取得\n",
        "    cnts = cv2.findContours(frame_diff, cv2.RETR_EXTERNAL, cv2.CHAIN_APPROX_SIMPLE)[0]\n",
        "    \n",
        "    # 格差分領域に魚が映っているか調べる\n",
        "    fish_count = 0\n",
        "    for pt in cnts:\n",
        "      print(pt)\n",
        "      x, y, w, h = cv2.boundingRect(pt)\n",
        "\n",
        "      if w<100 or w > 500: continue\n",
        "\n",
        "      # 抽出した差分領域に魚が映っているか推論するためにサイズをそろえる\n",
        "      imgex = frame[y:y+h, x:x+w]\n",
        "      imgex = cv2.resize(imgex, (64,32))#学習モデルのサイズに合わせる\n",
        "      image_data = imgex.reshape(-1,) #推論の為の一次元配列に変換\n",
        "\n",
        "      pred_y = clf.predict([image_data])\n",
        "      print(pred_y[0])\n",
        "\n",
        "      #　魚と判定出来たら領域に枠を付けてframe2にする\n",
        "      if pred_y[0] == 1:\n",
        "        fish_count += 1\n",
        "        cv2.rectangle(frame2, (x, y), (x+w, y+h),(0,255,0),2)#緑色の枠を描画\n",
        "\n",
        "    #　指定サイズ以上の魚が映っていれば画像として保存\n",
        "    if fish_count > fish_th:\n",
        "      fname = output_dir + \"/fish\" + str(count) + \".jpg\"\n",
        "      cv2.imwrite(fname, frame)\n",
        "      count += 1\n",
        "      print(fname)\n",
        "\n",
        "    img_last = img_b\n",
        "cap.release()\n",
        "cv2.destroyAllWindows()\n",
        "print(\"ok\", count, \"/\", frame_count)"
      ],
      "execution_count": 8,
      "outputs": [
        {
          "output_type": "stream",
          "text": [
            "end\n",
            "ok 0 / 1989\n"
          ],
          "name": "stdout"
        }
      ]
    },
    {
      "cell_type": "code",
      "metadata": {
        "colab": {
          "base_uri": "https://localhost:8080/",
          "height": 338
        },
        "id": "xs55vPNw7w_a",
        "outputId": "6e6c8306-ee34-477a-815f-8a62efade411"
      },
      "source": [
        "! zip -r /content/bestshot/.zip /content/bestshot/\n",
        "\n",
        "# 圧縮したzipファイルをDL\n",
        "from google.colab import files\n",
        "files.download(\"/content/bestshot.zip\")"
      ],
      "execution_count": 9,
      "outputs": [
        {
          "output_type": "stream",
          "text": [
            "updating: content/bestshot/ (stored 0%)\n"
          ],
          "name": "stdout"
        },
        {
          "output_type": "error",
          "ename": "FileNotFoundError",
          "evalue": "ignored",
          "traceback": [
            "\u001b[0;31m---------------------------------------------------------------------------\u001b[0m",
            "\u001b[0;31mFileNotFoundError\u001b[0m                         Traceback (most recent call last)",
            "\u001b[0;32m<ipython-input-9-29e5ff5978f3>\u001b[0m in \u001b[0;36m<module>\u001b[0;34m()\u001b[0m\n\u001b[1;32m      3\u001b[0m \u001b[0;31m# 圧縮したzipファイルをDL\u001b[0m\u001b[0;34m\u001b[0m\u001b[0;34m\u001b[0m\u001b[0;34m\u001b[0m\u001b[0m\n\u001b[1;32m      4\u001b[0m \u001b[0;32mfrom\u001b[0m \u001b[0mgoogle\u001b[0m\u001b[0;34m.\u001b[0m\u001b[0mcolab\u001b[0m \u001b[0;32mimport\u001b[0m \u001b[0mfiles\u001b[0m\u001b[0;34m\u001b[0m\u001b[0;34m\u001b[0m\u001b[0m\n\u001b[0;32m----> 5\u001b[0;31m \u001b[0mfiles\u001b[0m\u001b[0;34m.\u001b[0m\u001b[0mdownload\u001b[0m\u001b[0;34m(\u001b[0m\u001b[0;34m\"/content/bestshot.zip\"\u001b[0m\u001b[0;34m)\u001b[0m\u001b[0;34m\u001b[0m\u001b[0;34m\u001b[0m\u001b[0m\n\u001b[0m",
            "\u001b[0;32m/usr/local/lib/python3.6/dist-packages/google/colab/files.py\u001b[0m in \u001b[0;36mdownload\u001b[0;34m(filename)\u001b[0m\n\u001b[1;32m    141\u001b[0m       \u001b[0;32mraise\u001b[0m \u001b[0mOSError\u001b[0m\u001b[0;34m(\u001b[0m\u001b[0mmsg\u001b[0m\u001b[0;34m)\u001b[0m\u001b[0;34m\u001b[0m\u001b[0;34m\u001b[0m\u001b[0m\n\u001b[1;32m    142\u001b[0m     \u001b[0;32melse\u001b[0m\u001b[0;34m:\u001b[0m\u001b[0;34m\u001b[0m\u001b[0;34m\u001b[0m\u001b[0m\n\u001b[0;32m--> 143\u001b[0;31m       \u001b[0;32mraise\u001b[0m \u001b[0mFileNotFoundError\u001b[0m\u001b[0;34m(\u001b[0m\u001b[0mmsg\u001b[0m\u001b[0;34m)\u001b[0m  \u001b[0;31m# pylint: disable=undefined-variable\u001b[0m\u001b[0;34m\u001b[0m\u001b[0;34m\u001b[0m\u001b[0m\n\u001b[0m\u001b[1;32m    144\u001b[0m \u001b[0;34m\u001b[0m\u001b[0m\n\u001b[1;32m    145\u001b[0m   \u001b[0mcomm_manager\u001b[0m \u001b[0;34m=\u001b[0m \u001b[0m_IPython\u001b[0m\u001b[0;34m.\u001b[0m\u001b[0mget_ipython\u001b[0m\u001b[0;34m(\u001b[0m\u001b[0;34m)\u001b[0m\u001b[0;34m.\u001b[0m\u001b[0mkernel\u001b[0m\u001b[0;34m.\u001b[0m\u001b[0mcomm_manager\u001b[0m\u001b[0;34m\u001b[0m\u001b[0;34m\u001b[0m\u001b[0m\n",
            "\u001b[0;31mFileNotFoundError\u001b[0m: Cannot find file: /content/bestshot.zip"
          ]
        }
      ]
    },
    {
      "cell_type": "code",
      "metadata": {
        "id": "yu_W8eV1JltK"
      },
      "source": [
        ""
      ],
      "execution_count": null,
      "outputs": []
    }
  ]
}