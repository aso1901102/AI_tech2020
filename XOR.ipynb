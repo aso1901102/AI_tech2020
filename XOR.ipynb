{
  "nbformat": 4,
  "nbformat_minor": 0,
  "metadata": {
    "colab": {
      "name": "XOR.ipynb",
      "provenance": [],
      "authorship_tag": "ABX9TyO6AlIbk8lLNEpS2KADOPrb",
      "include_colab_link": true
    },
    "kernelspec": {
      "name": "python3",
      "display_name": "Python 3"
    }
  },
  "cells": [
    {
      "cell_type": "markdown",
      "metadata": {
        "id": "view-in-github",
        "colab_type": "text"
      },
      "source": [
        "<a href=\"https://colab.research.google.com/github/aso1901102/AI_tech2020/blob/master/XOR.ipynb\" target=\"_parent\"><img src=\"https://colab.research.google.com/assets/colab-badge.svg\" alt=\"Open In Colab\"/></a>"
      ]
    },
    {
      "cell_type": "markdown",
      "metadata": {
        "id": "8FhZInQsxUcs",
        "colab_type": "text"
      },
      "source": [
        "XOR演算を実装する"
      ]
    },
    {
      "cell_type": "code",
      "metadata": {
        "id": "JcKGREeVxvbn",
        "colab_type": "code",
        "colab": {}
      },
      "source": [
        "#scikit-learnを使う為インポートする\n",
        "from sklearn.svm import LinearSVC           #線形SVCのオブジェクト\n",
        "from sklearn.metrics import accuracy_score  #結果を評価するためのアルゴリズム"
      ],
      "execution_count": 9,
      "outputs": []
    },
    {
      "cell_type": "code",
      "metadata": {
        "id": "P83FHBarxTgO",
        "colab_type": "code",
        "colab": {}
      },
      "source": [
        "#XOR演算を学習する為のデータを用意する\n",
        "#X,Yの順番\n",
        "learn_data = [[0,0],[1,0],[0,1],[1,1]]\n",
        "\n",
        "#XOR演算の結果を用意する\n",
        "learn_label = [0,1,1,0]"
      ],
      "execution_count": 10,
      "outputs": []
    },
    {
      "cell_type": "code",
      "metadata": {
        "id": "8e_vuHmryl36",
        "colab_type": "code",
        "colab": {
          "base_uri": "https://localhost:8080/",
          "height": 87
        },
        "outputId": "b1db6d2b-a7cd-490a-a743-0dfa4dd962f5"
      },
      "source": [
        "#線形SVC（LinearSVC)のインスタンスを生成\n",
        "clf = LinearSVC()\n",
        "\n",
        "#学習データと演算結果の学習（モデルに学習させる）\n",
        "clf.fit(learn_data,learn_label)"
      ],
      "execution_count": 11,
      "outputs": [
        {
          "output_type": "execute_result",
          "data": {
            "text/plain": [
              "LinearSVC(C=1.0, class_weight=None, dual=True, fit_intercept=True,\n",
              "          intercept_scaling=1, loss='squared_hinge', max_iter=1000,\n",
              "          multi_class='ovr', penalty='l2', random_state=None, tol=0.0001,\n",
              "          verbose=0)"
            ]
          },
          "metadata": {
            "tags": []
          },
          "execution_count": 11
        }
      ]
    },
    {
      "cell_type": "code",
      "metadata": {
        "id": "LlKtcNo-y7YL",
        "colab_type": "code",
        "colab": {
          "base_uri": "https://localhost:8080/",
          "height": 52
        },
        "outputId": "82f6d1f6-1136-4a07-a067-e70fc03ec384"
      },
      "source": [
        "#予測用のテストデータを作成\n",
        "test_data = [[0,0],[1,0],[0,1],[1,1]]\n",
        "#モデルにテストデータを予測させる\n",
        "#predictメソッドで予測\n",
        "test_label = clf.predict(test_data)\n",
        "\n",
        "#テストデータの検証\n",
        "print(learn_data, \"の予測結果：\", test_label)\n",
        "print(\"正解率 = \", accuracy_score([0,1,1,0],test_label))"
      ],
      "execution_count": 12,
      "outputs": [
        {
          "output_type": "stream",
          "text": [
            "[[0, 0], [1, 0], [0, 1], [1, 1]] の予測結果： [0 1 1 1]\n",
            "正解率 =  0.75\n"
          ],
          "name": "stdout"
        }
      ]
    }
  ]
}