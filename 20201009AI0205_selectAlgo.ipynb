{
  "nbformat": 4,
  "nbformat_minor": 0,
  "metadata": {
    "colab": {
      "name": "20201009AI0205-selectAlgo.ipynb",
      "provenance": [],
      "authorship_tag": "ABX9TyNXmQ+smOnuU3h90y9sX7t2",
      "include_colab_link": true
    },
    "kernelspec": {
      "name": "python3",
      "display_name": "Python 3"
    }
  },
  "cells": [
    {
      "cell_type": "markdown",
      "metadata": {
        "id": "view-in-github",
        "colab_type": "text"
      },
      "source": [
        "<a href=\"https://colab.research.google.com/github/aso1901102/AI_tech2020/blob/master/20201009AI0205_selectAlgo.ipynb\" target=\"_parent\"><img src=\"https://colab.research.google.com/assets/colab-badge.svg\" alt=\"Open In Colab\"/></a>"
      ]
    },
    {
      "cell_type": "markdown",
      "metadata": {
        "id": "x8QMBSCajSr1"
      },
      "source": [
        "all_estimators()でループして各種アルゴリズムを比較"
      ]
    },
    {
      "cell_type": "code",
      "metadata": {
        "id": "uSbAIhHZivWb",
        "outputId": "2be01fac-3f99-4212-c0fa-e08510b166fc",
        "colab": {
          "base_uri": "https://localhost:8080/",
          "height": 72
        }
      },
      "source": [
        "#ライブラリのインポート\n",
        "import pandas as pd\n",
        "#学習用とテスト用でデータを分割するらいぶらり\n",
        "from sklearn.model_selection import train_test_split\n",
        "#正答数を算出するライブラリ\n",
        "from sklearn.metrics import accuracy_score\n",
        "#all_estimators（推定器を全て使えるようになる）\n",
        "from sklearn.utils.testing import all_estimators\n",
        "#警告クラス\n",
        "import warnings"
      ],
      "execution_count": 1,
      "outputs": [
        {
          "output_type": "stream",
          "text": [
            "/usr/local/lib/python3.6/dist-packages/sklearn/utils/deprecation.py:144: FutureWarning: The sklearn.utils.testing module is  deprecated in version 0.22 and will be removed in version 0.24. The corresponding classes / functions should instead be imported from sklearn.utils. Anything that cannot be imported from sklearn.utils is now part of the private API.\n",
            "  warnings.warn(message, FutureWarning)\n"
          ],
          "name": "stderr"
        }
      ]
    },
    {
      "cell_type": "markdown",
      "metadata": {
        "id": "MDJ5s1_PkWJv"
      },
      "source": [
        "webからアヤメのデータを読み込む"
      ]
    },
    {
      "cell_type": "code",
      "metadata": {
        "id": "bUWHOEK8kVFP"
      },
      "source": [
        "# urlリンクから読み込むライブラリ\n",
        "import urllib.request as req"
      ],
      "execution_count": 2,
      "outputs": []
    },
    {
      "cell_type": "code",
      "metadata": {
        "id": "5GU7G04mkkkM"
      },
      "source": [
        ""
      ],
      "execution_count": null,
      "outputs": []
    }
  ]
}