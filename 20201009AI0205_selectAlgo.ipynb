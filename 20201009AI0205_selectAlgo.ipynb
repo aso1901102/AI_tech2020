{
  "nbformat": 4,
  "nbformat_minor": 0,
  "metadata": {
    "colab": {
      "name": "20201009AI0205-selectAlgo.ipynb",
      "provenance": [],
      "collapsed_sections": [],
      "authorship_tag": "ABX9TyPPxqt4bWh4Ev+Vc28ygweW",
      "include_colab_link": true
    },
    "kernelspec": {
      "name": "python3",
      "display_name": "Python 3"
    }
  },
  "cells": [
    {
      "cell_type": "markdown",
      "metadata": {
        "id": "view-in-github",
        "colab_type": "text"
      },
      "source": [
        "<a href=\"https://colab.research.google.com/github/aso1901102/AI_tech2020/blob/master/20201009AI0205_selectAlgo.ipynb\" target=\"_parent\"><img src=\"https://colab.research.google.com/assets/colab-badge.svg\" alt=\"Open In Colab\"/></a>"
      ]
    },
    {
      "cell_type": "markdown",
      "metadata": {
        "id": "MoRh4uh5424e"
      },
      "source": [
        "###sklearnによるエラーなので前のバージョンで用意する"
      ]
    },
    {
      "cell_type": "code",
      "metadata": {
        "id": "oFbnCWPi5Hzv"
      },
      "source": [
        "#現在のsklearnをcolabのVMからアンインストール\n",
        "#!pip uninstall scikit-learn\n",
        "#前のバージョンを指定してVMにインストール\n",
        "#!pip install scikit-learn==0.20 --ignore-installed"
      ],
      "execution_count": 1,
      "outputs": []
    },
    {
      "cell_type": "markdown",
      "metadata": {
        "id": "x8QMBSCajSr1"
      },
      "source": [
        "all_estimators()でループして各種アルゴリズムを比較"
      ]
    },
    {
      "cell_type": "code",
      "metadata": {
        "id": "uSbAIhHZivWb",
        "outputId": "f4b417d4-9ee2-4ab2-9266-69a358280ff3",
        "colab": {
          "base_uri": "https://localhost:8080/",
          "height": 72
        }
      },
      "source": [
        "#ライブラリのインポート\n",
        "import pandas as pd\n",
        "#学習用とテスト用でデータを分割するらいぶらり\n",
        "from sklearn.model_selection import train_test_split\n",
        "#正答数を算出するライブラリ\n",
        "from sklearn.metrics import accuracy_score\n",
        "#all_estimators（推定器を全て使えるようになる）\n",
        "from sklearn.utils.testing import all_estimators\n",
        "#警告クラス\n",
        "import warnings"
      ],
      "execution_count": 2,
      "outputs": [
        {
          "output_type": "stream",
          "text": [
            "/usr/local/lib/python3.6/dist-packages/sklearn/utils/deprecation.py:144: FutureWarning: The sklearn.utils.testing module is  deprecated in version 0.22 and will be removed in version 0.24. The corresponding classes / functions should instead be imported from sklearn.utils. Anything that cannot be imported from sklearn.utils is now part of the private API.\n",
            "  warnings.warn(message, FutureWarning)\n"
          ],
          "name": "stderr"
        }
      ]
    },
    {
      "cell_type": "markdown",
      "metadata": {
        "id": "MDJ5s1_PkWJv"
      },
      "source": [
        "webからアヤメのデータを読み込む"
      ]
    },
    {
      "cell_type": "code",
      "metadata": {
        "id": "bUWHOEK8kVFP",
        "outputId": "1cfc3048-fbde-4f7b-92d5-89d2e19fc42b",
        "colab": {
          "base_uri": "https://localhost:8080/",
          "height": 402
        }
      },
      "source": [
        "# urlリンクから読み込むライブラリ\n",
        "import urllib.request as req\n",
        "#URLの変数を定義する\n",
        "url = \"https://github.com/pandas-dev/pandas/raw/master/pandas/tests/io/data/csv/iris.csv\"\n",
        "#リンクを保存するためのファイルを定義\n",
        "iris_data = \"iris.csv\"\n",
        "req.urlretrieve(url,iris_data)\n",
        "#DLしたファイルの内容を表示\n",
        "#アヤメデータの読み込み\n",
        "iris_data = pd.read_csv(iris_data,encoding=\"utf-8\")\n",
        "iris_data"
      ],
      "execution_count": 3,
      "outputs": [
        {
          "output_type": "execute_result",
          "data": {
            "text/html": [
              "<div>\n",
              "<style scoped>\n",
              "    .dataframe tbody tr th:only-of-type {\n",
              "        vertical-align: middle;\n",
              "    }\n",
              "\n",
              "    .dataframe tbody tr th {\n",
              "        vertical-align: top;\n",
              "    }\n",
              "\n",
              "    .dataframe thead th {\n",
              "        text-align: right;\n",
              "    }\n",
              "</style>\n",
              "<table border=\"1\" class=\"dataframe\">\n",
              "  <thead>\n",
              "    <tr style=\"text-align: right;\">\n",
              "      <th></th>\n",
              "      <th>SepalLength</th>\n",
              "      <th>SepalWidth</th>\n",
              "      <th>PetalLength</th>\n",
              "      <th>PetalWidth</th>\n",
              "      <th>Name</th>\n",
              "    </tr>\n",
              "  </thead>\n",
              "  <tbody>\n",
              "    <tr>\n",
              "      <th>0</th>\n",
              "      <td>5.1</td>\n",
              "      <td>3.5</td>\n",
              "      <td>1.4</td>\n",
              "      <td>0.2</td>\n",
              "      <td>Iris-setosa</td>\n",
              "    </tr>\n",
              "    <tr>\n",
              "      <th>1</th>\n",
              "      <td>4.9</td>\n",
              "      <td>3.0</td>\n",
              "      <td>1.4</td>\n",
              "      <td>0.2</td>\n",
              "      <td>Iris-setosa</td>\n",
              "    </tr>\n",
              "    <tr>\n",
              "      <th>2</th>\n",
              "      <td>4.7</td>\n",
              "      <td>3.2</td>\n",
              "      <td>1.3</td>\n",
              "      <td>0.2</td>\n",
              "      <td>Iris-setosa</td>\n",
              "    </tr>\n",
              "    <tr>\n",
              "      <th>3</th>\n",
              "      <td>4.6</td>\n",
              "      <td>3.1</td>\n",
              "      <td>1.5</td>\n",
              "      <td>0.2</td>\n",
              "      <td>Iris-setosa</td>\n",
              "    </tr>\n",
              "    <tr>\n",
              "      <th>4</th>\n",
              "      <td>5.0</td>\n",
              "      <td>3.6</td>\n",
              "      <td>1.4</td>\n",
              "      <td>0.2</td>\n",
              "      <td>Iris-setosa</td>\n",
              "    </tr>\n",
              "    <tr>\n",
              "      <th>...</th>\n",
              "      <td>...</td>\n",
              "      <td>...</td>\n",
              "      <td>...</td>\n",
              "      <td>...</td>\n",
              "      <td>...</td>\n",
              "    </tr>\n",
              "    <tr>\n",
              "      <th>145</th>\n",
              "      <td>6.7</td>\n",
              "      <td>3.0</td>\n",
              "      <td>5.2</td>\n",
              "      <td>2.3</td>\n",
              "      <td>Iris-virginica</td>\n",
              "    </tr>\n",
              "    <tr>\n",
              "      <th>146</th>\n",
              "      <td>6.3</td>\n",
              "      <td>2.5</td>\n",
              "      <td>5.0</td>\n",
              "      <td>1.9</td>\n",
              "      <td>Iris-virginica</td>\n",
              "    </tr>\n",
              "    <tr>\n",
              "      <th>147</th>\n",
              "      <td>6.5</td>\n",
              "      <td>3.0</td>\n",
              "      <td>5.2</td>\n",
              "      <td>2.0</td>\n",
              "      <td>Iris-virginica</td>\n",
              "    </tr>\n",
              "    <tr>\n",
              "      <th>148</th>\n",
              "      <td>6.2</td>\n",
              "      <td>3.4</td>\n",
              "      <td>5.4</td>\n",
              "      <td>2.3</td>\n",
              "      <td>Iris-virginica</td>\n",
              "    </tr>\n",
              "    <tr>\n",
              "      <th>149</th>\n",
              "      <td>5.9</td>\n",
              "      <td>3.0</td>\n",
              "      <td>5.1</td>\n",
              "      <td>1.8</td>\n",
              "      <td>Iris-virginica</td>\n",
              "    </tr>\n",
              "  </tbody>\n",
              "</table>\n",
              "<p>150 rows × 5 columns</p>\n",
              "</div>"
            ],
            "text/plain": [
              "     SepalLength  SepalWidth  PetalLength  PetalWidth            Name\n",
              "0            5.1         3.5          1.4         0.2     Iris-setosa\n",
              "1            4.9         3.0          1.4         0.2     Iris-setosa\n",
              "2            4.7         3.2          1.3         0.2     Iris-setosa\n",
              "3            4.6         3.1          1.5         0.2     Iris-setosa\n",
              "4            5.0         3.6          1.4         0.2     Iris-setosa\n",
              "..           ...         ...          ...         ...             ...\n",
              "145          6.7         3.0          5.2         2.3  Iris-virginica\n",
              "146          6.3         2.5          5.0         1.9  Iris-virginica\n",
              "147          6.5         3.0          5.2         2.0  Iris-virginica\n",
              "148          6.2         3.4          5.4         2.3  Iris-virginica\n",
              "149          5.9         3.0          5.1         1.8  Iris-virginica\n",
              "\n",
              "[150 rows x 5 columns]"
            ]
          },
          "metadata": {
            "tags": []
          },
          "execution_count": 3
        }
      ]
    },
    {
      "cell_type": "code",
      "metadata": {
        "id": "5GU7G04mkkkM"
      },
      "source": [
        "#アヤメのデータをラベルと入力データに分離\n",
        "y = iris_data.loc[:,\"Name\"];\n",
        "x = iris_data.loc[:,[\"SepalLength\",\"SepalWidth\",\"PetalLength\",\"PetalWidth\"]]\n",
        "\n",
        "#学習用とテスト用に分離\n",
        "x_train,x_test,y_train,y_test = train_test_split(x,y,test_size = 0.2,train_size = 0.8, shuffle = True)\n"
      ],
      "execution_count": 4,
      "outputs": []
    },
    {
      "cell_type": "code",
      "metadata": {
        "id": "XUMYBasC0weR",
        "outputId": "6500a5f5-7182-4cc1-c8af-48ece47b3f4f",
        "colab": {
          "base_uri": "https://localhost:8080/",
          "height": 897
        }
      },
      "source": [
        "#warningを無視する\n",
        "warnings.filterwarnings('ignore')\n",
        "#classifierのアルゴリズム全てを取得\n",
        "allAlgrithms = all_estimators(type_filter=\"classifier\")\n",
        "\n",
        "for(name, algorithm) in allAlgrithms:\n",
        "  #pythonでのtry-catch(try-except)\n",
        "  try:\n",
        "    #アルゴリズムのオブジェクトを作成\n",
        "    clf = algorithm()\n",
        "\n",
        "    #学習して評価する\n",
        "    clf.fit(x_train,y_train)\n",
        "    y_pred = clf.predict(x_test)\n",
        "    print(name,\"の正解率 = \",accuracy_score(y_test,y_pred))\n",
        "  #tryここまで\n",
        "  #pythonのcacth(except)\n",
        "  except Exception as e:\n",
        "    print(\"エラーです。\")\n",
        "    print(e)\n",
        "  else:\n",
        "    #print(\"ERROR無し\")\n",
        "    pass\n",
        "  #try-cacth(except)終了\n",
        "#for終了"
      ],
      "execution_count": 5,
      "outputs": [
        {
          "output_type": "stream",
          "text": [
            "AdaBoostClassifier の正解率 =  0.9666666666666667\n",
            "BaggingClassifier の正解率 =  0.9333333333333333\n",
            "BernoulliNB の正解率 =  0.2\n",
            "CalibratedClassifierCV の正解率 =  0.9666666666666667\n",
            "CategoricalNB の正解率 =  0.8666666666666667\n",
            "エラーです。\n",
            "could not convert string to float: 'Iris-setosa'\n",
            "エラーです。\n",
            "__init__() missing 1 required positional argument: 'base_estimator'\n",
            "ComplementNB の正解率 =  0.8\n",
            "DecisionTreeClassifier の正解率 =  0.9333333333333333\n",
            "DummyClassifier の正解率 =  0.5666666666666667\n",
            "ExtraTreeClassifier の正解率 =  0.9333333333333333\n",
            "ExtraTreesClassifier の正解率 =  0.9666666666666667\n",
            "GaussianNB の正解率 =  0.9666666666666667\n",
            "GaussianProcessClassifier の正解率 =  0.9333333333333333\n",
            "GradientBoostingClassifier の正解率 =  0.9333333333333333\n",
            "HistGradientBoostingClassifier の正解率 =  0.9666666666666667\n",
            "KNeighborsClassifier の正解率 =  0.9666666666666667\n",
            "LabelPropagation の正解率 =  0.9666666666666667\n",
            "LabelSpreading の正解率 =  0.9666666666666667\n",
            "LinearDiscriminantAnalysis の正解率 =  1.0\n",
            "LinearSVC の正解率 =  0.9666666666666667\n",
            "LogisticRegression の正解率 =  0.9666666666666667\n",
            "LogisticRegressionCV の正解率 =  1.0\n",
            "MLPClassifier の正解率 =  1.0\n",
            "エラーです。\n",
            "__init__() missing 1 required positional argument: 'estimator'\n",
            "MultinomialNB の正解率 =  0.7\n",
            "NearestCentroid の正解率 =  0.8\n",
            "NuSVC の正解率 =  0.9\n",
            "エラーです。\n",
            "__init__() missing 1 required positional argument: 'estimator'\n",
            "エラーです。\n",
            "__init__() missing 1 required positional argument: 'estimator'\n",
            "エラーです。\n",
            "__init__() missing 1 required positional argument: 'estimator'\n",
            "PassiveAggressiveClassifier の正解率 =  0.9333333333333333\n",
            "Perceptron の正解率 =  0.6666666666666666\n",
            "QuadraticDiscriminantAnalysis の正解率 =  1.0\n",
            "RadiusNeighborsClassifier の正解率 =  0.9\n",
            "RandomForestClassifier の正解率 =  0.9333333333333333\n",
            "RidgeClassifier の正解率 =  0.8333333333333334\n",
            "RidgeClassifierCV の正解率 =  0.8333333333333334\n",
            "SGDClassifier の正解率 =  1.0\n",
            "SVC の正解率 =  0.9\n",
            "エラーです。\n",
            "__init__() missing 1 required positional argument: 'estimators'\n",
            "エラーです。\n",
            "__init__() missing 1 required positional argument: 'estimators'\n"
          ],
          "name": "stdout"
        }
      ]
    },
    {
      "cell_type": "markdown",
      "metadata": {
        "id": "aIV1xIdClxoq"
      },
      "source": [
        "### クロスバリデーション\n"
      ]
    },
    {
      "cell_type": "code",
      "metadata": {
        "id": "LI_OpIe4l_S1"
      },
      "source": [
        "# クロスバリデーション関連のライブラリをインポート\n",
        "# K分割クロスバリデーション（交差検証）のためのライブラリ\n",
        "from sklearn.model_selection import KFold\n",
        "# クロスバリデーションスコアを取得する為のオブジェクト\n",
        "from sklearn.model_selection import cross_val_score"
      ],
      "execution_count": 6,
      "outputs": []
    },
    {
      "cell_type": "markdown",
      "metadata": {
        "id": "fHCkJ_Q5my3F"
      },
      "source": [
        "### クロスバリデーションを実行"
      ]
    },
    {
      "cell_type": "code",
      "metadata": {
        "id": "F7v_z96Bm2h1",
        "outputId": "31c482eb-2fc9-42cf-a62b-c830a9c35336",
        "colab": {
          "base_uri": "https://localhost:8080/",
          "height": 1000
        }
      },
      "source": [
        "# K分割交差検証のインスタンスを生成\n",
        "kfold_cv = KFold(n_splits = 5, shuffle = True)\n",
        "# 生成したall_estimatorsのインスタンスをループさせてクロスバリデーション\n",
        "for(name, algorithm) in allAlgrithms:\n",
        "  try:\n",
        "    #各アルゴリズムのインスタンス\n",
        "    clf = algorithm()\n",
        "    #score属性のアル学習モデルに絞る\n",
        "    if hasattr(clf,\"score\"):\n",
        "      #クロスバリデーションのスコアを取得\n",
        "      scores = cross_val_score(clf,x,y,cv = kfold_cv)\n",
        "      # k = n_splits = 5回分のクロスバリデーションスコアを表示\n",
        "      print(name,\"の正解率　＝　\")\n",
        "      print(scores)\n",
        "    #ifここまで\n",
        "  #tryここまで\n",
        "  except:\n",
        "    #None\n",
        "    pass\n",
        "  #exceptここまで\n"
      ],
      "execution_count": 9,
      "outputs": [
        {
          "output_type": "stream",
          "text": [
            "AdaBoostClassifier の正解率　＝　\n",
            "[1.         0.96666667 0.86666667 0.9        0.96666667]\n",
            "BaggingClassifier の正解率　＝　\n",
            "[0.93333333 0.93333333 0.96666667 1.         0.9       ]\n",
            "BernoulliNB の正解率　＝　\n",
            "[0.26666667 0.26666667 0.3        0.23333333 0.3       ]\n",
            "CalibratedClassifierCV の正解率　＝　\n",
            "[0.93333333 0.93333333 0.86666667 0.9        0.93333333]\n",
            "CategoricalNB の正解率　＝　\n",
            "[0.93333333 0.9        0.86666667 0.96666667 0.96666667]\n",
            "CheckingClassifier の正解率　＝　\n",
            "[nan nan nan nan nan]\n",
            "ComplementNB の正解率　＝　\n",
            "[0.56666667 0.76666667 0.76666667 0.6        0.63333333]\n",
            "DecisionTreeClassifier の正解率　＝　\n",
            "[0.9        0.96666667 0.9        0.96666667 0.96666667]\n",
            "DummyClassifier の正解率　＝　\n",
            "[0.2        0.36666667 0.43333333 0.43333333 0.53333333]\n",
            "ExtraTreeClassifier の正解率　＝　\n",
            "[0.9        0.93333333 0.93333333 0.96666667 1.        ]\n",
            "ExtraTreesClassifier の正解率　＝　\n",
            "[0.96666667 0.9        1.         0.9        0.96666667]\n",
            "GaussianNB の正解率　＝　\n",
            "[0.96666667 1.         0.93333333 0.96666667 0.93333333]\n",
            "GaussianProcessClassifier の正解率　＝　\n",
            "[0.86666667 0.96666667 1.         0.93333333 1.        ]\n",
            "GradientBoostingClassifier の正解率　＝　\n",
            "[0.96666667 0.9        0.96666667 0.93333333 1.        ]\n",
            "HistGradientBoostingClassifier の正解率　＝　\n",
            "[0.96666667 0.96666667 0.93333333 0.9        1.        ]\n",
            "KNeighborsClassifier の正解率　＝　\n",
            "[0.96666667 1.         0.96666667 0.93333333 0.93333333]\n",
            "LabelPropagation の正解率　＝　\n",
            "[0.96666667 1.         0.93333333 0.9        0.96666667]\n",
            "LabelSpreading の正解率　＝　\n",
            "[0.9        0.96666667 1.         0.93333333 0.96666667]\n",
            "LinearDiscriminantAnalysis の正解率　＝　\n",
            "[1.         0.96666667 0.96666667 1.         0.96666667]\n",
            "LinearSVC の正解率　＝　\n",
            "[0.96666667 0.96666667 0.93333333 0.93333333 1.        ]\n",
            "LogisticRegression の正解率　＝　\n",
            "[0.9        0.93333333 1.         0.96666667 1.        ]\n",
            "LogisticRegressionCV の正解率　＝　\n",
            "[0.96666667 0.9        1.         1.         1.        ]\n",
            "MLPClassifier の正解率　＝　\n",
            "[0.9        1.         0.96666667 0.96666667 1.        ]\n",
            "MultinomialNB の正解率　＝　\n",
            "[0.93333333 0.83333333 0.93333333 0.76666667 1.        ]\n",
            "NearestCentroid の正解率　＝　\n",
            "[0.9        0.93333333 0.93333333 0.93333333 0.8       ]\n",
            "NuSVC の正解率　＝　\n",
            "[0.9        1.         1.         0.96666667 0.93333333]\n",
            "PassiveAggressiveClassifier の正解率　＝　\n",
            "[0.93333333 0.73333333 0.63333333 0.86666667 0.86666667]\n",
            "Perceptron の正解率　＝　\n",
            "[0.6        0.6        0.66666667 0.76666667 0.86666667]\n",
            "QuadraticDiscriminantAnalysis の正解率　＝　\n",
            "[0.96666667 0.96666667 1.         0.96666667 0.96666667]\n",
            "RadiusNeighborsClassifier の正解率　＝　\n",
            "[0.86666667 0.86666667 0.96666667 1.         1.        ]\n",
            "RandomForestClassifier の正解率　＝　\n",
            "[0.93333333 0.96666667 0.96666667 1.         0.93333333]\n",
            "RidgeClassifier の正解率　＝　\n",
            "[0.96666667 0.7        0.8        0.86666667 0.83333333]\n",
            "RidgeClassifierCV の正解率　＝　\n",
            "[0.83333333 0.86666667 0.8        0.9        0.8       ]\n",
            "SGDClassifier の正解率　＝　\n",
            "[0.93333333 0.9        0.73333333 0.96666667 0.66666667]\n",
            "SVC の正解率　＝　\n",
            "[0.9        0.96666667 1.         0.93333333 0.96666667]\n"
          ],
          "name": "stdout"
        }
      ]
    }
  ]
}