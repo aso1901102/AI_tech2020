{
  "nbformat": 4,
  "nbformat_minor": 0,
  "metadata": {
    "colab": {
      "name": "20201009AI0205-selectAlgo.ipynb",
      "provenance": [],
      "collapsed_sections": [],
      "authorship_tag": "ABX9TyPtok3i7GgEGTLzomsq9Mdz",
      "include_colab_link": true
    },
    "kernelspec": {
      "name": "python3",
      "display_name": "Python 3"
    }
  },
  "cells": [
    {
      "cell_type": "markdown",
      "metadata": {
        "id": "view-in-github",
        "colab_type": "text"
      },
      "source": [
        "<a href=\"https://colab.research.google.com/github/aso1901102/AI_tech2020/blob/master/20201009AI0205_selectAlgo.ipynb\" target=\"_parent\"><img src=\"https://colab.research.google.com/assets/colab-badge.svg\" alt=\"Open In Colab\"/></a>"
      ]
    },
    {
      "cell_type": "markdown",
      "metadata": {
        "id": "MoRh4uh5424e"
      },
      "source": [
        "###sklearnによるエラーなので前のバージョンで用意する"
      ]
    },
    {
      "cell_type": "code",
      "metadata": {
        "id": "oFbnCWPi5Hzv"
      },
      "source": [
        "#現在のsklearnをcolabのVMからアンインストール\n",
        "#!pip uninstall scikit-learn\n",
        "#前のバージョンを指定してVMにインストール\n",
        "#!pip install scikit-learn==0.20 --ignore-installed"
      ],
      "execution_count": null,
      "outputs": []
    },
    {
      "cell_type": "markdown",
      "metadata": {
        "id": "x8QMBSCajSr1"
      },
      "source": [
        "all_estimators()でループして各種アルゴリズムを比較"
      ]
    },
    {
      "cell_type": "code",
      "metadata": {
        "id": "uSbAIhHZivWb",
        "outputId": "f4b417d4-9ee2-4ab2-9266-69a358280ff3",
        "colab": {
          "base_uri": "https://localhost:8080/",
          "height": 72
        }
      },
      "source": [
        "#ライブラリのインポート\n",
        "import pandas as pd\n",
        "#学習用とテスト用でデータを分割するらいぶらり\n",
        "from sklearn.model_selection import train_test_split\n",
        "#正答数を算出するライブラリ\n",
        "from sklearn.metrics import accuracy_score\n",
        "#all_estimators（推定器を全て使えるようになる）\n",
        "from sklearn.utils.testing import all_estimators\n",
        "#警告クラス\n",
        "import warnings"
      ],
      "execution_count": null,
      "outputs": [
        {
          "output_type": "stream",
          "text": [
            "/usr/local/lib/python3.6/dist-packages/sklearn/utils/deprecation.py:144: FutureWarning: The sklearn.utils.testing module is  deprecated in version 0.22 and will be removed in version 0.24. The corresponding classes / functions should instead be imported from sklearn.utils. Anything that cannot be imported from sklearn.utils is now part of the private API.\n",
            "  warnings.warn(message, FutureWarning)\n"
          ],
          "name": "stderr"
        }
      ]
    },
    {
      "cell_type": "markdown",
      "metadata": {
        "id": "MDJ5s1_PkWJv"
      },
      "source": [
        "webからアヤメのデータを読み込む"
      ]
    },
    {
      "cell_type": "code",
      "metadata": {
        "id": "bUWHOEK8kVFP",
        "outputId": "1cfc3048-fbde-4f7b-92d5-89d2e19fc42b",
        "colab": {
          "base_uri": "https://localhost:8080/",
          "height": 402
        }
      },
      "source": [
        "# urlリンクから読み込むライブラリ\n",
        "import urllib.request as req\n",
        "#URLの変数を定義する\n",
        "url = \"https://github.com/pandas-dev/pandas/raw/master/pandas/tests/io/data/csv/iris.csv\"\n",
        "#リンクを保存するためのファイルを定義\n",
        "iris_data = \"iris.csv\"\n",
        "req.urlretrieve(url,iris_data)\n",
        "#DLしたファイルの内容を表示\n",
        "#アヤメデータの読み込み\n",
        "iris_data = pd.read_csv(iris_data,encoding=\"utf-8\")\n",
        "iris_data"
      ],
      "execution_count": null,
      "outputs": [
        {
          "output_type": "execute_result",
          "data": {
            "text/html": [
              "<div>\n",
              "<style scoped>\n",
              "    .dataframe tbody tr th:only-of-type {\n",
              "        vertical-align: middle;\n",
              "    }\n",
              "\n",
              "    .dataframe tbody tr th {\n",
              "        vertical-align: top;\n",
              "    }\n",
              "\n",
              "    .dataframe thead th {\n",
              "        text-align: right;\n",
              "    }\n",
              "</style>\n",
              "<table border=\"1\" class=\"dataframe\">\n",
              "  <thead>\n",
              "    <tr style=\"text-align: right;\">\n",
              "      <th></th>\n",
              "      <th>SepalLength</th>\n",
              "      <th>SepalWidth</th>\n",
              "      <th>PetalLength</th>\n",
              "      <th>PetalWidth</th>\n",
              "      <th>Name</th>\n",
              "    </tr>\n",
              "  </thead>\n",
              "  <tbody>\n",
              "    <tr>\n",
              "      <th>0</th>\n",
              "      <td>5.1</td>\n",
              "      <td>3.5</td>\n",
              "      <td>1.4</td>\n",
              "      <td>0.2</td>\n",
              "      <td>Iris-setosa</td>\n",
              "    </tr>\n",
              "    <tr>\n",
              "      <th>1</th>\n",
              "      <td>4.9</td>\n",
              "      <td>3.0</td>\n",
              "      <td>1.4</td>\n",
              "      <td>0.2</td>\n",
              "      <td>Iris-setosa</td>\n",
              "    </tr>\n",
              "    <tr>\n",
              "      <th>2</th>\n",
              "      <td>4.7</td>\n",
              "      <td>3.2</td>\n",
              "      <td>1.3</td>\n",
              "      <td>0.2</td>\n",
              "      <td>Iris-setosa</td>\n",
              "    </tr>\n",
              "    <tr>\n",
              "      <th>3</th>\n",
              "      <td>4.6</td>\n",
              "      <td>3.1</td>\n",
              "      <td>1.5</td>\n",
              "      <td>0.2</td>\n",
              "      <td>Iris-setosa</td>\n",
              "    </tr>\n",
              "    <tr>\n",
              "      <th>4</th>\n",
              "      <td>5.0</td>\n",
              "      <td>3.6</td>\n",
              "      <td>1.4</td>\n",
              "      <td>0.2</td>\n",
              "      <td>Iris-setosa</td>\n",
              "    </tr>\n",
              "    <tr>\n",
              "      <th>...</th>\n",
              "      <td>...</td>\n",
              "      <td>...</td>\n",
              "      <td>...</td>\n",
              "      <td>...</td>\n",
              "      <td>...</td>\n",
              "    </tr>\n",
              "    <tr>\n",
              "      <th>145</th>\n",
              "      <td>6.7</td>\n",
              "      <td>3.0</td>\n",
              "      <td>5.2</td>\n",
              "      <td>2.3</td>\n",
              "      <td>Iris-virginica</td>\n",
              "    </tr>\n",
              "    <tr>\n",
              "      <th>146</th>\n",
              "      <td>6.3</td>\n",
              "      <td>2.5</td>\n",
              "      <td>5.0</td>\n",
              "      <td>1.9</td>\n",
              "      <td>Iris-virginica</td>\n",
              "    </tr>\n",
              "    <tr>\n",
              "      <th>147</th>\n",
              "      <td>6.5</td>\n",
              "      <td>3.0</td>\n",
              "      <td>5.2</td>\n",
              "      <td>2.0</td>\n",
              "      <td>Iris-virginica</td>\n",
              "    </tr>\n",
              "    <tr>\n",
              "      <th>148</th>\n",
              "      <td>6.2</td>\n",
              "      <td>3.4</td>\n",
              "      <td>5.4</td>\n",
              "      <td>2.3</td>\n",
              "      <td>Iris-virginica</td>\n",
              "    </tr>\n",
              "    <tr>\n",
              "      <th>149</th>\n",
              "      <td>5.9</td>\n",
              "      <td>3.0</td>\n",
              "      <td>5.1</td>\n",
              "      <td>1.8</td>\n",
              "      <td>Iris-virginica</td>\n",
              "    </tr>\n",
              "  </tbody>\n",
              "</table>\n",
              "<p>150 rows × 5 columns</p>\n",
              "</div>"
            ],
            "text/plain": [
              "     SepalLength  SepalWidth  PetalLength  PetalWidth            Name\n",
              "0            5.1         3.5          1.4         0.2     Iris-setosa\n",
              "1            4.9         3.0          1.4         0.2     Iris-setosa\n",
              "2            4.7         3.2          1.3         0.2     Iris-setosa\n",
              "3            4.6         3.1          1.5         0.2     Iris-setosa\n",
              "4            5.0         3.6          1.4         0.2     Iris-setosa\n",
              "..           ...         ...          ...         ...             ...\n",
              "145          6.7         3.0          5.2         2.3  Iris-virginica\n",
              "146          6.3         2.5          5.0         1.9  Iris-virginica\n",
              "147          6.5         3.0          5.2         2.0  Iris-virginica\n",
              "148          6.2         3.4          5.4         2.3  Iris-virginica\n",
              "149          5.9         3.0          5.1         1.8  Iris-virginica\n",
              "\n",
              "[150 rows x 5 columns]"
            ]
          },
          "metadata": {
            "tags": []
          },
          "execution_count": 3
        }
      ]
    },
    {
      "cell_type": "code",
      "metadata": {
        "id": "5GU7G04mkkkM"
      },
      "source": [
        "#アヤメのデータをラベルと入力データに分離\n",
        "y = iris_data.loc[:,\"Name\"];\n",
        "x = iris_data.loc[:,[\"SepalLength\",\"SepalWidth\",\"PetalLength\",\"PetalWidth\"]]\n",
        "\n",
        "#学習用とテスト用に分離\n",
        "x_train,x_test,y_train,y_test = train_test_split(x,y,test_size = 0.2,train_size = 0.8, shuffle = True)\n"
      ],
      "execution_count": null,
      "outputs": []
    },
    {
      "cell_type": "code",
      "metadata": {
        "id": "XUMYBasC0weR",
        "outputId": "6500a5f5-7182-4cc1-c8af-48ece47b3f4f",
        "colab": {
          "base_uri": "https://localhost:8080/",
          "height": 897
        }
      },
      "source": [
        "#warningを無視する\n",
        "warnings.filterwarnings('ignore')\n",
        "#classifierのアルゴリズム全てを取得\n",
        "allAlgrithms = all_estimators(type_filter=\"classifier\")\n",
        "\n",
        "for(name, algorithm) in allAlgrithms:\n",
        "  #pythonでのtry-catch(try-except)\n",
        "  try:\n",
        "    #アルゴリズムのオブジェクトを作成\n",
        "    clf = algorithm()\n",
        "\n",
        "    #学習して評価する\n",
        "    clf.fit(x_train,y_train)\n",
        "    y_pred = clf.predict(x_test)\n",
        "    print(name,\"の正解率 = \",accuracy_score(y_test,y_pred))\n",
        "  #tryここまで\n",
        "  #pythonのcacth(except)\n",
        "  except Exception as e:\n",
        "    print(\"エラーです。\")\n",
        "    print(e)\n",
        "  else:\n",
        "    #print(\"ERROR無し\")\n",
        "    pass\n",
        "  #try-cacth(except)終了\n",
        "#for終了"
      ],
      "execution_count": null,
      "outputs": [
        {
          "output_type": "stream",
          "text": [
            "AdaBoostClassifier の正解率 =  0.9666666666666667\n",
            "BaggingClassifier の正解率 =  0.9333333333333333\n",
            "BernoulliNB の正解率 =  0.2\n",
            "CalibratedClassifierCV の正解率 =  0.9666666666666667\n",
            "CategoricalNB の正解率 =  0.8666666666666667\n",
            "エラーです。\n",
            "could not convert string to float: 'Iris-setosa'\n",
            "エラーです。\n",
            "__init__() missing 1 required positional argument: 'base_estimator'\n",
            "ComplementNB の正解率 =  0.8\n",
            "DecisionTreeClassifier の正解率 =  0.9333333333333333\n",
            "DummyClassifier の正解率 =  0.5666666666666667\n",
            "ExtraTreeClassifier の正解率 =  0.9333333333333333\n",
            "ExtraTreesClassifier の正解率 =  0.9666666666666667\n",
            "GaussianNB の正解率 =  0.9666666666666667\n",
            "GaussianProcessClassifier の正解率 =  0.9333333333333333\n",
            "GradientBoostingClassifier の正解率 =  0.9333333333333333\n",
            "HistGradientBoostingClassifier の正解率 =  0.9666666666666667\n",
            "KNeighborsClassifier の正解率 =  0.9666666666666667\n",
            "LabelPropagation の正解率 =  0.9666666666666667\n",
            "LabelSpreading の正解率 =  0.9666666666666667\n",
            "LinearDiscriminantAnalysis の正解率 =  1.0\n",
            "LinearSVC の正解率 =  0.9666666666666667\n",
            "LogisticRegression の正解率 =  0.9666666666666667\n",
            "LogisticRegressionCV の正解率 =  1.0\n",
            "MLPClassifier の正解率 =  1.0\n",
            "エラーです。\n",
            "__init__() missing 1 required positional argument: 'estimator'\n",
            "MultinomialNB の正解率 =  0.7\n",
            "NearestCentroid の正解率 =  0.8\n",
            "NuSVC の正解率 =  0.9\n",
            "エラーです。\n",
            "__init__() missing 1 required positional argument: 'estimator'\n",
            "エラーです。\n",
            "__init__() missing 1 required positional argument: 'estimator'\n",
            "エラーです。\n",
            "__init__() missing 1 required positional argument: 'estimator'\n",
            "PassiveAggressiveClassifier の正解率 =  0.9333333333333333\n",
            "Perceptron の正解率 =  0.6666666666666666\n",
            "QuadraticDiscriminantAnalysis の正解率 =  1.0\n",
            "RadiusNeighborsClassifier の正解率 =  0.9\n",
            "RandomForestClassifier の正解率 =  0.9333333333333333\n",
            "RidgeClassifier の正解率 =  0.8333333333333334\n",
            "RidgeClassifierCV の正解率 =  0.8333333333333334\n",
            "SGDClassifier の正解率 =  1.0\n",
            "SVC の正解率 =  0.9\n",
            "エラーです。\n",
            "__init__() missing 1 required positional argument: 'estimators'\n",
            "エラーです。\n",
            "__init__() missing 1 required positional argument: 'estimators'\n"
          ],
          "name": "stdout"
        }
      ]
    },
    {
      "cell_type": "markdown",
      "metadata": {
        "id": "aIV1xIdClxoq"
      },
      "source": [
        "### クロスバリデーション\n"
      ]
    },
    {
      "cell_type": "code",
      "metadata": {
        "id": "LI_OpIe4l_S1"
      },
      "source": [
        "# クロスバリデーション関連のライブラリをインポート\n",
        "# K分割クロスバリデーション（交差検証）のためのライブラリ\n",
        "from sklearn.model_selection import KFold\n",
        "# クロスバリデーションスコアを取得する為のオブジェクト\n",
        "from sklearn.model_selection import cross_val_score"
      ],
      "execution_count": null,
      "outputs": []
    },
    {
      "cell_type": "markdown",
      "metadata": {
        "id": "fHCkJ_Q5my3F"
      },
      "source": [
        "### クロスバリデーションを実行"
      ]
    },
    {
      "cell_type": "code",
      "metadata": {
        "id": "F7v_z96Bm2h1",
        "outputId": "a417764a-a46e-4d29-ff33-61da1985a5a7",
        "colab": {
          "base_uri": "https://localhost:8080/",
          "height": 1000
        }
      },
      "source": [
        "# K分割交差検証のインスタンスを生成\n",
        "kfold_cv = KFold(n_splits = 5, shuffle = True)\n",
        "# 生成したall_estimatorsのインスタンスをループさせてクロスバリデーション\n",
        "for(name, algorithm) in allAlgrithms:\n",
        "  try:\n",
        "    #各アルゴリズムのインスタンス\n",
        "    clf = algorithm()\n",
        "    #score属性のアル学習モデルに絞る\n",
        "    if hasattr(clf,\"score\"):\n",
        "      #クロスバリデーションのスコアを取得\n",
        "      scores = cross_val_score(clf,x,y,cv = kfold_cv)\n",
        "      # k = n_splits = 5回分のクロスバリデーションスコアを表示\n",
        "      print(name,\"の正解率　＝　\")\n",
        "      print(scores)\n",
        "    #ifここまで\n",
        "  #tryここまで\n",
        "  except Exception as e:\n",
        "    #None\n",
        "    pass\n",
        "    print(e.args)\n",
        "  #exceptここまで\n"
      ],
      "execution_count": null,
      "outputs": [
        {
          "output_type": "stream",
          "text": [
            "AdaBoostClassifier の正解率　＝　\n",
            "[0.93333333 0.86666667 1.         0.93333333 0.8       ]\n",
            "BaggingClassifier の正解率　＝　\n",
            "[0.96666667 0.86666667 0.93333333 0.96666667 0.93333333]\n",
            "BernoulliNB の正解率　＝　\n",
            "[0.23333333 0.33333333 0.2        0.26666667 0.3       ]\n",
            "CalibratedClassifierCV の正解率　＝　\n",
            "[0.9        0.9        0.96666667 0.93333333 0.86666667]\n",
            "CategoricalNB の正解率　＝　\n",
            "[1.         0.93333333 0.96666667 0.9        0.86666667]\n",
            "CheckingClassifier の正解率　＝　\n",
            "[nan nan nan nan nan]\n",
            "(\"__init__() missing 1 required positional argument: 'base_estimator'\",)\n",
            "ComplementNB の正解率　＝　\n",
            "[0.66666667 0.66666667 0.63333333 0.76666667 0.6       ]\n",
            "DecisionTreeClassifier の正解率　＝　\n",
            "[0.8        1.         0.9        0.93333333 0.96666667]\n",
            "DummyClassifier の正解率　＝　\n",
            "[0.3        0.23333333 0.46666667 0.26666667 0.5       ]\n",
            "ExtraTreeClassifier の正解率　＝　\n",
            "[0.9        0.83333333 0.93333333 0.93333333 1.        ]\n",
            "ExtraTreesClassifier の正解率　＝　\n",
            "[0.96666667 0.96666667 0.93333333 0.96666667 0.96666667]\n",
            "GaussianNB の正解率　＝　\n",
            "[0.96666667 1.         1.         0.86666667 0.96666667]\n",
            "GaussianProcessClassifier の正解率　＝　\n",
            "[0.93333333 0.93333333 1.         0.96666667 0.96666667]\n",
            "GradientBoostingClassifier の正解率　＝　\n",
            "[0.93333333 0.93333333 0.93333333 1.         0.93333333]\n",
            "HistGradientBoostingClassifier の正解率　＝　\n",
            "[0.86666667 0.96666667 0.93333333 1.         0.96666667]\n",
            "KNeighborsClassifier の正解率　＝　\n",
            "[0.96666667 0.96666667 1.         0.93333333 0.93333333]\n",
            "LabelPropagation の正解率　＝　\n",
            "[0.9        0.96666667 1.         0.93333333 1.        ]\n",
            "LabelSpreading の正解率　＝　\n",
            "[0.93333333 0.96666667 0.93333333 1.         0.93333333]\n",
            "LinearDiscriminantAnalysis の正解率　＝　\n",
            "[1.         1.         1.         0.96666667 0.93333333]\n",
            "LinearSVC の正解率　＝　\n",
            "[0.96666667 1.         0.93333333 0.9        0.93333333]\n",
            "LogisticRegression の正解率　＝　\n",
            "[1.         0.93333333 1.         0.93333333 0.96666667]\n",
            "LogisticRegressionCV の正解率　＝　\n",
            "[1.         0.96666667 0.9        0.96666667 0.96666667]\n",
            "MLPClassifier の正解率　＝　\n",
            "[0.96666667 0.96666667 0.93333333 0.96666667 0.96666667]\n",
            "(\"__init__() missing 1 required positional argument: 'estimator'\",)\n",
            "MultinomialNB の正解率　＝　\n",
            "[0.9        0.96666667 0.9        0.83333333 0.93333333]\n",
            "NearestCentroid の正解率　＝　\n",
            "[0.96666667 0.9        0.86666667 1.         0.9       ]\n",
            "NuSVC の正解率　＝　\n",
            "[0.96666667 0.96666667 0.9        1.         1.        ]\n",
            "(\"__init__() missing 1 required positional argument: 'estimator'\",)\n",
            "(\"__init__() missing 1 required positional argument: 'estimator'\",)\n",
            "(\"__init__() missing 1 required positional argument: 'estimator'\",)\n",
            "PassiveAggressiveClassifier の正解率　＝　\n",
            "[0.66666667 0.86666667 0.76666667 0.9        0.93333333]\n",
            "Perceptron の正解率　＝　\n",
            "[0.9        0.86666667 0.3        0.83333333 0.66666667]\n",
            "QuadraticDiscriminantAnalysis の正解率　＝　\n",
            "[0.96666667 1.         0.96666667 0.96666667 1.        ]\n",
            "RadiusNeighborsClassifier の正解率　＝　\n",
            "[0.86666667 0.96666667 0.93333333 0.9        1.        ]\n",
            "RandomForestClassifier の正解率　＝　\n",
            "[0.96666667 1.         1.         0.86666667 0.96666667]\n",
            "RidgeClassifier の正解率　＝　\n",
            "[0.83333333 0.8        0.83333333 0.76666667 0.8       ]\n",
            "RidgeClassifierCV の正解率　＝　\n",
            "[0.7        0.86666667 0.93333333 0.86666667 0.8       ]\n",
            "SGDClassifier の正解率　＝　\n",
            "[1.         0.83333333 0.76666667 0.66666667 0.8       ]\n",
            "SVC の正解率　＝　\n",
            "[1.         0.93333333 1.         1.         0.9       ]\n",
            "(\"__init__() missing 1 required positional argument: 'estimators'\",)\n",
            "(\"__init__() missing 1 required positional argument: 'estimators'\",)\n"
          ],
          "name": "stdout"
        }
      ]
    },
    {
      "cell_type": "markdown",
      "metadata": {
        "id": "81g0kgivr9Ww"
      },
      "source": [
        "おまけ：cross_val_scoreよりも詳しい結果を取得できるクロスバリデーションオブジェクト\n",
        "### cross_validate"
      ]
    },
    {
      "cell_type": "code",
      "metadata": {
        "id": "9UejD93HqmiV"
      },
      "source": [
        "#　ライブラリのインポート\n",
        "from sklearn.model_selection import cross_validate"
      ],
      "execution_count": null,
      "outputs": []
    },
    {
      "cell_type": "code",
      "metadata": {
        "id": "wfB6oQwxsmGf",
        "outputId": "e35ddb7c-491c-424c-8d37-4c6e6882d84e",
        "colab": {
          "base_uri": "https://localhost:8080/",
          "height": 1000
        }
      },
      "source": [
        "# K分割交差検証のインスタンスを生成\n",
        "kfold_cv = KFold(n_splits = 5, shuffle = True)\n",
        "# 生成したall_estimatorsのインスタンスをループさせてクロスバリデーション\n",
        "for(name, algorithm) in allAlgrithms:\n",
        "  try:\n",
        "    #各アルゴリズムのインスタンス\n",
        "    clf = algorithm()\n",
        "    #score属性のアル学習モデルに絞る\n",
        "    if hasattr(clf,\"score\"):\n",
        "      #クロスバリデーションのスコアを取得\n",
        "      scores = cross_validate(clf,x,y,cv = kfold_cv)\n",
        "      # k = n_splits = 5回分のクロスバリデーションスコアを表示\n",
        "      print(name,\"の正解率　＝　\")\n",
        "      print(scores)\n",
        "    #ifここまで\n",
        "  #tryここまで\n",
        "  except Exception as e:\n",
        "    #None\n",
        "    pass\n",
        "    print(e.args)\n",
        "  #exceptここまで"
      ],
      "execution_count": null,
      "outputs": [
        {
          "output_type": "stream",
          "text": [
            "AdaBoostClassifier の正解率　＝　\n",
            "{'fit_time': array([0.07756233, 0.0644629 , 0.06465602, 0.07037616, 0.06532979]), 'score_time': array([0.00710726, 0.00676441, 0.00695705, 0.00690889, 0.00677204]), 'test_score': array([0.96666667, 0.96666667, 0.9       , 0.93333333, 0.93333333])}\n",
            "BaggingClassifier の正解率　＝　\n",
            "{'fit_time': array([0.01537561, 0.01376963, 0.01365304, 0.01347041, 0.01440167]), 'score_time': array([0.00206876, 0.00207305, 0.00196838, 0.00205016, 0.00253391]), 'test_score': array([1.        , 0.93333333, 0.96666667, 0.93333333, 1.        ])}\n",
            "BernoulliNB の正解率　＝　\n",
            "{'fit_time': array([0.0031743 , 0.00265241, 0.0032773 , 0.00299335, 0.0026803 ]), 'score_time': array([0.00124145, 0.00157189, 0.0013845 , 0.00153756, 0.00123811]), 'test_score': array([0.16666667, 0.2       , 0.23333333, 0.3       , 0.23333333])}\n",
            "CalibratedClassifierCV の正解率　＝　\n",
            "{'fit_time': array([0.05841398, 0.05827594, 0.0566926 , 0.05500603, 0.05677319]), 'score_time': array([0.00185156, 0.00190568, 0.00186634, 0.00192261, 0.00185919]), 'test_score': array([0.9       , 0.93333333, 0.83333333, 0.9       , 0.96666667])}\n",
            "CategoricalNB の正解率　＝　\n",
            "{'fit_time': array([0.00546241, 0.0026083 , 0.00241208, 0.00240064, 0.00240183]), 'score_time': array([0.00166726, 0.0009768 , 0.0009222 , 0.00091267, 0.00086188]), 'test_score': array([0.93333333, 0.9       , 1.        , 0.9       , 0.9       ])}\n",
            "CheckingClassifier の正解率　＝　\n",
            "{'fit_time': array([0.00078535, 0.00069904, 0.0007019 , 0.00068688, 0.00070596]), 'score_time': array([0., 0., 0., 0., 0.]), 'test_score': array([nan, nan, nan, nan, nan])}\n",
            "(\"__init__() missing 1 required positional argument: 'base_estimator'\",)\n",
            "ComplementNB の正解率　＝　\n",
            "{'fit_time': array([0.00248051, 0.00281644, 0.00260353, 0.00275612, 0.0028677 ]), 'score_time': array([0.00107336, 0.00133443, 0.00125122, 0.00190306, 0.00111079]), 'test_score': array([0.63333333, 0.73333333, 0.66666667, 0.73333333, 0.56666667])}\n",
            "DecisionTreeClassifier の正解率　＝　\n",
            "{'fit_time': array([0.00235367, 0.00145316, 0.00138903, 0.00141144, 0.00137067]), 'score_time': array([0.00083995, 0.00079989, 0.00079322, 0.00079203, 0.00079155]), 'test_score': array([1.        , 0.93333333, 0.9       , 0.93333333, 0.9       ])}\n",
            "DummyClassifier の正解率　＝　\n",
            "{'fit_time': array([0.00102139, 0.0009439 , 0.001086  , 0.00096393, 0.00093484]), 'score_time': array([0.0006187 , 0.00054336, 0.00071168, 0.00082946, 0.00052905]), 'test_score': array([0.4       , 0.3       , 0.26666667, 0.4       , 0.33333333])}\n",
            "ExtraTreeClassifier の正解率　＝　\n",
            "{'fit_time': array([0.00209188, 0.00137782, 0.00134993, 0.00132489, 0.00139165]), 'score_time': array([0.00085926, 0.00081468, 0.0007894 , 0.00078654, 0.00081372]), 'test_score': array([0.96666667, 0.93333333, 0.86666667, 0.96666667, 0.93333333])}\n",
            "ExtraTreesClassifier の正解率　＝　\n",
            "{'fit_time': array([0.08632326, 0.08803296, 0.08220649, 0.08220863, 0.09051991]), 'score_time': array([0.00796962, 0.0081737 , 0.00810957, 0.00804615, 0.0082643 ]), 'test_score': array([0.96666667, 1.        , 0.9       , 0.93333333, 0.96666667])}\n",
            "GaussianNB の正解率　＝　\n",
            "{'fit_time': array([0.00249672, 0.00213909, 0.00203633, 0.0022068 , 0.00155067]), 'score_time': array([0.00129247, 0.00136876, 0.00127172, 0.00127578, 0.00090313]), 'test_score': array([0.96666667, 0.93333333, 0.96666667, 0.96666667, 0.96666667])}\n",
            "GaussianProcessClassifier の正解率　＝　\n",
            "{'fit_time': array([0.03030348, 0.02936792, 0.02948499, 0.02933455, 0.03083634]), 'score_time': array([0.00508475, 0.00484014, 0.00495791, 0.00474119, 0.00522232]), 'test_score': array([0.93333333, 0.96666667, 0.96666667, 0.96666667, 0.96666667])}\n",
            "GradientBoostingClassifier の正解率　＝　\n",
            "{'fit_time': array([0.22036099, 0.15965557, 0.17414784, 0.17869258, 0.13809729]), 'score_time': array([0.00157356, 0.00149441, 0.00159574, 0.00162101, 0.00153899]), 'test_score': array([1.        , 0.96666667, 1.        , 0.96666667, 0.83333333])}\n",
            "HistGradientBoostingClassifier の正解率　＝　\n",
            "{'fit_time': array([0.12127018, 0.12903905, 0.11633253, 0.11283445, 0.11355782]), 'score_time': array([0.00510144, 0.0050211 , 0.00490308, 0.0051074 , 0.0051403 ]), 'test_score': array([0.9       , 0.93333333, 0.96666667, 1.        , 0.93333333])}\n",
            "KNeighborsClassifier の正解率　＝　\n",
            "{'fit_time': array([0.00207829, 0.00179768, 0.00163937, 0.00162482, 0.00160766]), 'score_time': array([0.00270534, 0.00281167, 0.00247169, 0.00238013, 0.00237226]), 'test_score': array([1.        , 0.9       , 0.93333333, 0.96666667, 1.        ])}\n",
            "LabelPropagation の正解率　＝　\n",
            "{'fit_time': array([0.00723863, 0.00774074, 0.00712204, 0.0069499 , 0.00706172]), 'score_time': array([0.00179815, 0.00154066, 0.00151157, 0.00157261, 0.00150084]), 'test_score': array([0.96666667, 0.9       , 0.96666667, 1.        , 0.93333333])}\n",
            "LabelSpreading の正解率　＝　\n",
            "{'fit_time': array([0.00680232, 0.00282526, 0.00514317, 0.00532413, 0.00712872]), 'score_time': array([0.00157952, 0.00141001, 0.00355864, 0.00140357, 0.00141358]), 'test_score': array([0.93333333, 0.93333333, 0.96666667, 1.        , 0.93333333])}\n",
            "LinearDiscriminantAnalysis の正解率　＝　\n",
            "{'fit_time': array([0.00254464, 0.00228882, 0.00708604, 0.00636649, 0.00211382]), 'score_time': array([0.00519538, 0.00092578, 0.0009582 , 0.00098515, 0.00590324]), 'test_score': array([1.        , 0.96666667, 0.93333333, 1.        , 1.        ])}\n",
            "LinearSVC の正解率　＝　\n",
            "{'fit_time': array([0.01904678, 0.02040863, 0.01898766, 0.01153851, 0.00979877]), 'score_time': array([0.00121522, 0.00676465, 0.00247598, 0.00131464, 0.00119305]), 'test_score': array([0.96666667, 0.9       , 0.86666667, 1.        , 0.96666667])}\n",
            "LogisticRegression の正解率　＝　\n",
            "{'fit_time': array([0.02176094, 0.0250926 , 0.0265131 , 0.02644181, 0.02761316]), 'score_time': array([0.00124621, 0.00126123, 0.00125575, 0.00125384, 0.00122833]), 'test_score': array([1.        , 0.96666667, 0.93333333, 0.93333333, 0.96666667])}\n",
            "LogisticRegressionCV の正解率　＝　\n",
            "{'fit_time': array([0.6943965 , 0.70938706, 0.75190759, 0.72221851, 0.78643298]), 'score_time': array([0.0011456 , 0.00116444, 0.00110221, 0.00114179, 0.00114942]), 'test_score': array([1.        , 1.        , 0.93333333, 0.93333333, 0.93333333])}\n",
            "MLPClassifier の正解率　＝　\n",
            "{'fit_time': array([0.11923242, 0.12971878, 0.12287068, 0.12759018, 0.12477374]), 'score_time': array([0.00128961, 0.00136471, 0.00135636, 0.00137806, 0.00140071]), 'test_score': array([0.93333333, 0.93333333, 0.96666667, 1.        , 1.        ])}\n",
            "(\"__init__() missing 1 required positional argument: 'estimator'\",)\n",
            "MultinomialNB の正解率　＝　\n",
            "{'fit_time': array([0.00315571, 0.00275469, 0.00285029, 0.00277495, 0.00259566]), 'score_time': array([0.00154281, 0.00108409, 0.00114036, 0.00113249, 0.00131869]), 'test_score': array([0.96666667, 0.96666667, 0.93333333, 0.93333333, 0.46666667])}\n",
            "NearestCentroid の正解率　＝　\n",
            "{'fit_time': array([0.00176477, 0.00173545, 0.00171018, 0.00171256, 0.00170374]), 'score_time': array([0.00122809, 0.00133324, 0.00119424, 0.00119662, 0.00139999]), 'test_score': array([0.86666667, 0.9       , 0.96666667, 0.96666667, 0.9       ])}\n",
            "NuSVC の正解率　＝　\n",
            "{'fit_time': array([0.00295186, 0.00204206, 0.00205421, 0.00207472, 0.00200963]), 'score_time': array([0.0010798 , 0.00090027, 0.00093961, 0.00093031, 0.00085449]), 'test_score': array([0.9       , 0.93333333, 1.        , 0.96666667, 0.96666667])}\n",
            "(\"__init__() missing 1 required positional argument: 'estimator'\",)\n",
            "(\"__init__() missing 1 required positional argument: 'estimator'\",)\n",
            "(\"__init__() missing 1 required positional argument: 'estimator'\",)\n",
            "PassiveAggressiveClassifier の正解率　＝　\n",
            "{'fit_time': array([0.0044446 , 0.00370121, 0.00303125, 0.0032599 , 0.00299025]), 'score_time': array([0.00116301, 0.0008533 , 0.0008533 , 0.00083971, 0.00086689]), 'test_score': array([0.83333333, 0.9       , 0.86666667, 0.96666667, 0.66666667])}\n",
            "Perceptron の正解率　＝　\n",
            "{'fit_time': array([0.00435281, 0.00385857, 0.00343537, 0.00356174, 0.00331044]), 'score_time': array([0.0012486 , 0.00100589, 0.00097775, 0.00101781, 0.00090504]), 'test_score': array([0.9       , 0.3       , 0.86666667, 0.63333333, 0.96666667])}\n",
            "QuadraticDiscriminantAnalysis の正解率　＝　\n",
            "{'fit_time': array([0.00255704, 0.00255322, 0.00166726, 0.00161791, 0.00163913]), 'score_time': array([0.00130153, 0.00105262, 0.00099111, 0.00096178, 0.00096345]), 'test_score': array([0.96666667, 1.        , 0.96666667, 0.96666667, 1.        ])}\n",
            "RadiusNeighborsClassifier の正解率　＝　\n",
            "{'fit_time': array([0.0020206 , 0.00152016, 0.00150299, 0.00143528, 0.00143504]), 'score_time': array([0.00254512, 0.00159931, 0.00155377, 0.00155711, 0.00153852]), 'test_score': array([0.93333333, 0.86666667, 0.96666667, 0.96666667, 0.96666667])}\n",
            "RandomForestClassifier の正解率　＝　\n",
            "{'fit_time': array([0.12972546, 0.11886144, 0.11788249, 0.12313604, 0.11905408]), 'score_time': array([0.00815511, 0.00837851, 0.00789118, 0.0083642 , 0.00803065]), 'test_score': array([0.86666667, 1.        , 0.96666667, 0.9       , 0.96666667])}\n",
            "RidgeClassifier の正解率　＝　\n",
            "{'fit_time': array([0.00520134, 0.00435138, 0.00288343, 0.00273442, 0.00271559]), 'score_time': array([0.00117874, 0.00115824, 0.00087619, 0.00083995, 0.00084543]), 'test_score': array([0.83333333, 0.86666667, 0.83333333, 0.8       , 0.9       ])}\n",
            "RidgeClassifierCV の正解率　＝　\n",
            "{'fit_time': array([0.00508499, 0.00297523, 0.00293326, 0.00290108, 0.00291729]), 'score_time': array([0.00098062, 0.00084186, 0.00084233, 0.00084281, 0.00088406]), 'test_score': array([0.73333333, 0.9       , 0.83333333, 0.93333333, 0.76666667])}\n",
            "SGDClassifier の正解率　＝　\n",
            "{'fit_time': array([0.00415277, 0.00399733, 0.00308561, 0.00329709, 0.00320148]), 'score_time': array([0.00120974, 0.00086999, 0.00086808, 0.00084209, 0.00084901]), 'test_score': array([0.66666667, 0.7       , 1.        , 0.96666667, 0.9       ])}\n",
            "SVC の正解率　＝　\n",
            "{'fit_time': array([0.0022521 , 0.0017488 , 0.00162029, 0.00157785, 0.00157619]), 'score_time': array([0.00085497, 0.00085568, 0.00088286, 0.00088596, 0.00086546]), 'test_score': array([0.9       , 0.93333333, 1.        , 0.96666667, 0.96666667])}\n",
            "(\"__init__() missing 1 required positional argument: 'estimators'\",)\n",
            "(\"__init__() missing 1 required positional argument: 'estimators'\",)\n"
          ],
          "name": "stdout"
        }
      ]
    },
    {
      "cell_type": "markdown",
      "metadata": {
        "id": "mi6HkW5R7fpP"
      },
      "source": [
        "### グリッドサーチで最適なパラメータを探索する"
      ]
    },
    {
      "cell_type": "markdown",
      "metadata": {
        "id": "CEUM4qP58StZ"
      },
      "source": [
        "ライブラリをインポート"
      ]
    },
    {
      "cell_type": "code",
      "metadata": {
        "id": "kEoGszZJtRYR"
      },
      "source": [
        "#グリッドサーチのオブジェクトクラスをインポート\n",
        "from sklearn.model_selection import GridSearchCV\n",
        "from sklearn.svm import SVC"
      ],
      "execution_count": null,
      "outputs": []
    },
    {
      "cell_type": "markdown",
      "metadata": {
        "id": "KT2j_HeJ8Ha-"
      },
      "source": [
        "グリッドサーチを実行してパラメータを取得"
      ]
    },
    {
      "cell_type": "code",
      "metadata": {
        "id": "S7aNevPk8G5z",
        "outputId": "58fdf549-48b5-4843-d0df-ad9afcc6bc65",
        "colab": {
          "base_uri": "https://localhost:8080/",
          "height": 122
        }
      },
      "source": [
        "# グリッドサーチで試すパラメータのパターン指定を定義する\n",
        "parameters = [\n",
        "              # 3つのパラメータ、3パターン\n",
        "              {\"C\":[1,10,100,1000],\"kernel\":[\"linear\"]},\n",
        "              {\"C\":[1,10,100,1000],\"kernel\":[\"rbf\"],\"gamma\":[0.001,0.0001]},\n",
        "              {\"C\":[1,10,100,1000],\"kernel\":[\"sigmoid\"],\"gamma\":[0.001,0.0001]}\n",
        "]\n",
        "\n",
        "#normal learn\n",
        "clf = SVC()\n",
        "clf.fit(x_train,y_train)\n",
        "y_pred = clf.predict(x_test)\n",
        "print(\"普通の学習の正解率　＝　\",accuracy_score(y_test,y_pred))\n",
        "\n",
        "# run grid search \n",
        "# make of Ksplit cross validate instance\n",
        "kfold_cv = KFold(n_splits=5,shuffle=True)\n",
        "\n",
        "#run k split cross validate in grid search\n",
        "clf_grid = GridSearchCV(SVC(),parameters,cv = kfold_cv)\n",
        "clf_grid.fit(x_train,y_train)\n",
        "\n",
        "#Already learned model set last parametor,and print\n",
        "print(\"最適なパラメータ　=　\",clf_grid.best_estimator_)\n",
        "\n",
        "#model already set best parametor to evolve\n",
        "y_pred = clf_grid.predict(x_test)\n",
        "print (\"グリッドサーチの正解率 = \",accuracy_score(y_test,y_pred))"
      ],
      "execution_count": null,
      "outputs": [
        {
          "output_type": "stream",
          "text": [
            "普通の学習の正解率　＝　 0.9\n",
            "最適なパラメータ　=　 SVC(C=1000, break_ties=False, cache_size=200, class_weight=None, coef0=0.0,\n",
            "    decision_function_shape='ovr', degree=3, gamma=0.001, kernel='rbf',\n",
            "    max_iter=-1, probability=False, random_state=None, shrinking=True,\n",
            "    tol=0.001, verbose=False)\n",
            "グリッドサーチの正解率 =  1.0\n"
          ],
          "name": "stdout"
        }
      ]
    },
    {
      "cell_type": "markdown",
      "metadata": {
        "id": "-56p8Awl1fwV"
      },
      "source": [
        "Numpyの動作確認\n"
      ]
    },
    {
      "cell_type": "code",
      "metadata": {
        "id": "vGZZmmOG9TvZ",
        "outputId": "bf15a8e7-87ba-4197-f2f7-8e48bbd37b70",
        "colab": {
          "base_uri": "https://localhost:8080/"
        }
      },
      "source": [
        "import numpy as np\n",
        "\n",
        "# numpy配列の初期化\n",
        "#ndarrayというnumpy配列を生成\n",
        "a = np.array([1,2,3,4,5])\n",
        "print(a)\n",
        "#type関数で関数型を表示\n",
        "print(type(a))\n",
        "\n",
        "#2次元配列のndarrayを定義\n",
        "b = np.array([[1,2,3],[4,5,6]])\n",
        "print(b)\n",
        "\n",
        "#配列の要素数を指定して初期化状態で作成\n",
        "#1次元配列\n",
        "print(np.zeros(10))\n",
        "#2次元配列\n",
        "print(np.zeros((3,2)))\n",
        "\n",
        "#配列の中身を１で初期化\n",
        "print(np.ones(3))\n",
        "\n",
        "#配列の中身を要素数で初期化\n",
        "print(np.arange(5))\n",
        "\n",
        "#配列の中身を指定の要素数で初期化\n",
        "print(np.arange(2,4))"
      ],
      "execution_count": 1,
      "outputs": [
        {
          "output_type": "stream",
          "text": [
            "[1 2 3 4 5]\n",
            "<class 'numpy.ndarray'>\n",
            "[[1 2 3]\n",
            " [4 5 6]]\n",
            "[0. 0. 0. 0. 0. 0. 0. 0. 0. 0.]\n",
            "[[0. 0.]\n",
            " [0. 0.]\n",
            " [0. 0.]]\n",
            "[1. 1. 1.]\n",
            "[0 1 2 3 4]\n",
            "[2 3]\n"
          ],
          "name": "stdout"
        }
      ]
    },
    {
      "cell_type": "markdown",
      "metadata": {
        "id": "2MAMP4Z51wuP"
      },
      "source": [
        "numpyで行列計算"
      ]
    },
    {
      "cell_type": "code",
      "metadata": {
        "id": "sMyCDFiz1wSN",
        "outputId": "dd64780a-0d45-4d4d-d8db-7ffceb302cfe",
        "colab": {
          "base_uri": "https://localhost:8080/"
        }
      },
      "source": [
        "a = np.array([1,2,3,4,5])\n",
        "b = a * 2\n",
        "print(b)\n",
        "\n",
        "x = np.arange(10)\n",
        "c = 3 * x + 5\n",
        "print(c)\n",
        "\n",
        "# 配列の次元数を表示\n",
        "a = np.array([[1,2,3],[4,5,6]])\n",
        "b = np.array([[1,2,3],[4,5,6],[7,8,9]])\n",
        "print(a)\n",
        "print(b)\n",
        "print(a.shape)\n",
        "print(b.shape)\n",
        "\n",
        "#配列の次元数を変換する\n",
        "a = np.array([[1,2,3],[4,5,6]])\n",
        "print(a)\n",
        "#2次元配列を1次元配列にする\n",
        "b = a.flatten()\n",
        "print(b)\n",
        "\n",
        "#行列反転\n",
        "c = a.reshape(3,2)#2行3列　→　3行2列\n",
        "print(c)"
      ],
      "execution_count": 2,
      "outputs": [
        {
          "output_type": "stream",
          "text": [
            "[ 2  4  6  8 10]\n",
            "[ 5  8 11 14 17 20 23 26 29 32]\n",
            "[[1 2 3]\n",
            " [4 5 6]]\n",
            "[[1 2 3]\n",
            " [4 5 6]\n",
            " [7 8 9]]\n",
            "(2, 3)\n",
            "(3, 3)\n",
            "[[1 2 3]\n",
            " [4 5 6]]\n",
            "[1 2 3 4 5 6]\n",
            "[[1 2]\n",
            " [3 4]\n",
            " [5 6]]\n"
          ],
          "name": "stdout"
        }
      ]
    },
    {
      "cell_type": "code",
      "metadata": {
        "id": "NW02CNUM16zP"
      },
      "source": [
        ""
      ],
      "execution_count": null,
      "outputs": []
    }
  ]
}