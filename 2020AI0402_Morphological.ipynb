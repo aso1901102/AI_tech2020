{
  "nbformat": 4,
  "nbformat_minor": 0,
  "metadata": {
    "colab": {
      "name": "2020AI0402-Morphological.ipynb",
      "provenance": [],
      "authorship_tag": "ABX9TyMHuJqD4tIY857kEsPrPTcc",
      "include_colab_link": true
    },
    "kernelspec": {
      "name": "python3",
      "display_name": "Python 3"
    }
  },
  "cells": [
    {
      "cell_type": "markdown",
      "metadata": {
        "id": "view-in-github",
        "colab_type": "text"
      },
      "source": [
        "<a href=\"https://colab.research.google.com/github/aso1901102/AI_tech2020/blob/master/2020AI0402_Morphological.ipynb\" target=\"_parent\"><img src=\"https://colab.research.google.com/assets/colab-badge.svg\" alt=\"Open In Colab\"/></a>"
      ]
    },
    {
      "cell_type": "markdown",
      "metadata": {
        "id": "bODhIS7nS-9C"
      },
      "source": [
        "##形態素解析（Morphological Analysis)"
      ]
    },
    {
      "cell_type": "markdown",
      "metadata": {
        "id": "hBbHcGiZTKSZ"
      },
      "source": [
        "### 形態素解析ライプラリMecabinstall"
      ]
    },
    {
      "cell_type": "code",
      "metadata": {
        "id": "6bhAMaMDSymO"
      },
      "source": [
        "# 形態素解析ライブラリMecabと辞書（meCab-ipadic-NEologd)のインストール\r\n",
        "!apt-get -q -y install sudo file mecab libmecab-dev mecab-ipadic-utf8 git curl python-mecab > /dev/null\r\n",
        "!pip install mecab-python3 > /dev/null\r\n",
        "\r\n",
        "# MeCab実行時の指定パスをインストールパスにリンク\r\n",
        "# シンボリックリンク(/etc/mecabrcを/usr/local/etc/mecabrcで参照できるようにする)\r\n",
        "!ln -s /etc/mecabrc /usr/local/etc/mecabrc"
      ],
      "execution_count": 2,
      "outputs": []
    },
    {
      "cell_type": "markdown",
      "metadata": {
        "id": "WirWfRBRUvHJ"
      },
      "source": [
        "### Mecabのデフォルト辞書で文章解析"
      ]
    },
    {
      "cell_type": "code",
      "metadata": {
        "colab": {
          "base_uri": "https://localhost:8080/"
        },
        "id": "FL-BEHwbT3i4",
        "outputId": "1586fde9-d0d1-4dd2-fe20-bf2a3267a0d6"
      },
      "source": [
        "# インストールしたMecabをimport\r\n",
        "import MeCab\r\n",
        "\r\n",
        "#MeCabオブジェクトの生成（デフォルト辞書）\r\n",
        "tagger = MeCab.Tagger()\r\n",
        "\r\n",
        "# 形態素解析を実行\r\n",
        "result = tagger.parse(\"メイが恋ダンスを踊っている\")\r\n",
        "\r\n",
        "# 解析結果を表示\r\n",
        "print(result)"
      ],
      "execution_count": 4,
      "outputs": [
        {
          "output_type": "stream",
          "text": [
            "メイ\t名詞,一般,*,*,*,*,*\n",
            "が\t助詞,格助詞,一般,*,*,*,が,ガ,ガ\n",
            "恋\t名詞,一般,*,*,*,*,恋,コイ,コイ\n",
            "ダンス\t名詞,サ変接続,*,*,*,*,ダンス,ダンス,ダンス\n",
            "を\t助詞,格助詞,一般,*,*,*,を,ヲ,ヲ\n",
            "踊っ\t動詞,自立,*,*,五段・ラ行,連用タ接続,踊る,オドッ,オドッ\n",
            "て\t助詞,接続助詞,*,*,*,*,て,テ,テ\n",
            "いる\t動詞,非自立,*,*,一段,基本形,いる,イル,イル\n",
            "EOS\n",
            "\n"
          ],
          "name": "stdout"
        }
      ]
    },
    {
      "cell_type": "code",
      "metadata": {
        "id": "joNK_m4hU4mB"
      },
      "source": [
        ""
      ],
      "execution_count": null,
      "outputs": []
    }
  ]
}