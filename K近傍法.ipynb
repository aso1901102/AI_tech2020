{
  "nbformat": 4,
  "nbformat_minor": 0,
  "metadata": {
    "colab": {
      "name": "K近傍法.ipynb",
      "provenance": [],
      "authorship_tag": "ABX9TyObHwj8by3uo0B2PJesOONF",
      "include_colab_link": true
    },
    "kernelspec": {
      "name": "python3",
      "display_name": "Python 3"
    }
  },
  "cells": [
    {
      "cell_type": "markdown",
      "metadata": {
        "id": "view-in-github",
        "colab_type": "text"
      },
      "source": [
        "<a href=\"https://colab.research.google.com/github/aso1901102/AI_tech2020/blob/master/K%E8%BF%91%E5%82%8D%E6%B3%95.ipynb\" target=\"_parent\"><img src=\"https://colab.research.google.com/assets/colab-badge.svg\" alt=\"Open In Colab\"/></a>"
      ]
    },
    {
      "cell_type": "markdown",
      "metadata": {
        "id": "hzoLn5NGX_9K"
      },
      "source": [
        "K近傍法のＸＯＲ演算を実装する"
      ]
    },
    {
      "cell_type": "code",
      "metadata": {
        "id": "Ce4B1XbhX-F-"
      },
      "source": [
        "#scikit-learnを使う為インポートする\n",
        "from sklearn.neighbors import KNeighborsClassifier          #K近傍のオブジェクト\n",
        "from sklearn.metrics import accuracy_score  #結果を評価するためのアルゴリズム"
      ],
      "execution_count": 6,
      "outputs": []
    },
    {
      "cell_type": "code",
      "metadata": {
        "id": "h6IcL77QYB5C"
      },
      "source": [
        "#XOR演算を学習する為のデータを用意する\n",
        "#X,Yの順番\n",
        "learn_data = [[0,0],[1,0],[0,1],[1,1]]\n",
        "\n",
        "#XOR演算の結果を用意する\n",
        "learn_label = [0,1,1,0]"
      ],
      "execution_count": 7,
      "outputs": []
    },
    {
      "cell_type": "code",
      "metadata": {
        "id": "TEGZRKzHYFQP",
        "outputId": "abafd44b-2bb2-46c2-b5cc-942f4321c4cd",
        "colab": {
          "base_uri": "https://localhost:8080/",
          "height": 70
        }
      },
      "source": [
        "#Ｋ近傍法（KNeighborsClassifier)のインスタンスを生成\n",
        "clf = KNeighborsClassifier(n_neighbors=1)\n",
        "\n",
        "#学習データと演算結果の学習（モデルに学習させる）\n",
        "clf.fit(learn_data,learn_label)"
      ],
      "execution_count": 8,
      "outputs": [
        {
          "output_type": "execute_result",
          "data": {
            "text/plain": [
              "KNeighborsClassifier(algorithm='auto', leaf_size=30, metric='minkowski',\n",
              "                     metric_params=None, n_jobs=None, n_neighbors=1, p=2,\n",
              "                     weights='uniform')"
            ]
          },
          "metadata": {
            "tags": []
          },
          "execution_count": 8
        }
      ]
    },
    {
      "cell_type": "code",
      "metadata": {
        "id": "YXtRdLt8YIzh",
        "outputId": "d803ca91-ddaf-486d-b296-3051bab89959",
        "colab": {
          "base_uri": "https://localhost:8080/",
          "height": 52
        }
      },
      "source": [
        "#予測用のテストデータを作成\n",
        "test_data = [[0,0],[1,0],[0,1],[1,1]]\n",
        "#モデルにテストデータを予測させる\n",
        "#predictメソッドで予測\n",
        "test_label = clf.predict(test_data)\n",
        "\n",
        "#テストデータの検証\n",
        "print(learn_data, \"の予測結果：\", test_label)\n",
        "print(\"正解率 = \", accuracy_score([0,1,1,0],test_label))"
      ],
      "execution_count": 9,
      "outputs": [
        {
          "output_type": "stream",
          "text": [
            "[[0, 0], [1, 0], [0, 1], [1, 1]] の予測結果： [0 1 1 0]\n",
            "正解率 =  1.0\n"
          ],
          "name": "stdout"
        }
      ]
    }
  ]
}