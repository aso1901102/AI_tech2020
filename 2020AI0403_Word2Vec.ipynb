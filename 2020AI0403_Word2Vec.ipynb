{
  "nbformat": 4,
  "nbformat_minor": 0,
  "metadata": {
    "colab": {
      "name": "2020AI0403-Word2Vec.ipynb",
      "provenance": [],
      "toc_visible": true,
      "authorship_tag": "ABX9TyPGomgplmLu3K5ZuLfG9HCJ",
      "include_colab_link": true
    },
    "kernelspec": {
      "name": "python3",
      "display_name": "Python 3"
    }
  },
  "cells": [
    {
      "cell_type": "markdown",
      "metadata": {
        "id": "view-in-github",
        "colab_type": "text"
      },
      "source": [
        "<a href=\"https://colab.research.google.com/github/aso1901102/AI_tech2020/blob/master/2020AI0403_Word2Vec.ipynb\" target=\"_parent\"><img src=\"https://colab.research.google.com/assets/colab-badge.svg\" alt=\"Open In Colab\"/></a>"
      ]
    },
    {
      "cell_type": "markdown",
      "metadata": {
        "id": "6zB4KmNqk0x9"
      },
      "source": [
        "## 単語の意味を判定する"
      ]
    },
    {
      "cell_type": "markdown",
      "metadata": {
        "id": "PN-9E5aHlMzr"
      },
      "source": [
        "### 単語の意味ベクトルを学習させたモデル（コーパスモデル）をDLして解凍"
      ]
    },
    {
      "cell_type": "code",
      "metadata": {
        "colab": {
          "base_uri": "https://localhost:8080/"
        },
        "id": "_zyp0qt3Xplm",
        "outputId": "9836c65e-4def-44c9-c877-aded3fdb5f56"
      },
      "source": [
        "import urllib.request as req\r\n",
        "\r\n",
        "#　コーパスモデルをDL\r\n",
        "url = \"https://www.dropbox.com/s/8kv39qpvg965i06/word2vec.gensim.zip?dl=1\"\r\n",
        "save_file = \"word2vec.gensim.model.zip\"\r\n",
        "\r\n",
        "req.urlretrieve(url, save_file)\r\n",
        "\r\n",
        "#　unzipで解凍\r\n",
        "!unzip -o -q \"word2vec.gensim.model.zip\"\r\n",
        "print(\"word2vec.zip 解凍\")"
      ],
      "execution_count": 1,
      "outputs": [
        {
          "output_type": "stream",
          "text": [
            "word2vec.zip 解凍\n"
          ],
          "name": "stdout"
        }
      ]
    },
    {
      "cell_type": "code",
      "metadata": {
        "id": "U2EMwwe6l8KY"
      },
      "source": [
        ""
      ],
      "execution_count": null,
      "outputs": []
    }
  ]
}