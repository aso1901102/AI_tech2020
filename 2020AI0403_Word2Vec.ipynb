{
  "nbformat": 4,
  "nbformat_minor": 0,
  "metadata": {
    "colab": {
      "name": "2020AI0403-Word2Vec.ipynb",
      "provenance": [],
      "authorship_tag": "ABX9TyMrCu0bizkQaQvHd1jx7KpU",
      "include_colab_link": true
    },
    "kernelspec": {
      "name": "python3",
      "display_name": "Python 3"
    }
  },
  "cells": [
    {
      "cell_type": "markdown",
      "metadata": {
        "id": "view-in-github",
        "colab_type": "text"
      },
      "source": [
        "<a href=\"https://colab.research.google.com/github/aso1901102/AI_tech2020/blob/master/2020AI0403_Word2Vec.ipynb\" target=\"_parent\"><img src=\"https://colab.research.google.com/assets/colab-badge.svg\" alt=\"Open In Colab\"/></a>"
      ]
    },
    {
      "cell_type": "markdown",
      "metadata": {
        "id": "6zB4KmNqk0x9"
      },
      "source": [
        "## 単語の意味を判定する"
      ]
    },
    {
      "cell_type": "markdown",
      "metadata": {
        "id": "PN-9E5aHlMzr"
      },
      "source": [
        "### 単語の意味ベクトルを学習させたモデル（コーパスモデル）をDLして解凍"
      ]
    },
    {
      "cell_type": "code",
      "metadata": {
        "colab": {
          "base_uri": "https://localhost:8080/"
        },
        "id": "_zyp0qt3Xplm",
        "outputId": "60114807-bf12-4f3f-b311-0b9baf2a1e08"
      },
      "source": [
        "import urllib.request as req\r\n",
        "\r\n",
        "#　コーパスモデルをDL\r\n",
        "url = \"https://www.dropbox.com/s/8kv39qpvg965i06/word2vec.gensim.zip?dl=1\"\r\n",
        "save_file = \"word2vec.gensim.model.zip\"\r\n",
        "\r\n",
        "req.urlretrieve(url, save_file)\r\n",
        "\r\n",
        "#　unzipで解凍\r\n",
        "!unzip -o -q \"word2vec.gensim.model.zip\"\r\n",
        "print(\"word2vec.zip 解凍\")"
      ],
      "execution_count": 1,
      "outputs": [
        {
          "output_type": "stream",
          "text": [
            "word2vec.zip 解凍\n"
          ],
          "name": "stdout"
        }
      ]
    },
    {
      "cell_type": "markdown",
      "metadata": {
        "id": "dw_N4QasOedH"
      },
      "source": [
        "### コーパスモデルを組み込む\r\n"
      ]
    },
    {
      "cell_type": "code",
      "metadata": {
        "id": "U2EMwwe6l8KY"
      },
      "source": [
        "from gensim.models import Word2Vec\r\n",
        "\r\n",
        "# コーパスモデルを読み込んでWord2Vecの学習モデルインスタンスを取得\r\n",
        "model = Word2Vec.load(\"/content/word2vec.gensim.model\")\r\n"
      ],
      "execution_count": 2,
      "outputs": []
    },
    {
      "cell_type": "markdown",
      "metadata": {
        "id": "doTk5C-GQLs-"
      },
      "source": [
        "### コーパスモデルで単語の類義語を推論"
      ]
    },
    {
      "cell_type": "code",
      "metadata": {
        "colab": {
          "base_uri": "https://localhost:8080/"
        },
        "id": "ruCh_b2pQwFr",
        "outputId": "30dd9409-6a72-4f48-af85-51f0a2d534d1"
      },
      "source": [
        "# 類似語を推論してリスト化\r\n",
        "results = model.wv.most_similar(positive=[\"業務\"], topn=5)\r\n",
        "\r\n",
        "# リストをループして表示\r\n",
        "for result in results:\r\n",
        "  print(result)\r\n",
        "  # forここまで\r\n",
        "\r\n",
        "\r\n"
      ],
      "execution_count": 6,
      "outputs": [
        {
          "output_type": "stream",
          "text": [
            "('事務', 0.8289206027984619)\n",
            "('民間企業', 0.7522704601287842)\n",
            "('郵便事業', 0.7504326105117798)\n",
            "('業務委託', 0.7485122680664062)\n",
            "('部署', 0.7473441362380981)\n"
          ],
          "name": "stdout"
        }
      ]
    },
    {
      "cell_type": "markdown",
      "metadata": {
        "id": "dBjnlB2BRWJu"
      },
      "source": [
        "### 条件を組み合わせて推論"
      ]
    },
    {
      "cell_type": "code",
      "metadata": {
        "colab": {
          "base_uri": "https://localhost:8080/"
        },
        "id": "OwwPqKwkRUVv",
        "outputId": "47ec261a-8bf9-4ede-d770-82647a4ab72f"
      },
      "source": [
        "# ポジティブワードとネガティブワードの組み合わせ\r\n",
        "word = \"国王\"\r\n",
        "print(\"--------\")\r\n",
        "print(word)\r\n",
        "results = model.wv.most_similar(word)\r\n",
        "for result in results:\r\n",
        "  print(result)\r\n",
        "  # forここまで\r\n",
        "\r\n",
        "word = \"王\"\r\n",
        "print(\"--------\")\r\n",
        "print(word)\r\n",
        "results = model.wv.most_similar(word)\r\n",
        "for result in results:\r\n",
        "  print(result)\r\n",
        "  # forここまで\r\n",
        "\r\n",
        "word = \"王様\"\r\n",
        "print(\"--------\")\r\n",
        "print(word)\r\n",
        "results = model.wv.most_similar(word)\r\n",
        "for result in results:\r\n",
        "  print(result)\r\n",
        "  # forここまで\r\n",
        "\r\n",
        "word = \"王様\"\r\n",
        "word2 = \"女性\"\r\n",
        "print(\"--------\")\r\n",
        "print(word, \" + \", word2)\r\n",
        "results = model.wv.most_similar(positive=[word, word2])\r\n",
        "for result in results:\r\n",
        "  print(result)\r\n",
        "  # forここまで\r\n",
        "\r\n",
        "word = \"王様\"\r\n",
        "word2 = \"女性\"\r\n",
        "word3 = \"男性\"\r\n",
        "print(\"--------\")\r\n",
        "print(word, \" + \", word2, \" + \", word3)\r\n",
        "results = model.wv.most_similar(positive=[word, word2], negative=[word3])\r\n",
        "for result in results:\r\n",
        "  print(result)\r\n",
        "  # forここまで\r\n"
      ],
      "execution_count": 13,
      "outputs": [
        {
          "output_type": "stream",
          "text": [
            "--------\n",
            "国王\n",
            "('ツァーリ', 0.9053068161010742)\n",
            "('スルタン', 0.8805959820747375)\n",
            "('皇帝', 0.874972939491272)\n",
            "('スルターン', 0.8520403504371643)\n",
            "('女帝', 0.8492650389671326)\n",
            "('ジェームズ2世', 0.837557315826416)\n",
            "('王太子', 0.8365861177444458)\n",
            "('摂政', 0.8361721634864807)\n",
            "('イギリス国王', 0.8348546028137207)\n",
            "('君主', 0.8336648941040039)\n",
            "--------\n",
            "王\n",
            "('大王', 0.855927586555481)\n",
            "('皇帝', 0.8524040579795837)\n",
            "('先王', 0.8425959348678589)\n",
            "('君主', 0.824544370174408)\n",
            "('ローマ皇帝', 0.8206972479820251)\n",
            "('西ローマ皇帝', 0.8157353401184082)\n",
            "('王シ', 0.8076152205467224)\n",
            "('ファラオ', 0.8029801845550537)\n",
            "('女帝', 0.8029454350471497)\n",
            "('聖王', 0.7952451705932617)\n",
            "--------\n",
            "王様\n",
            "('野獣', 0.8659248352050781)\n",
            "('お姫様', 0.8607541918754578)\n",
            "('魔女', 0.8333204388618469)\n",
            "('花嫁', 0.830689013004303)\n",
            "('乙女', 0.8267987966537476)\n",
            "('キューピッド', 0.8178128004074097)\n",
            "('狩人', 0.8152097463607788)\n",
            "('父さん', 0.8097778558731079)\n",
            "('パパ', 0.8046603798866272)\n",
            "('帽子屋', 0.8032904863357544)\n",
            "--------\n",
            "王様  +  女性\n",
            "('少女', 0.8220486044883728)\n",
            "('彼女ら', 0.8072021007537842)\n",
            "('美女', 0.8049534559249878)\n",
            "('美少年', 0.8014258146286011)\n",
            "('お姫様', 0.798124372959137)\n",
            "('メイド', 0.7976080179214478)\n",
            "('彼女たち', 0.7953735589981079)\n",
            "('花嫁', 0.7931262254714966)\n",
            "('野獣', 0.7845075130462646)\n",
            "('貴婦人', 0.7812718152999878)\n",
            "--------\n",
            "王様  +  女性  +  男性\n",
            "('お姫様', 0.8531287312507629)\n",
            "('花嫁', 0.839175820350647)\n",
            "('野獣', 0.8315544128417969)\n",
            "('魔女', 0.8298223614692688)\n",
            "('乙女', 0.8235582709312439)\n",
            "('愛する人', 0.800349235534668)\n",
            "('天国', 0.7905834913253784)\n",
            "('悪魔', 0.7898154854774475)\n",
            "('キューピッド', 0.7896510362625122)\n",
            "('魔法使い', 0.788610577583313)\n"
          ],
          "name": "stdout"
        }
      ]
    },
    {
      "cell_type": "code",
      "metadata": {
        "id": "GuMdt0sxTW_Q"
      },
      "source": [
        ""
      ],
      "execution_count": null,
      "outputs": []
    }
  ]
}