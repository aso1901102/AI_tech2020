{
  "nbformat": 4,
  "nbformat_minor": 0,
  "metadata": {
    "colab": {
      "name": "2020AI0203-Wine.ipynb",
      "provenance": [],
      "authorship_tag": "ABX9TyOczOicfZfWgW0GrO27TTUB",
      "include_colab_link": true
    },
    "kernelspec": {
      "name": "python3",
      "display_name": "Python 3"
    }
  },
  "cells": [
    {
      "cell_type": "markdown",
      "metadata": {
        "id": "view-in-github",
        "colab_type": "text"
      },
      "source": [
        "<a href=\"https://colab.research.google.com/github/aso1901102/AI_tech2020/blob/master/2020AI0203_Wine.ipynb\" target=\"_parent\"><img src=\"https://colab.research.google.com/assets/colab-badge.svg\" alt=\"Open In Colab\"/></a>"
      ]
    },
    {
      "cell_type": "markdown",
      "metadata": {
        "id": "VJ_r3zBvgqB4"
      },
      "source": [
        "###ワインデータの分類をランダムフォレストで行う"
      ]
    },
    {
      "cell_type": "code",
      "metadata": {
        "id": "xFzobQv-gCb3"
      },
      "source": [
        "#　ライブラリの読み込み\n",
        "import pandas as pd\n",
        "\n",
        "# データを学習用とテスト用に分けるライブラリ\n",
        "from sklearn.model_selection import train_test_split\n",
        "\n",
        "# ランダムフォレストアルゴリズムの学習モデル（分類）\n",
        "from sklearn.ensemble import RandomForestClassifier\n",
        "\n",
        "# 学習制度を評価するライブラリ\n",
        "from sklearn.metrics import accuracy_score\n",
        "\n",
        "# 分類結果を出力するライブラリ\n",
        "from sklearn.metrics import classification_report"
      ],
      "execution_count": 1,
      "outputs": []
    },
    {
      "cell_type": "markdown",
      "metadata": {
        "id": "K5lgd4lAgpUo"
      },
      "source": [
        "###ワインデータの読み込み"
      ]
    },
    {
      "cell_type": "code",
      "metadata": {
        "id": "I0Sq0OEai333",
        "outputId": "5f3a1739-ddb9-464f-d9c9-e4cedf873835",
        "colab": {
          "base_uri": "https://localhost:8080/",
          "height": 34
        }
      },
      "source": [
        "#webから読み込むためのライブラリ\n",
        "from urllib.request import urlretrieve\n",
        "\n",
        "#uciのサイトから読み込むためのＵＲＬオブジェクト\n",
        "url = \"https://archive.ics.uci.edu/ml/machine-learning-databases/wine-quality/winequality-white.csv\"\n",
        "savepath = \"winepuality-white.csv\"\n",
        "\n",
        "#データをwebにアクセスしてコピーしたファイル名・ファイルパスを保存\n",
        "urlretrieve(url,savepath)"
      ],
      "execution_count": 2,
      "outputs": [
        {
          "output_type": "execute_result",
          "data": {
            "text/plain": [
              "('winepuality-white.csv', <http.client.HTTPMessage at 0x7fea29386f98>)"
            ]
          },
          "metadata": {
            "tags": []
          },
          "execution_count": 2
        }
      ]
    },
    {
      "cell_type": "markdown",
      "metadata": {
        "id": "kxZV7hXMkEEs"
      },
      "source": [
        "###ワインデータのファイルを読み込んで表示（区切り文字「；」で指定）"
      ]
    },
    {
      "cell_type": "code",
      "metadata": {
        "id": "rXy0Bh1QkC_0"
      },
      "source": [
        "# 変数wineにデータ保持\n",
        "wine = pd.read_csv(savepath,sep=\";\",encoding=\"utf-8\")"
      ],
      "execution_count": 3,
      "outputs": []
    },
    {
      "cell_type": "markdown",
      "metadata": {
        "id": "G1NlWNJik9Pr"
      },
      "source": [
        "###データを説明変数と目的変数（ラベル）に分類"
      ]
    },
    {
      "cell_type": "code",
      "metadata": {
        "id": "GUE7CAMAk8mj"
      },
      "source": [
        "#目的変数はワインの品質ランク\n",
        "y = wine[\"quality\"]\n",
        "\n",
        "#説明変数は\"quality\"列以外のすべて\n",
        "x = wine.drop(\"quality\",axis=1)"
      ],
      "execution_count": 4,
      "outputs": []
    },
    {
      "cell_type": "markdown",
      "metadata": {
        "id": "rKAGaPzfmONH"
      },
      "source": [
        "###学習用とテスト用に分ける"
      ]
    },
    {
      "cell_type": "code",
      "metadata": {
        "id": "CLRAlKQllI-M",
        "outputId": "edace738-1aaf-4803-e00d-28c5f14764a6",
        "colab": {
          "base_uri": "https://localhost:8080/",
          "height": 158
        }
      },
      "source": [
        "#x_trainは学習用、x_testは検証用とする\n",
        "x_train,x_test,y_train,y_test = train_test_split(x,y,test_size = 0.2)\n",
        "\n",
        "model = RandomForestClassifier()\n",
        "model.fit(x_train,y_train)"
      ],
      "execution_count": 5,
      "outputs": [
        {
          "output_type": "execute_result",
          "data": {
            "text/plain": [
              "RandomForestClassifier(bootstrap=True, ccp_alpha=0.0, class_weight=None,\n",
              "                       criterion='gini', max_depth=None, max_features='auto',\n",
              "                       max_leaf_nodes=None, max_samples=None,\n",
              "                       min_impurity_decrease=0.0, min_impurity_split=None,\n",
              "                       min_samples_leaf=1, min_samples_split=2,\n",
              "                       min_weight_fraction_leaf=0.0, n_estimators=100,\n",
              "                       n_jobs=None, oob_score=False, random_state=None,\n",
              "                       verbose=0, warm_start=False)"
            ]
          },
          "metadata": {
            "tags": []
          },
          "execution_count": 5
        }
      ]
    },
    {
      "cell_type": "code",
      "metadata": {
        "id": "-GOVDxLGmc7x",
        "outputId": "78eb1ae0-a5ad-4a4c-f14e-674b4fbe3577",
        "colab": {
          "base_uri": "https://localhost:8080/",
          "height": 336
        }
      },
      "source": [
        "y_pred = model.predict(x_test)\n",
        "print(classification_report(y_test,y_pred))\n",
        "print(\"正解率 = \",accuracy_score(y_test,y_pred))"
      ],
      "execution_count": 7,
      "outputs": [
        {
          "output_type": "stream",
          "text": [
            "              precision    recall  f1-score   support\n",
            "\n",
            "           3       0.00      0.00      0.00         1\n",
            "           4       0.62      0.38      0.47        21\n",
            "           5       0.72      0.65      0.68       301\n",
            "           6       0.63      0.78      0.70       449\n",
            "           7       0.69      0.51      0.58       173\n",
            "           8       1.00      0.26      0.42        34\n",
            "           9       0.00      0.00      0.00         1\n",
            "\n",
            "    accuracy                           0.67       980\n",
            "   macro avg       0.52      0.37      0.41       980\n",
            "weighted avg       0.68      0.67      0.66       980\n",
            "\n",
            "正解率 =  0.6653061224489796\n"
          ],
          "name": "stdout"
        },
        {
          "output_type": "stream",
          "text": [
            "/usr/local/lib/python3.6/dist-packages/sklearn/metrics/_classification.py:1272: UndefinedMetricWarning: Precision and F-score are ill-defined and being set to 0.0 in labels with no predicted samples. Use `zero_division` parameter to control this behavior.\n",
            "  _warn_prf(average, modifier, msg_start, len(result))\n"
          ],
          "name": "stderr"
        }
      ]
    }
  ]
}