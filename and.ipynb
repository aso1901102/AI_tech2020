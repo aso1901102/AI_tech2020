{
  "nbformat": 4,
  "nbformat_minor": 0,
  "metadata": {
    "colab": {
      "name": "and.ipynb",
      "provenance": [],
      "authorship_tag": "ABX9TyOR5lOvdOB9sF8N51lpaIyG",
      "include_colab_link": true
    },
    "kernelspec": {
      "name": "python3",
      "display_name": "Python 3"
    }
  },
  "cells": [
    {
      "cell_type": "markdown",
      "metadata": {
        "id": "view-in-github",
        "colab_type": "text"
      },
      "source": [
        "<a href=\"https://colab.research.google.com/github/aso1901102/AI_tech2020/blob/master/and.ipynb\" target=\"_parent\"><img src=\"https://colab.research.google.com/assets/colab-badge.svg\" alt=\"Open In Colab\"/></a>"
      ]
    },
    {
      "cell_type": "markdown",
      "metadata": {
        "id": "_AVZNeF_qnPK",
        "colab_type": "text"
      },
      "source": [
        "###AND演算を学ばせる(LinearSCV)"
      ]
    },
    {
      "cell_type": "code",
      "metadata": {
        "id": "3o0eSm5Aqqao",
        "colab_type": "code",
        "colab": {}
      },
      "source": [
        "#scikit-learnを使う為インポートする\n",
        "from sklearn.svm import LinearSVC           #線形SVCのオブジェクト\n",
        "from sklearn.metrics import accuracy_score  #結果を評価するためのアルゴリズム"
      ],
      "execution_count": 10,
      "outputs": []
    },
    {
      "cell_type": "markdown",
      "metadata": {
        "id": "LVe9Ru9Ura6p",
        "colab_type": "text"
      },
      "source": [
        "###学習の為のデータを用意する"
      ]
    },
    {
      "cell_type": "code",
      "metadata": {
        "id": "1On9upoDrRxL",
        "colab_type": "code",
        "colab": {}
      },
      "source": [
        "#入力値を表すデータ\n",
        "#入力x,入力y\n",
        "learn_data = [[0,0],[1,0],[0,1],[1,1]]\n",
        "\n",
        "#x と yのand演算結果\n",
        "learn_label = [0,0,0,1]"
      ],
      "execution_count": 11,
      "outputs": []
    },
    {
      "cell_type": "markdown",
      "metadata": {
        "id": "EYMTC8qIsdEf",
        "colab_type": "text"
      },
      "source": [
        "###アルゴリズムのインスタンスを生成"
      ]
    },
    {
      "cell_type": "code",
      "metadata": {
        "id": "ytU_1txfsaPK",
        "colab_type": "code",
        "colab": {
          "base_uri": "https://localhost:8080/",
          "height": 87
        },
        "outputId": "44eb4a5f-813f-4256-e346-bfb14e58457b"
      },
      "source": [
        "#線形SVC（LinearSVC)のインスタンスを生成\n",
        "clf = LinearSVC()\n",
        "\n",
        "#学習データと演算結果の学習（モデルに学習させる）\n",
        "clf.fit(learn_data,learn_label)"
      ],
      "execution_count": 12,
      "outputs": [
        {
          "output_type": "execute_result",
          "data": {
            "text/plain": [
              "LinearSVC(C=1.0, class_weight=None, dual=True, fit_intercept=True,\n",
              "          intercept_scaling=1, loss='squared_hinge', max_iter=1000,\n",
              "          multi_class='ovr', penalty='l2', random_state=None, tol=0.0001,\n",
              "          verbose=0)"
            ]
          },
          "metadata": {
            "tags": []
          },
          "execution_count": 12
        }
      ]
    },
    {
      "cell_type": "markdown",
      "metadata": {
        "id": "4OjqX4tZtnMo",
        "colab_type": "text"
      },
      "source": [
        "###データにからの予測と予測結果の評価"
      ]
    },
    {
      "cell_type": "code",
      "metadata": {
        "id": "t39slv6atj7N",
        "colab_type": "code",
        "colab": {
          "base_uri": "https://localhost:8080/",
          "height": 52
        },
        "outputId": "540b6033-8ac1-460c-bf05-99f72e609ab4"
      },
      "source": [
        "#予測用のテストデータを作成\n",
        "test_data = [[0,0],[1,0],[0,1],[1,1]]\n",
        "#モデルにテストデータを予測させる\n",
        "#predictメソッドで予測\n",
        "test_label = clf.predict(test_data)\n",
        "\n",
        "#予測結果の評価\n",
        "print(test_data,\"の予測結果:\",test_label)\n",
        "#accuracy_scoreで予測と正解の精度を確認する\n",
        "print(\"正解率 = \",accuracy_score([0, 0, 0, 1], test_label))"
      ],
      "execution_count": 13,
      "outputs": [
        {
          "output_type": "stream",
          "text": [
            "[[0, 0], [1, 0], [0, 1], [1, 1]] の予測結果: [0 0 0 1]\n",
            "正解率 =  1.0\n"
          ],
          "name": "stdout"
        }
      ]
    }
  ]
}