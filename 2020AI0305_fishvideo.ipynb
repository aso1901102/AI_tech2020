{
  "nbformat": 4,
  "nbformat_minor": 0,
  "metadata": {
    "colab": {
      "name": "2020AI0305-fishvideo.ipynb",
      "provenance": [],
      "collapsed_sections": [],
      "authorship_tag": "ABX9TyO/mHwbsHGJIZzEu7ys7eSW",
      "include_colab_link": true
    },
    "kernelspec": {
      "name": "python3",
      "display_name": "Python 3"
    }
  },
  "cells": [
    {
      "cell_type": "markdown",
      "metadata": {
        "id": "view-in-github",
        "colab_type": "text"
      },
      "source": [
        "<a href=\"https://colab.research.google.com/github/aso1901102/AI_tech2020/blob/master/2020AI0305_fishvideo.ipynb\" target=\"_parent\"><img src=\"https://colab.research.google.com/assets/colab-badge.svg\" alt=\"Open In Colab\"/></a>"
      ]
    },
    {
      "cell_type": "markdown",
      "metadata": {
        "id": "51cbw4gZrNIh"
      },
      "source": [
        "## 動画ファイルから画面の変化を検出して動画ファイルに保存する"
      ]
    },
    {
      "cell_type": "markdown",
      "metadata": {
        "id": "KqrRREC8rIiH"
      },
      "source": [
        "### ライブラリのimport"
      ]
    },
    {
      "cell_type": "code",
      "metadata": {
        "id": "v6lpHpA6rSnn"
      },
      "source": [
        "import cv2\n",
        "#OS操作用オブジェクト\n",
        "import os\n",
        "\n",
        "import urllib.request as req"
      ],
      "execution_count": null,
      "outputs": []
    },
    {
      "cell_type": "code",
      "metadata": {
        "id": "J1pPSET0r0q4"
      },
      "source": [
        "#変数定義\n",
        "# 前回の画像データ\n",
        "img_last = None\n",
        "# ファイル番号\n",
        "no = 0\n",
        "\n",
        "#ファイル保存用ディレクトリ\n",
        "save_dir = \"./exfish\"\n",
        "\n",
        "#OSにディレクトリ作成命令\n",
        "os.makedirs(save_dir,exist_ok=True)#存在するときは実行しない"
      ],
      "execution_count": null,
      "outputs": []
    },
    {
      "cell_type": "markdown",
      "metadata": {
        "id": "6IN3QR0rsx-I"
      },
      "source": [
        "### 動画を1フレーム毎に読みこんで比較保存する\n"
      ]
    },
    {
      "cell_type": "code",
      "metadata": {
        "colab": {
          "base_uri": "https://localhost:8080/"
        },
        "id": "QobIjfhUsxdo",
        "outputId": "e7b91ccc-8bd2-426e-b6cc-d78141d23f2f"
      },
      "source": [
        "url = \"https://github.com/masatokg/sample_photo/raw/master/fish.mp4\"\n",
        "save_file = \"fish.mp4\"\n",
        "req.urlretrieve(url,save_file)\n",
        "\n",
        "# OpenCVでファイルの画像データを読み込む\n",
        "cap = cv2.VideoCapture(save_file)\n",
        "\n",
        "# 次のフレーム終わりまで順次無限ループで読み込む\n",
        "while(True):\n",
        "  #　フレームの終わりまで（戻り値Falseで終わり）\n",
        "  is_ok, frame = cap.read()\n",
        "  #　フレームが終わったら（is_ok = False)\n",
        "  if not is_ok:\n",
        "    print(\"end.\")\n",
        "    break\n",
        "  #ifここまで\n",
        "  # フレームサイズを640×340に整形\n",
        "  frame = cv2.resize(frame,(640,340))\n",
        "  # グレースケール変換\n",
        "  gray = cv2.cvtColor(frame, cv2.COLOR_BGR2GRAY)\n",
        "  #　ガウスぼかしをかけて輪郭を太くする\n",
        "  gray  =  cv2.GaussianBlur(gray,(15,15),0)\n",
        "  # 閾値を指定してBlack & Whiteの2極画像に変える\n",
        "  img_b = cv2.threshold(gray,127,255,cv2.THRESH_BINARY)[1]\n",
        "\n",
        "  # 前回記憶した画像があれば差分を検出\n",
        "  if not img_last is None:\n",
        "    #差分の値を絶対値で取得\n",
        "    frame_diff = cv2.absdiff(img_last,img_b)\n",
        "    print(frame_diff)\n",
        "    ###\n",
        "    #\n",
        "    #エラーはframe_diffが原因？\n",
        "    #img_lastとimg_bの差分が検出できていないみたい\n",
        "    #\n",
        "    ###\n",
        "\n",
        "    # 差分の輪郭の特徴（座標）をリストで保存\n",
        "    cnts = cv2.findContours(frame_diff,cv2.RETR_EXTERNAL,cv2.CHAIN_APPROX_SIMPLE)[0]\n",
        "\n",
        "    #print(len(cnts))\n",
        "    # 差分の数だけループして座標の領域データを切り抜いて保存\n",
        "    for pt in cnts:\n",
        "      # 差分の座標と変数に代入\n",
        "      x, y, w, h = cv2.boundingRect(pt)\n",
        "      # 領域があまりに小さい（大きい）ときはノイズとして破棄\n",
        "      if w < 100 or w > 500:\n",
        "        continue\n",
        "      \n",
        "      # フレームから指定した座標領域の画像データを切り抜く\n",
        "      imagex = frame[y:y+h, x:x+w]\n",
        "\n",
        "      # ファイル保存　＆　ファイル名組み立て\n",
        "      outfile = save_dir + \"/\" + str(no) + \".jpg\"\n",
        "      # ファイル保存命令\n",
        "      cv2.imwrite(outfile, imagex)\n",
        "\n",
        "      # ファイル番号　＋１\n",
        "      no += 1\n",
        "    # for ここまで\n",
        "  # if ここまで\n",
        "\n",
        "  # B & W画像を保存する\n",
        "  img_last = img_b\n",
        "\n",
        "  # 画像ファイルの読み込みを開放\n",
        "  cap.release()\n",
        "#終了メッセージ\n",
        "print(\"OK!!\")"
      ],
      "execution_count": null,
      "outputs": [
        {
          "output_type": "stream",
          "text": [
            "[[0 0 0 ... 0 0 0]\n",
            " [0 0 0 ... 0 0 0]\n",
            " [0 0 0 ... 0 0 0]\n",
            " ...\n",
            " [0 0 0 ... 0 0 0]\n",
            " [0 0 0 ... 0 0 0]\n",
            " [0 0 0 ... 0 0 0]]\n",
            "end.\n",
            "OK!!\n"
          ],
          "name": "stdout"
        }
      ]
    },
    {
      "cell_type": "markdown",
      "metadata": {
        "id": "KknFOtD-y-pL"
      },
      "source": [
        "# ファイルをzipに圧縮してDL"
      ]
    },
    {
      "cell_type": "code",
      "metadata": {
        "colab": {
          "base_uri": "https://localhost:8080/",
          "height": 34
        },
        "id": "mrr_mVVZySwu",
        "outputId": "c98addca-0dca-4ea0-a350-24821a1cd5e8"
      },
      "source": [
        "# DLしたいフォルダをZip圧縮する\n",
        "! zip -r /content/download.zip /content/exfish/\n",
        " \n",
        "# 圧縮したzipファイルをDL\n",
        "from google.colab import files\n",
        "files.download(\"/content/download.zip\")"
      ],
      "execution_count": null,
      "outputs": [
        {
          "output_type": "stream",
          "text": [
            "updating: content/exfish/ (stored 0%)\n"
          ],
          "name": "stdout"
        },
        {
          "output_type": "display_data",
          "data": {
            "application/javascript": [
              "\n",
              "    async function download(id, filename, size) {\n",
              "      if (!google.colab.kernel.accessAllowed) {\n",
              "        return;\n",
              "      }\n",
              "      const div = document.createElement('div');\n",
              "      const label = document.createElement('label');\n",
              "      label.textContent = `Downloading \"${filename}\": `;\n",
              "      div.appendChild(label);\n",
              "      const progress = document.createElement('progress');\n",
              "      progress.max = size;\n",
              "      div.appendChild(progress);\n",
              "      document.body.appendChild(div);\n",
              "\n",
              "      const buffers = [];\n",
              "      let downloaded = 0;\n",
              "\n",
              "      const channel = await google.colab.kernel.comms.open(id);\n",
              "      // Send a message to notify the kernel that we're ready.\n",
              "      channel.send({})\n",
              "\n",
              "      for await (const message of channel.messages) {\n",
              "        // Send a message to notify the kernel that we're ready.\n",
              "        channel.send({})\n",
              "        if (message.buffers) {\n",
              "          for (const buffer of message.buffers) {\n",
              "            buffers.push(buffer);\n",
              "            downloaded += buffer.byteLength;\n",
              "            progress.value = downloaded;\n",
              "          }\n",
              "        }\n",
              "      }\n",
              "      const blob = new Blob(buffers, {type: 'application/binary'});\n",
              "      const a = document.createElement('a');\n",
              "      a.href = window.URL.createObjectURL(blob);\n",
              "      a.download = filename;\n",
              "      div.appendChild(a);\n",
              "      a.click();\n",
              "      div.remove();\n",
              "    }\n",
              "  "
            ],
            "text/plain": [
              "<IPython.core.display.Javascript object>"
            ]
          },
          "metadata": {
            "tags": []
          }
        },
        {
          "output_type": "display_data",
          "data": {
            "application/javascript": [
              "download(\"download_a1e13e65-8ca0-4a1d-9ded-77769759d1c5\", \"download.zip\", 180)"
            ],
            "text/plain": [
              "<IPython.core.display.Javascript object>"
            ]
          },
          "metadata": {
            "tags": []
          }
        }
      ]
    },
    {
      "cell_type": "code",
      "metadata": {
        "id": "MN4Vb3WNzkWk"
      },
      "source": [
        ""
      ],
      "execution_count": null,
      "outputs": []
    }
  ]
}