{
  "nbformat": 4,
  "nbformat_minor": 0,
  "metadata": {
    "colab": {
      "name": "2020ＡＩ0202-iris.ipynb",
      "provenance": [],
      "authorship_tag": "ABX9TyP+lbtvBNBvVkYlE5INMdYd",
      "include_colab_link": true
    },
    "kernelspec": {
      "name": "python3",
      "display_name": "Python 3"
    }
  },
  "cells": [
    {
      "cell_type": "markdown",
      "metadata": {
        "id": "view-in-github",
        "colab_type": "text"
      },
      "source": [
        "<a href=\"https://colab.research.google.com/github/aso1901102/AI_tech2020/blob/master/2020%EF%BC%A1%EF%BC%A90202_iris.ipynb\" target=\"_parent\"><img src=\"https://colab.research.google.com/assets/colab-badge.svg\" alt=\"Open In Colab\"/></a>"
      ]
    },
    {
      "cell_type": "markdown",
      "metadata": {
        "id": "sRnQI9AAMomm"
      },
      "source": [
        "### ＵＲＬオブジェクトを使ってファイルをリンクから保存する"
      ]
    },
    {
      "cell_type": "code",
      "metadata": {
        "id": "zg0eyfo7MeSw"
      },
      "source": [
        "#URLライブラリのrequestをreqという名前でimport\n",
        "import urllib.request as req\n",
        "\n",
        "#Pandasライブラリをpdという名前でimport\n",
        "import pandas as pd"
      ],
      "execution_count": null,
      "outputs": []
    },
    {
      "cell_type": "code",
      "metadata": {
        "id": "ZzvYg17SOZ-E",
        "outputId": "000c5208-eac4-49f3-976c-e6cc48e50944",
        "colab": {
          "base_uri": "https://localhost:8080/",
          "height": 34
        }
      },
      "source": [
        "#URLの変数を定義する\n",
        "url = \"https://github.com/pandas-dev/pandas/raw/master/pandas/tests/io/data/csv/iris.csv\"\n",
        "#リンクを保存するためのファイルを定義\n",
        "iris_data = \"iris.csv\"\n",
        "req.urlretrieve(url,iris_data)\n",
        "print(\"save finish\")"
      ],
      "execution_count": null,
      "outputs": [
        {
          "output_type": "stream",
          "text": [
            "save finish\n"
          ],
          "name": "stdout"
        }
      ]
    },
    {
      "cell_type": "code",
      "metadata": {
        "id": "UHDMaUJlPSSg",
        "outputId": "b4c93678-e379-4896-a453-535a92367387",
        "colab": {
          "base_uri": "https://localhost:8080/",
          "height": 402
        }
      },
      "source": [
        "#DLしたファイルの内容を表示\n",
        "#アヤメデータの読み込み\n",
        "iris_data = pd.read_csv(iris_data,encoding=\"utf-8\")\n",
        "iris_data"
      ],
      "execution_count": null,
      "outputs": [
        {
          "output_type": "execute_result",
          "data": {
            "text/html": [
              "<div>\n",
              "<style scoped>\n",
              "    .dataframe tbody tr th:only-of-type {\n",
              "        vertical-align: middle;\n",
              "    }\n",
              "\n",
              "    .dataframe tbody tr th {\n",
              "        vertical-align: top;\n",
              "    }\n",
              "\n",
              "    .dataframe thead th {\n",
              "        text-align: right;\n",
              "    }\n",
              "</style>\n",
              "<table border=\"1\" class=\"dataframe\">\n",
              "  <thead>\n",
              "    <tr style=\"text-align: right;\">\n",
              "      <th></th>\n",
              "      <th>SepalLength</th>\n",
              "      <th>SepalWidth</th>\n",
              "      <th>PetalLength</th>\n",
              "      <th>PetalWidth</th>\n",
              "      <th>Name</th>\n",
              "    </tr>\n",
              "  </thead>\n",
              "  <tbody>\n",
              "    <tr>\n",
              "      <th>0</th>\n",
              "      <td>5.1</td>\n",
              "      <td>3.5</td>\n",
              "      <td>1.4</td>\n",
              "      <td>0.2</td>\n",
              "      <td>Iris-setosa</td>\n",
              "    </tr>\n",
              "    <tr>\n",
              "      <th>1</th>\n",
              "      <td>4.9</td>\n",
              "      <td>3.0</td>\n",
              "      <td>1.4</td>\n",
              "      <td>0.2</td>\n",
              "      <td>Iris-setosa</td>\n",
              "    </tr>\n",
              "    <tr>\n",
              "      <th>2</th>\n",
              "      <td>4.7</td>\n",
              "      <td>3.2</td>\n",
              "      <td>1.3</td>\n",
              "      <td>0.2</td>\n",
              "      <td>Iris-setosa</td>\n",
              "    </tr>\n",
              "    <tr>\n",
              "      <th>3</th>\n",
              "      <td>4.6</td>\n",
              "      <td>3.1</td>\n",
              "      <td>1.5</td>\n",
              "      <td>0.2</td>\n",
              "      <td>Iris-setosa</td>\n",
              "    </tr>\n",
              "    <tr>\n",
              "      <th>4</th>\n",
              "      <td>5.0</td>\n",
              "      <td>3.6</td>\n",
              "      <td>1.4</td>\n",
              "      <td>0.2</td>\n",
              "      <td>Iris-setosa</td>\n",
              "    </tr>\n",
              "    <tr>\n",
              "      <th>...</th>\n",
              "      <td>...</td>\n",
              "      <td>...</td>\n",
              "      <td>...</td>\n",
              "      <td>...</td>\n",
              "      <td>...</td>\n",
              "    </tr>\n",
              "    <tr>\n",
              "      <th>145</th>\n",
              "      <td>6.7</td>\n",
              "      <td>3.0</td>\n",
              "      <td>5.2</td>\n",
              "      <td>2.3</td>\n",
              "      <td>Iris-virginica</td>\n",
              "    </tr>\n",
              "    <tr>\n",
              "      <th>146</th>\n",
              "      <td>6.3</td>\n",
              "      <td>2.5</td>\n",
              "      <td>5.0</td>\n",
              "      <td>1.9</td>\n",
              "      <td>Iris-virginica</td>\n",
              "    </tr>\n",
              "    <tr>\n",
              "      <th>147</th>\n",
              "      <td>6.5</td>\n",
              "      <td>3.0</td>\n",
              "      <td>5.2</td>\n",
              "      <td>2.0</td>\n",
              "      <td>Iris-virginica</td>\n",
              "    </tr>\n",
              "    <tr>\n",
              "      <th>148</th>\n",
              "      <td>6.2</td>\n",
              "      <td>3.4</td>\n",
              "      <td>5.4</td>\n",
              "      <td>2.3</td>\n",
              "      <td>Iris-virginica</td>\n",
              "    </tr>\n",
              "    <tr>\n",
              "      <th>149</th>\n",
              "      <td>5.9</td>\n",
              "      <td>3.0</td>\n",
              "      <td>5.1</td>\n",
              "      <td>1.8</td>\n",
              "      <td>Iris-virginica</td>\n",
              "    </tr>\n",
              "  </tbody>\n",
              "</table>\n",
              "<p>150 rows × 5 columns</p>\n",
              "</div>"
            ],
            "text/plain": [
              "     SepalLength  SepalWidth  PetalLength  PetalWidth            Name\n",
              "0            5.1         3.5          1.4         0.2     Iris-setosa\n",
              "1            4.9         3.0          1.4         0.2     Iris-setosa\n",
              "2            4.7         3.2          1.3         0.2     Iris-setosa\n",
              "3            4.6         3.1          1.5         0.2     Iris-setosa\n",
              "4            5.0         3.6          1.4         0.2     Iris-setosa\n",
              "..           ...         ...          ...         ...             ...\n",
              "145          6.7         3.0          5.2         2.3  Iris-virginica\n",
              "146          6.3         2.5          5.0         1.9  Iris-virginica\n",
              "147          6.5         3.0          5.2         2.0  Iris-virginica\n",
              "148          6.2         3.4          5.4         2.3  Iris-virginica\n",
              "149          5.9         3.0          5.1         1.8  Iris-virginica\n",
              "\n",
              "[150 rows x 5 columns]"
            ]
          },
          "metadata": {
            "tags": []
          },
          "execution_count": 3
        }
      ]
    },
    {
      "cell_type": "markdown",
      "metadata": {
        "id": "AbZM_QSqV5MW"
      },
      "source": [
        "### 機械学習のライブラリを読み込む"
      ]
    },
    {
      "cell_type": "code",
      "metadata": {
        "id": "luOgJcraPn6C"
      },
      "source": [
        "#機械学習のデータを学習用とテスト用に分けるためのクラス\n",
        "from sklearn.model_selection import train_test_split\n",
        "#サポートベクターマシン(SVM)のSVCアルゴリズムクラス\n",
        "from sklearn.svm import SVC\n",
        "#テストの評価用クラス\n",
        "from sklearn.metrics import accuracy_score"
      ],
      "execution_count": null,
      "outputs": []
    },
    {
      "cell_type": "markdown",
      "metadata": {
        "id": "TXZG-bRRXdpd"
      },
      "source": [
        "アヤメのCSVデータを正解（lavel)と入力用データに分離させる"
      ]
    },
    {
      "cell_type": "markdown",
      "metadata": {
        "id": "PAXzfeRZX4Tl"
      },
      "source": [
        "列を分ける"
      ]
    },
    {
      "cell_type": "code",
      "metadata": {
        "id": "RpIeBLP3Xcyg"
      },
      "source": [
        "#pythonのリストを切り出し表を分割する\n",
        "#アヤメデータをlavelと入力データにわける\n",
        "#yに右一列(\"name\"の列)だけ切り取って代入\n",
        "y = iris_data.loc[:,\"Name\"]"
      ],
      "execution_count": null,
      "outputs": []
    },
    {
      "cell_type": "code",
      "metadata": {
        "id": "bWZuoWiIYCHw",
        "outputId": "ebd0d0af-c5b7-45c7-d4c2-4a7268f3d6a0",
        "colab": {
          "base_uri": "https://localhost:8080/",
          "height": 263
        }
      },
      "source": [
        "#xに左４列のデータを切り取って代入\n",
        "x = iris_data.loc[:,[\"SepalLength\",\"SepalWidth\",\"PetalLength\",\"PetalWidth\"]]\n",
        "print(x)"
      ],
      "execution_count": null,
      "outputs": [
        {
          "output_type": "stream",
          "text": [
            "     SepalLength  SepalWidth  PetalLength  PetalWidth\n",
            "0            5.1         3.5          1.4         0.2\n",
            "1            4.9         3.0          1.4         0.2\n",
            "2            4.7         3.2          1.3         0.2\n",
            "3            4.6         3.1          1.5         0.2\n",
            "4            5.0         3.6          1.4         0.2\n",
            "..           ...         ...          ...         ...\n",
            "145          6.7         3.0          5.2         2.3\n",
            "146          6.3         2.5          5.0         1.9\n",
            "147          6.5         3.0          5.2         2.0\n",
            "148          6.2         3.4          5.4         2.3\n",
            "149          5.9         3.0          5.1         1.8\n",
            "\n",
            "[150 rows x 4 columns]\n"
          ],
          "name": "stdout"
        }
      ]
    },
    {
      "cell_type": "markdown",
      "metadata": {
        "id": "2qNjTE7zZijv"
      },
      "source": [
        "### Xデータ,Yデータ,学習用データ,テスト用データに分離させる"
      ]
    },
    {
      "cell_type": "code",
      "metadata": {
        "id": "HtF8yAYKZgMN"
      },
      "source": [
        "#train_test_splitを使ってx,y,train,testにランダムに分ける（shuffle)\n",
        "#テストデータ(test_size = 0.2)は全体の2割\n",
        "#学習用データ(train_size = 0.8)は全体の8割\n",
        "x_train,x_test,y_train,y_test = train_test_split(x,y,test_size = 0.2,train_size = 0.8,shuffle = True)"
      ],
      "execution_count": null,
      "outputs": []
    },
    {
      "cell_type": "code",
      "metadata": {
        "id": "mOkUlweva0_G",
        "outputId": "abaffd50-a948-42b6-b009-5b913a97fb2d",
        "colab": {
          "base_uri": "https://localhost:8080/",
          "height": 87
        }
      },
      "source": [
        "#SVCアルゴリズムの学習モデルのインスタンスを生成させる\n",
        "clf = SVC()\n",
        "clf.fit(x_train,y_train)"
      ],
      "execution_count": null,
      "outputs": [
        {
          "output_type": "execute_result",
          "data": {
            "text/plain": [
              "SVC(C=1.0, break_ties=False, cache_size=200, class_weight=None, coef0=0.0,\n",
              "    decision_function_shape='ovr', degree=3, gamma='scale', kernel='rbf',\n",
              "    max_iter=-1, probability=False, random_state=None, shrinking=True,\n",
              "    tol=0.001, verbose=False)"
            ]
          },
          "metadata": {
            "tags": []
          },
          "execution_count": 8
        }
      ]
    },
    {
      "cell_type": "markdown",
      "metadata": {
        "id": "iGIvW_CYws8X"
      },
      "source": [
        "学習がうまくいったか検証して評価"
      ]
    },
    {
      "cell_type": "markdown",
      "metadata": {
        "id": "m8xXmcxQwyYO"
      },
      "source": [
        "### x_testデータを使って推論させた結果(y_pred)と本来の正解データ(y_test)を比較して推論がどれくらいの割合正解しているか評価する"
      ]
    },
    {
      "cell_type": "code",
      "metadata": {
        "id": "XPSySq_AbM10",
        "outputId": "354122b0-39b9-4e31-ed5c-80a645edbcde",
        "colab": {
          "base_uri": "https://localhost:8080/",
          "height": 34
        }
      },
      "source": [
        "#x_testデータを使って学習モデルclfに推論させ、y_predに代入\n",
        "y_pred = clf.predict(x_test)\n",
        "#accurcy_scoreでy_predとy_predを比較する\n",
        "print(\"正解率 = \", accuracy_score(y_test,y_pred))"
      ],
      "execution_count": null,
      "outputs": [
        {
          "output_type": "stream",
          "text": [
            "正解率 =  0.9333333333333333\n"
          ],
          "name": "stdout"
        }
      ]
    },
    {
      "cell_type": "code",
      "metadata": {
        "id": "bwnoLvB-bgBR"
      },
      "source": [
        ""
      ],
      "execution_count": null,
      "outputs": []
    }
  ]
}