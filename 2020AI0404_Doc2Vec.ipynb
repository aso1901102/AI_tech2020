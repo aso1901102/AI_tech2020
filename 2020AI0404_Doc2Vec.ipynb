{
  "nbformat": 4,
  "nbformat_minor": 0,
  "metadata": {
    "colab": {
      "name": "2020AI0404-Doc2Vec.ipynb",
      "provenance": [],
      "authorship_tag": "ABX9TyPi0vEXqkCcZ7ZZM7hS8l9K",
      "include_colab_link": true
    },
    "kernelspec": {
      "name": "python3",
      "display_name": "Python 3"
    }
  },
  "cells": [
    {
      "cell_type": "markdown",
      "metadata": {
        "id": "view-in-github",
        "colab_type": "text"
      },
      "source": [
        "<a href=\"https://colab.research.google.com/github/aso1901102/AI_tech2020/blob/master/2020AI0404_Doc2Vec.ipynb\" target=\"_parent\"><img src=\"https://colab.research.google.com/assets/colab-badge.svg\" alt=\"Open In Colab\"/></a>"
      ]
    },
    {
      "cell_type": "markdown",
      "metadata": {
        "id": "Gyf5Lp9-lg9S"
      },
      "source": [
        "## Doc2Vecで文章を学習したコーパスモデルを作って保存"
      ]
    },
    {
      "cell_type": "markdown",
      "metadata": {
        "id": "wsFgEew2lrkq"
      },
      "source": [
        "### データリストの作成"
      ]
    },
    {
      "cell_type": "code",
      "metadata": {
        "id": "HbYpshVBkrAJ"
      },
      "source": [
        "#学習対象とする青空文庫の作品リスト --- (*1)\r\n",
        "list = [\r\n",
        "    {\"author\":{\r\n",
        "        \"name\":\"宮澤 賢治\",\r\n",
        "        \"url\":\"https://www.aozora.gr.jp/cards/000081/files/\"}, \r\n",
        "     \"books\":[\r\n",
        "        {\"name\":\"銀河鉄道の夜\",\"zipname\":\"43737_ruby_19028.zip\"},\r\n",
        "        {\"name\":\"注文の多い料理店\",\"zipname\":\"1927_ruby_17835.zip\"},\r\n",
        "        {\"name\":\"セロ弾きのゴーシュ\",\"zipname\":\"470_ruby_3987.zip\"},\r\n",
        "        {\"name\":\"やまなし\",\"zipname\":\"46605_ruby_29758.zip\"},\r\n",
        "        {\"name\":\"どんぐりと山猫\",\"zipname\":\"43752_ruby_17595.zip\"},\r\n",
        "    ]},\r\n",
        "    {\"author\":{\r\n",
        "        \"name\":\"芥川 竜之介\",\r\n",
        "        \"url\":\"https://www.aozora.gr.jp/cards/000879/files/\"}, \r\n",
        "     \"books\":[\r\n",
        "        {\"name\":\"羅生門\",\"zipname\":\"127_ruby_150.zip\"},\r\n",
        "        {\"name\":\"鼻\",\"zipname\":\"42_ruby_154.zip\"},\r\n",
        "        {\"name\":\"河童\",\"zipname\":\"69_ruby_1321.zip\"},\r\n",
        "        {\"name\":\"歯車\",\"zipname\":\"42377_ruby_34744.zip\"},\r\n",
        "        {\"name\":\"老年\",\"zipname\":\"131_ruby_241.zip\"},\r\n",
        "    ]},\r\n",
        "    {\"author\":{\r\n",
        "        \"name\":\"ポー エドガー・アラン\",\r\n",
        "        \"url\":\"https://www.aozora.gr.jp/cards/000094/files/\"}, \r\n",
        "     \"books\":[\r\n",
        "        {\"name\":\"ウィリアム・ウィルスン\",\"zipname\":\"2523_ruby_19896.zip\"},\r\n",
        "        {\"name\":\"落穴と振子\",\"zipname\":\"1871_ruby_17551.zip\"},\r\n",
        "        {\"name\":\"黒猫\",\"zipname\":\"530_ruby_20931.zip\"},\r\n",
        "        {\"name\":\"群集の人\",\"zipname\":\"56535_ruby_69925.zip\"},\r\n",
        "        {\"name\":\"沈黙\",\"zipname\":\"56537_ruby_70425.zip\"},\r\n",
        "    ]},\r\n",
        "    {\"author\":{\r\n",
        "        \"name\":\"紫式部\",\r\n",
        "        \"url\":\"https://www.aozora.gr.jp/cards/000052/files/\"}, \r\n",
        "     \"books\":[\r\n",
        "        {\"name\":\"源氏物語 01 桐壺\",\"zipname\":\"5016_ruby_9746.zip\"},\r\n",
        "        {\"name\":\"源氏物語 02 帚木\",\"zipname\":\"5017_ruby_9752.zip\"},\r\n",
        "        {\"name\":\"源氏物語 03 空蝉\",\"zipname\":\"5018_ruby_9754.zip\"},\r\n",
        "        {\"name\":\"源氏物語 04 夕顔\",\"zipname\":\"5019_ruby_9761.zip\"},\r\n",
        "        {\"name\":\"源氏物語 05 若紫\",\"zipname\":\"5020_ruby_11253.zip\"},\r\n",
        "    ]},\r\n",
        "]"
      ],
      "execution_count": 1,
      "outputs": []
    },
    {
      "cell_type": "markdown",
      "metadata": {
        "id": "YGRS2KuplgXs"
      },
      "source": [
        "### MeCabのインストール"
      ]
    },
    {
      "cell_type": "code",
      "metadata": {
        "id": "1AAkjxrPl1gi"
      },
      "source": [
        "# 形態素分析ライブラリーMeCab と 辞書(mecab-ipadic-NEologd)のインストール \r\n",
        "!apt-get -q -y install sudo file mecab libmecab-dev mecab-ipadic-utf8 git curl python-mecab > /dev/null\r\n",
        "!pip install mecab-python3 > /dev/null\r\n",
        "\r\n",
        "# MeCabの実行時の指定パスをインストールパスにリンクさせる\r\n",
        "# シンボリックリンク（/etc/mecabrcを/usr/local/etc/mecabrcで参照できるようにする）\r\n",
        "!ln -s /etc/mecabrc /usr/local/etc/mecabrc"
      ],
      "execution_count": 2,
      "outputs": []
    },
    {
      "cell_type": "markdown",
      "metadata": {
        "id": "iQmjd3shlviY"
      },
      "source": [
        "### データリストを検索して順番に返す関数：book_listを定義"
      ]
    },
    {
      "cell_type": "code",
      "metadata": {
        "id": "7XIQJ6Wyn6Wo"
      },
      "source": [
        "# 作品リスト（list）をループ\r\n",
        "def book_list():\r\n",
        "  for novellist in list:\r\n",
        "    author = novellist[author]\r\n",
        "    for book in novellist:\r\n",
        "      # yieldで順次値をリターンして\r\n",
        "      yield author,book\r\n",
        "    # for ここまで\r\n",
        "  # for ここまで\r\n",
        "# def ここまで"
      ],
      "execution_count": null,
      "outputs": []
    },
    {
      "cell_type": "markdown",
      "metadata": {
        "id": "tI3KnvjyogGr"
      },
      "source": [
        "### 指定された書籍名（book）のZipファイルを展開し、ファイルのテキストデータを読み込んでリターンする関数：read_book"
      ]
    },
    {
      "cell_type": "code",
      "metadata": {
        "id": "7Fl_rNNBo4SP"
      },
      "source": [
        "import zipfile\r\n",
        "import os.path\r\n",
        "import urllib.request as req\r\n",
        "\r\n",
        "# zipファイルを開き、なかの文書データを取得\r\n",
        "def read_book(author, book):\r\n",
        "  zipname = book[\"\"]"
      ],
      "execution_count": null,
      "outputs": []
    }
  ]
}