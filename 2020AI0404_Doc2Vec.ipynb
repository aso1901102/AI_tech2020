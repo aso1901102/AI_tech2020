{
  "nbformat": 4,
  "nbformat_minor": 0,
  "metadata": {
    "colab": {
      "name": "2020AI0404-Doc2Vec.ipynb",
      "provenance": [],
      "authorship_tag": "ABX9TyMTdECVD/lQ4z0Dz/vhvWf2",
      "include_colab_link": true
    },
    "kernelspec": {
      "name": "python3",
      "display_name": "Python 3"
    }
  },
  "cells": [
    {
      "cell_type": "markdown",
      "metadata": {
        "id": "view-in-github",
        "colab_type": "text"
      },
      "source": [
        "<a href=\"https://colab.research.google.com/github/aso1901102/AI_tech2020/blob/master/2020AI0404_Doc2Vec.ipynb\" target=\"_parent\"><img src=\"https://colab.research.google.com/assets/colab-badge.svg\" alt=\"Open In Colab\"/></a>"
      ]
    },
    {
      "cell_type": "markdown",
      "metadata": {
        "id": "Gyf5Lp9-lg9S"
      },
      "source": [
        "## Doc2Vecで文章を学習したコーパスモデルを作って保存"
      ]
    },
    {
      "cell_type": "markdown",
      "metadata": {
        "id": "wsFgEew2lrkq"
      },
      "source": [
        "### データリストの作成"
      ]
    },
    {
      "cell_type": "code",
      "metadata": {
        "id": "HbYpshVBkrAJ"
      },
      "source": [
        "#学習対象とする青空文庫の作品リスト --- (*1)\r\n",
        "list = [\r\n",
        "    {\"author\":{\r\n",
        "        \"name\":\"宮澤 賢治\",\r\n",
        "        \"url\":\"https://www.aozora.gr.jp/cards/000081/files/\"}, \r\n",
        "     \"books\":[\r\n",
        "        {\"name\":\"銀河鉄道の夜\",\"zipname\":\"43737_ruby_19028.zip\"},\r\n",
        "        {\"name\":\"注文の多い料理店\",\"zipname\":\"1927_ruby_17835.zip\"},\r\n",
        "        {\"name\":\"セロ弾きのゴーシュ\",\"zipname\":\"470_ruby_3987.zip\"},\r\n",
        "        {\"name\":\"やまなし\",\"zipname\":\"46605_ruby_29758.zip\"},\r\n",
        "        {\"name\":\"どんぐりと山猫\",\"zipname\":\"43752_ruby_17595.zip\"},\r\n",
        "    ]},\r\n",
        "    {\"author\":{\r\n",
        "        \"name\":\"芥川 竜之介\",\r\n",
        "        \"url\":\"https://www.aozora.gr.jp/cards/000879/files/\"}, \r\n",
        "     \"books\":[\r\n",
        "        {\"name\":\"羅生門\",\"zipname\":\"127_ruby_150.zip\"},\r\n",
        "        {\"name\":\"鼻\",\"zipname\":\"42_ruby_154.zip\"},\r\n",
        "        {\"name\":\"河童\",\"zipname\":\"69_ruby_1321.zip\"},\r\n",
        "        {\"name\":\"歯車\",\"zipname\":\"42377_ruby_34744.zip\"},\r\n",
        "        {\"name\":\"老年\",\"zipname\":\"131_ruby_241.zip\"},\r\n",
        "    ]},\r\n",
        "    {\"author\":{\r\n",
        "        \"name\":\"ポー エドガー・アラン\",\r\n",
        "        \"url\":\"https://www.aozora.gr.jp/cards/000094/files/\"}, \r\n",
        "     \"books\":[\r\n",
        "        {\"name\":\"ウィリアム・ウィルスン\",\"zipname\":\"2523_ruby_19896.zip\"},\r\n",
        "        {\"name\":\"落穴と振子\",\"zipname\":\"1871_ruby_17551.zip\"},\r\n",
        "        {\"name\":\"黒猫\",\"zipname\":\"530_ruby_20931.zip\"},\r\n",
        "        {\"name\":\"群集の人\",\"zipname\":\"56535_ruby_69925.zip\"},\r\n",
        "        {\"name\":\"沈黙\",\"zipname\":\"56537_ruby_70425.zip\"},\r\n",
        "    ]},\r\n",
        "    {\"author\":{\r\n",
        "        \"name\":\"紫式部\",\r\n",
        "        \"url\":\"https://www.aozora.gr.jp/cards/000052/files/\"}, \r\n",
        "     \"books\":[\r\n",
        "        {\"name\":\"源氏物語 01 桐壺\",\"zipname\":\"5016_ruby_9746.zip\"},\r\n",
        "        {\"name\":\"源氏物語 02 帚木\",\"zipname\":\"5017_ruby_9752.zip\"},\r\n",
        "        {\"name\":\"源氏物語 03 空蝉\",\"zipname\":\"5018_ruby_9754.zip\"},\r\n",
        "        {\"name\":\"源氏物語 04 夕顔\",\"zipname\":\"5019_ruby_9761.zip\"},\r\n",
        "        {\"name\":\"源氏物語 05 若紫\",\"zipname\":\"5020_ruby_11253.zip\"},\r\n",
        "    ]},\r\n",
        "]"
      ],
      "execution_count": 1,
      "outputs": []
    },
    {
      "cell_type": "markdown",
      "metadata": {
        "id": "YGRS2KuplgXs"
      },
      "source": [
        "### MeCabのインストール"
      ]
    },
    {
      "cell_type": "code",
      "metadata": {
        "id": "1AAkjxrPl1gi"
      },
      "source": [
        "# 形態素分析ライブラリーMeCab と 辞書(mecab-ipadic-NEologd)のインストール \r\n",
        "!apt-get -q -y install sudo file mecab libmecab-dev mecab-ipadic-utf8 git curl python-mecab > /dev/null\r\n",
        "!pip install mecab-python3 > /dev/null\r\n",
        "\r\n",
        "# MeCabの実行時の指定パスをインストールパスにリンクさせる\r\n",
        "# シンボリックリンク（/etc/mecabrcを/usr/local/etc/mecabrcで参照できるようにする）\r\n",
        "!ln -s /etc/mecabrc /usr/local/etc/mecabrc"
      ],
      "execution_count": 2,
      "outputs": []
    },
    {
      "cell_type": "markdown",
      "metadata": {
        "id": "iQmjd3shlviY"
      },
      "source": [
        "### データリストを検索して順番に返す関数：book_listを定義"
      ]
    },
    {
      "cell_type": "code",
      "metadata": {
        "id": "7XIQJ6Wyn6Wo"
      },
      "source": [
        "# 作品リスト（list）をループ\r\n",
        "def book_list():\r\n",
        "  for novellist in list:\r\n",
        "    author = novellist[\"author\"]\r\n",
        "    for book in author:\r\n",
        "      # yieldで順次値をリターンして\r\n",
        "      yield author, book\r\n",
        "    # for ここまで\r\n",
        "  # for ここまで\r\n",
        "# def ここまで"
      ],
      "execution_count": 24,
      "outputs": []
    },
    {
      "cell_type": "markdown",
      "metadata": {
        "id": "tI3KnvjyogGr"
      },
      "source": [
        "### 指定された書籍名（book）のZipファイルを展開し、ファイルのテキストデータを読み込んでリターンする関数：read_book"
      ]
    },
    {
      "cell_type": "code",
      "metadata": {
        "id": "7Fl_rNNBo4SP"
      },
      "source": [
        "import zipfile\r\n",
        "import os.path\r\n",
        "import urllib.request as req\r\n",
        "\r\n",
        "# zipファイルを開き、なかの文書データを取得\r\n",
        "def read_book(author, book):\r\n",
        "  zipname = book[\"zipname\"]\r\n",
        "  print(zipname)\r\n",
        "  # zipファイルがなければDL\r\n",
        "  if not os.path.exists(zipname):\r\n",
        "    req.urlretrieve(author[\"url\"] + zipname, zipname)\r\n",
        "    zipname = book[\"zipname\"]\r\n",
        "\r\n",
        "  # zipファイルを展開\r\n",
        "  with zipfile.ZipFile(zipname, \"r\") as zf:\r\n",
        "    # Zipファイルに含まれるファイルを開く\r\n",
        "    for filename in zf.namelist():\r\n",
        "      # txt拡張子以外は処理スキップ\r\n",
        "      if os.path.splittext(filename)[1] != \".txt\":\r\n",
        "        continue\r\n",
        "      with zf.open(filename, \"r\") as f:\r\n",
        "        # 読み込むファイルはShift-JISなので文字コードを指定してデコード\r\n",
        "        return f.read().decode(\"shift-jis\")"
      ],
      "execution_count": 36,
      "outputs": []
    },
    {
      "cell_type": "markdown",
      "metadata": {
        "id": "SUWzjgGYU01E"
      },
      "source": [
        "### MeCabインスタンス生成と引数で渡された文章データを形態素解析した配列にリターンする関数：split_word"
      ]
    },
    {
      "cell_type": "code",
      "metadata": {
        "id": "GGzMSVquT70a"
      },
      "source": [
        "import MeCab\r\n",
        "\r\n",
        "# MeCabインスタンス生成\r\n",
        "mecab = MeCab.Tagger()\r\n",
        "\r\n",
        "# 引数テキストを形態素解析　＆　ストップワード除去して配列\r\n",
        "def split_word(text):\r\n",
        "  node = mecab.parseToNode(text)\r\n",
        "\r\n",
        "  # 分かち書き（形態素解析　＆　ストップワード除去）して結果配列\r\n",
        "  wakati_words = []\r\n",
        "  while node is not None:\r\n",
        "    hinshi = node.feature.split(\",\")[0]\r\n",
        "    if hinshi in [\"名詞\"]:\r\n",
        "      wakati_words.append(node.surface)\r\n",
        "    elif hinshi in [\"動詞\", \"形容詞\"]:\r\n",
        "      wakati_words.append(node.feature.split(\",\")[6])\r\n",
        "    node = node.next\r\n",
        "  # while ここまで\r\n",
        "  return watati_words  "
      ],
      "execution_count": 9,
      "outputs": []
    },
    {
      "cell_type": "markdown",
      "metadata": {
        "id": "rdMORGr7WoXF"
      },
      "source": [
        "## 学習モデルのメイン処理"
      ]
    },
    {
      "cell_type": "markdown",
      "metadata": {
        "id": "uatZnFAgXIQj"
      },
      "source": [
        "### 作品リストをループしながらZipファイルを開き、テキストデータを形態素解析\r\n",
        "### タグ（ラベル）付きドキュメントとして学習させる"
      ]
    },
    {
      "cell_type": "code",
      "metadata": {
        "colab": {
          "base_uri": "https://localhost:8080/",
          "height": 372
        },
        "id": "lb6r_qLFXEs2",
        "outputId": "200bcb2d-7cea-4466-a37f-2207caf63ca4"
      },
      "source": [
        "from gensim import models\r\n",
        "from gensim.models.doc2vec import TaggedDocument\r\n",
        "\r\n",
        "# 作品リストをDoc2Vecが学習で消えるTaggdDocument（説明変数＆目的変数）にして配列に追加\r\n",
        "documents = []\r\n",
        "\r\n",
        "# 作品リストをループ\r\n",
        "for author, book in book_list():\r\n",
        "  # 作品の文字列文章データを取得\r\n",
        "  words = read_book(author, book)\r\n",
        "  # 作品配列を分かち書き\r\n",
        "  wakati_words = sprit_words(words)\r\n",
        "\r\n",
        "  # TaggedDocmumentの作成(説明変数：分かち書きにした作品　タグ：作者/作品名  )\r\n",
        "  document = TaggedDocmument(wakati_words,[author[\"name\"] + \":\" + book[\"name\"]])\r\n",
        "  \r\n",
        "  # 登録するタグドキュメント\r\n",
        "  print(document)\r\n",
        "\r\n",
        "  # 配列に登録\r\n",
        "  documents.append(document)\r\n",
        "  # for　ここまで\r\n",
        "# TaggedDocumentの配列を使ってDoc2Vecの学習モデルを作成\r\n",
        "model = models.Doc2Vec(documents, dm=0, vector_size=300, window=15, min_count=1)\r\n",
        "\r\n",
        "# 作成した学習モデルをファイル保存\r\n",
        "model.save(\"aozora.model\")\r\n",
        "print(\"モデル保存完了\")"
      ],
      "execution_count": 39,
      "outputs": [
        {
          "output_type": "stream",
          "text": [
            "{'name': '宮澤 賢治', 'url': 'https://www.aozora.gr.jp/cards/000081/files/'}\n"
          ],
          "name": "stdout"
        },
        {
          "output_type": "error",
          "ename": "TypeError",
          "evalue": "ignored",
          "traceback": [
            "\u001b[0;31m---------------------------------------------------------------------------\u001b[0m",
            "\u001b[0;31mTypeError\u001b[0m                                 Traceback (most recent call last)",
            "\u001b[0;32m<ipython-input-39-f57ef2516d86>\u001b[0m in \u001b[0;36m<module>\u001b[0;34m()\u001b[0m\n\u001b[1;32m      8\u001b[0m \u001b[0;32mfor\u001b[0m \u001b[0mauthor\u001b[0m\u001b[0;34m,\u001b[0m \u001b[0mbook\u001b[0m \u001b[0;32min\u001b[0m \u001b[0mbook_list\u001b[0m\u001b[0;34m(\u001b[0m\u001b[0;34m)\u001b[0m\u001b[0;34m:\u001b[0m\u001b[0;34m\u001b[0m\u001b[0;34m\u001b[0m\u001b[0m\n\u001b[1;32m      9\u001b[0m   \u001b[0;31m# 作品の文字列文章データを取得\u001b[0m\u001b[0;34m\u001b[0m\u001b[0;34m\u001b[0m\u001b[0;34m\u001b[0m\u001b[0m\n\u001b[0;32m---> 10\u001b[0;31m   \u001b[0mwords\u001b[0m \u001b[0;34m=\u001b[0m \u001b[0mread_book\u001b[0m\u001b[0;34m(\u001b[0m\u001b[0mauthor\u001b[0m\u001b[0;34m,\u001b[0m \u001b[0mbook\u001b[0m\u001b[0;34m)\u001b[0m\u001b[0;34m\u001b[0m\u001b[0;34m\u001b[0m\u001b[0m\n\u001b[0m\u001b[1;32m     11\u001b[0m   \u001b[0;31m# 作品配列を分かち書き\u001b[0m\u001b[0;34m\u001b[0m\u001b[0;34m\u001b[0m\u001b[0;34m\u001b[0m\u001b[0m\n\u001b[1;32m     12\u001b[0m   \u001b[0mwakati_words\u001b[0m \u001b[0;34m=\u001b[0m \u001b[0msprit_words\u001b[0m\u001b[0;34m(\u001b[0m\u001b[0mwords\u001b[0m\u001b[0;34m)\u001b[0m\u001b[0;34m\u001b[0m\u001b[0;34m\u001b[0m\u001b[0m\n",
            "\u001b[0;32m<ipython-input-36-dd91b28aa7dd>\u001b[0m in \u001b[0;36mread_book\u001b[0;34m(author, book)\u001b[0m\n\u001b[1;32m      5\u001b[0m \u001b[0;31m# zipファイルを開き、なかの文書データを取得\u001b[0m\u001b[0;34m\u001b[0m\u001b[0;34m\u001b[0m\u001b[0;34m\u001b[0m\u001b[0m\n\u001b[1;32m      6\u001b[0m \u001b[0;32mdef\u001b[0m \u001b[0mread_book\u001b[0m\u001b[0;34m(\u001b[0m\u001b[0mauthor\u001b[0m\u001b[0;34m,\u001b[0m \u001b[0mbook\u001b[0m\u001b[0;34m)\u001b[0m\u001b[0;34m:\u001b[0m\u001b[0;34m\u001b[0m\u001b[0;34m\u001b[0m\u001b[0m\n\u001b[0;32m----> 7\u001b[0;31m   \u001b[0mzipname\u001b[0m \u001b[0;34m=\u001b[0m \u001b[0mbooks\u001b[0m\u001b[0;34m[\u001b[0m\u001b[0;34m\"zipname\"\u001b[0m\u001b[0;34m]\u001b[0m\u001b[0;34m\u001b[0m\u001b[0;34m\u001b[0m\u001b[0m\n\u001b[0m\u001b[1;32m      8\u001b[0m   \u001b[0mprint\u001b[0m\u001b[0;34m(\u001b[0m\u001b[0mzipname\u001b[0m\u001b[0;34m)\u001b[0m\u001b[0;34m\u001b[0m\u001b[0;34m\u001b[0m\u001b[0m\n\u001b[1;32m      9\u001b[0m   \u001b[0;31m# zipファイルがなければDL\u001b[0m\u001b[0;34m\u001b[0m\u001b[0;34m\u001b[0m\u001b[0;34m\u001b[0m\u001b[0m\n",
            "\u001b[0;31mTypeError\u001b[0m: string indices must be integers"
          ]
        }
      ]
    },
    {
      "cell_type": "markdown",
      "metadata": {
        "id": "a-2PJ2AFb6j8"
      },
      "source": [
        "## Doc2Vecで学習したコーパスモデルを使って関連度の高い文章を推論"
      ]
    },
    {
      "cell_type": "markdown",
      "metadata": {
        "id": "jBfRq70dcEla"
      },
      "source": [
        "### 保存されたコーパスモデルを読み込む"
      ]
    },
    {
      "cell_type": "code",
      "metadata": {
        "id": "SamHjUm5cD5s"
      },
      "source": [
        "from gensim import models\r\n",
        "\r\n",
        "# 保存したDoc2Vec学習ファイルを読み込む\r\n",
        "model = models.Doc2Vec.load(\"aozora.model\")"
      ],
      "execution_count": 27,
      "outputs": []
    },
    {
      "cell_type": "markdown",
      "metadata": {
        "id": "pRLaSM7BcXEc"
      },
      "source": [
        "### 指定されたZipファイルをDLして、テキストデータをリターンする関数：read_book"
      ]
    },
    {
      "cell_type": "code",
      "metadata": {
        "id": "idpsTK_5cLbj"
      },
      "source": [
        "import urllib.request as req\r\n",
        "import zipfile\r\n",
        "import os.path\r\n",
        "\r\n",
        "# 分類用のZipファイルを開いて文章データを取得\r\n",
        "def read_book(url, zipname):\r\n",
        "  if not os.path.exists(zipname):\r\n",
        "    req.urlretrieve(url, zipname)\r\n",
        "\r\n",
        "  # 指定したファイルを開いてリターン\r\n",
        "  with zipfile.ZipFile(zipname, \"r\") as zf:\r\n",
        "    for filename in zf.namlist():\r\n",
        "      with zf.open(filename, \"r\") as f:\r\n",
        "        return f.read().decode(\"shift-jis\")"
      ],
      "execution_count": 30,
      "outputs": []
    },
    {
      "cell_type": "markdown",
      "metadata": {
        "id": "IItvfT-4dYqd"
      },
      "source": [
        "### 引き渡されたタイトルとURLを読み込んで、Doc2Vecのが学友モデルから関連度の高いデータを推論させる関数：similar"
      ]
    },
    {
      "cell_type": "code",
      "metadata": {
        "id": "-feFAT62dVL_"
      },
      "source": [
        "# 引数のタイトル、URLの作品を分類する\r\n",
        "def similar(title, url):\r\n",
        "  zipname = url.split(\"/\")[-1]\r\n",
        "\r\n",
        "  words = read_book(url, zipname)\r\n",
        "  wakati_words = split_words(words)\r\n",
        "\r\n",
        "  # 文章ベクトルを取得\r\n",
        "  vector = nodel.infer_vector(wakati_words)\r\n",
        "  print(\"---[\", title, \"]と似た作品は？---\")\r\n",
        "\r\n",
        "  # 推論結果\r\n",
        "  print(model.docvecs.most_similar([vector], topn=3))\r\n",
        "  print(\"\")"
      ],
      "execution_count": 31,
      "outputs": []
    },
    {
      "cell_type": "markdown",
      "metadata": {
        "id": "l_4gII0vez6H"
      },
      "source": [
        "### Vecのコーパスモデルによる推論"
      ]
    },
    {
      "cell_type": "code",
      "metadata": {
        "colab": {
          "base_uri": "https://localhost:8080/",
          "height": 379
        },
        "id": "KseyI9TmezN-",
        "outputId": "8e385bcf-04c6-4163-cb08-2bfde1a307f6"
      },
      "source": [
        "# メイン実行処理\r\n",
        "\r\n",
        "# 引き渡したデータと関連度の高いデータ\r\n",
        "similar(\"宮沢 賢治:よだかの星\", \r\n",
        "        \"https://www.aozora.gr.jp/cards/000081/files/473_ruby_467.zip\")\r\n",
        " \r\n",
        "similar(\"芥川 龍之介:犬と笛\", \r\n",
        "        \"https://www.aozora.gr.jp/cards/000879/files/56_ruby_845.zip\")\r\n",
        " \r\n",
        "similar(\"ポー エドガー・アラン:マリー・ロジェエの怪事件\", \r\n",
        "        \"https://www.aozora.gr.jp/cards/000094/files/4261_ruby_54182.zip\")\r\n",
        " \r\n",
        "similar(\"紫式部:源氏物語 06 末摘花\", \r\n",
        "        \"https://www.aozora.gr.jp/cards/000052/files/5021_ruby_11106.zip\")"
      ],
      "execution_count": 32,
      "outputs": [
        {
          "output_type": "error",
          "ename": "AttributeError",
          "evalue": "ignored",
          "traceback": [
            "\u001b[0;31m---------------------------------------------------------------------------\u001b[0m",
            "\u001b[0;31mAttributeError\u001b[0m                            Traceback (most recent call last)",
            "\u001b[0;32m<ipython-input-32-efccdee3bd3d>\u001b[0m in \u001b[0;36m<module>\u001b[0;34m()\u001b[0m\n\u001b[1;32m      3\u001b[0m \u001b[0;31m# 引き渡したデータと関連度の高いデータ\u001b[0m\u001b[0;34m\u001b[0m\u001b[0;34m\u001b[0m\u001b[0;34m\u001b[0m\u001b[0m\n\u001b[1;32m      4\u001b[0m similar(\"宮沢 賢治:よだかの星\", \n\u001b[0;32m----> 5\u001b[0;31m         \"https://www.aozora.gr.jp/cards/000081/files/473_ruby_467.zip\")\n\u001b[0m\u001b[1;32m      6\u001b[0m \u001b[0;34m\u001b[0m\u001b[0m\n\u001b[1;32m      7\u001b[0m similar(\"芥川 龍之介:犬と笛\", \n",
            "\u001b[0;32m<ipython-input-31-546d3d017687>\u001b[0m in \u001b[0;36msimilar\u001b[0;34m(title, url)\u001b[0m\n\u001b[1;32m      3\u001b[0m   \u001b[0mzipname\u001b[0m \u001b[0;34m=\u001b[0m \u001b[0murl\u001b[0m\u001b[0;34m.\u001b[0m\u001b[0msplit\u001b[0m\u001b[0;34m(\u001b[0m\u001b[0;34m\"/\"\u001b[0m\u001b[0;34m)\u001b[0m\u001b[0;34m[\u001b[0m\u001b[0;34m-\u001b[0m\u001b[0;36m1\u001b[0m\u001b[0;34m]\u001b[0m\u001b[0;34m\u001b[0m\u001b[0;34m\u001b[0m\u001b[0m\n\u001b[1;32m      4\u001b[0m \u001b[0;34m\u001b[0m\u001b[0m\n\u001b[0;32m----> 5\u001b[0;31m   \u001b[0mwords\u001b[0m \u001b[0;34m=\u001b[0m \u001b[0mread_book\u001b[0m\u001b[0;34m(\u001b[0m\u001b[0murl\u001b[0m\u001b[0;34m,\u001b[0m \u001b[0mzipname\u001b[0m\u001b[0;34m)\u001b[0m\u001b[0;34m\u001b[0m\u001b[0;34m\u001b[0m\u001b[0m\n\u001b[0m\u001b[1;32m      6\u001b[0m   \u001b[0mwakati_words\u001b[0m \u001b[0;34m=\u001b[0m \u001b[0msplit_words\u001b[0m\u001b[0;34m(\u001b[0m\u001b[0mwords\u001b[0m\u001b[0;34m)\u001b[0m\u001b[0;34m\u001b[0m\u001b[0;34m\u001b[0m\u001b[0m\n\u001b[1;32m      7\u001b[0m \u001b[0;34m\u001b[0m\u001b[0m\n",
            "\u001b[0;32m<ipython-input-30-6187182061c2>\u001b[0m in \u001b[0;36mread_book\u001b[0;34m(url, zipname)\u001b[0m\n\u001b[1;32m     10\u001b[0m   \u001b[0;31m# 指定したファイルを開いてリターン\u001b[0m\u001b[0;34m\u001b[0m\u001b[0;34m\u001b[0m\u001b[0;34m\u001b[0m\u001b[0m\n\u001b[1;32m     11\u001b[0m   \u001b[0;32mwith\u001b[0m \u001b[0mzipfile\u001b[0m\u001b[0;34m.\u001b[0m\u001b[0mZipFile\u001b[0m\u001b[0;34m(\u001b[0m\u001b[0mzipname\u001b[0m\u001b[0;34m,\u001b[0m \u001b[0;34m\"r\"\u001b[0m\u001b[0;34m)\u001b[0m \u001b[0;32mas\u001b[0m \u001b[0mzf\u001b[0m\u001b[0;34m:\u001b[0m\u001b[0;34m\u001b[0m\u001b[0;34m\u001b[0m\u001b[0m\n\u001b[0;32m---> 12\u001b[0;31m     \u001b[0;32mfor\u001b[0m \u001b[0mfilename\u001b[0m \u001b[0;32min\u001b[0m \u001b[0mzf\u001b[0m\u001b[0;34m.\u001b[0m\u001b[0mnamlist\u001b[0m\u001b[0;34m(\u001b[0m\u001b[0;34m)\u001b[0m\u001b[0;34m:\u001b[0m\u001b[0;34m\u001b[0m\u001b[0;34m\u001b[0m\u001b[0m\n\u001b[0m\u001b[1;32m     13\u001b[0m       \u001b[0;32mwith\u001b[0m \u001b[0mzf\u001b[0m\u001b[0;34m.\u001b[0m\u001b[0mopen\u001b[0m\u001b[0;34m(\u001b[0m\u001b[0mfilename\u001b[0m\u001b[0;34m,\u001b[0m \u001b[0;34m\"r\"\u001b[0m\u001b[0;34m)\u001b[0m \u001b[0;32mas\u001b[0m \u001b[0mf\u001b[0m\u001b[0;34m:\u001b[0m\u001b[0;34m\u001b[0m\u001b[0;34m\u001b[0m\u001b[0m\n\u001b[1;32m     14\u001b[0m         \u001b[0;32mreturn\u001b[0m \u001b[0mf\u001b[0m\u001b[0;34m.\u001b[0m\u001b[0mread\u001b[0m\u001b[0;34m(\u001b[0m\u001b[0;34m)\u001b[0m\u001b[0;34m.\u001b[0m\u001b[0mdecode\u001b[0m\u001b[0;34m(\u001b[0m\u001b[0;34m\"shift-jis\"\u001b[0m\u001b[0;34m)\u001b[0m\u001b[0;34m\u001b[0m\u001b[0;34m\u001b[0m\u001b[0m\n",
            "\u001b[0;31mAttributeError\u001b[0m: 'ZipFile' object has no attribute 'namlist'"
          ]
        }
      ]
    }
  ]
}